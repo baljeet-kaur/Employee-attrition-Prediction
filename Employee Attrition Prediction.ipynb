{
 "cells": [
  {
   "cell_type": "markdown",
   "id": "dcfbea1b",
   "metadata": {
    "id": "dcfbea1b"
   },
   "source": [
    "# HR Analytics Employee Attrition and Performance\n",
    "Predicting the attrition of your valuable employees"
   ]
  },
  {
   "cell_type": "markdown",
   "id": "zk-MAtuYaVu4",
   "metadata": {
    "id": "zk-MAtuYaVu4"
   },
   "source": [
    "## Exploratory Data Analysis (EDA)"
   ]
  },
  {
   "cell_type": "code",
   "execution_count": 118,
   "id": "rabS9Koz2fC2",
   "metadata": {
    "colab": {
     "base_uri": "https://localhost:8080/"
    },
    "executionInfo": {
     "elapsed": 5057,
     "status": "ok",
     "timestamp": 1664002826444,
     "user": {
      "displayName": "Bansal Sahil",
      "userId": "09246232949994325052"
     },
     "user_tz": -330
    },
    "id": "rabS9Koz2fC2",
    "outputId": "fc485709-eb4d-45a4-b924-c5ba4fefbe30"
   },
   "outputs": [
    {
     "name": "stdout",
     "output_type": "stream",
     "text": [
      "Drive already mounted at /content/drive; to attempt to forcibly remount, call drive.mount(\"/content/drive\", force_remount=True).\n"
     ]
    }
   ],
   "source": [
    "#As the dataset is stored on google drive, the following code connects to the google drive and mounts it.\n",
    "from google.colab import drive\n",
    "drive.mount('/content/drive')"
   ]
  },
  {
   "cell_type": "code",
   "execution_count": 119,
   "id": "344706d6",
   "metadata": {
    "executionInfo": {
     "elapsed": 15,
     "status": "ok",
     "timestamp": 1664002826444,
     "user": {
      "displayName": "Bansal Sahil",
      "userId": "09246232949994325052"
     },
     "user_tz": -330
    },
    "id": "344706d6"
   },
   "outputs": [],
   "source": [
    "#Importing Libraries\n",
    "import numpy as np\n",
    "import pandas as pd\n",
    "import matplotlib.pyplot as plt\n",
    "import seaborn as sns\n",
    "from sklearn.preprocessing import LabelEncoder \n",
    "le=LabelEncoder()"
   ]
  },
  {
   "cell_type": "code",
   "execution_count": 120,
   "id": "6ddbc834",
   "metadata": {
    "colab": {
     "base_uri": "https://localhost:8080/",
     "height": 613
    },
    "executionInfo": {
     "elapsed": 15,
     "status": "ok",
     "timestamp": 1664002826445,
     "user": {
      "displayName": "Bansal Sahil",
      "userId": "09246232949994325052"
     },
     "user_tz": -330
    },
    "id": "6ddbc834",
    "outputId": "3f27df57-e443-4e56-99e8-c1cf6915cc3d"
   },
   "outputs": [
    {
     "data": {
      "text/html": [
       "\n",
       "  <div id=\"df-5fa778c0-fa9a-4465-9679-63387442c189\">\n",
       "    <div class=\"colab-df-container\">\n",
       "      <div>\n",
       "<style scoped>\n",
       "    .dataframe tbody tr th:only-of-type {\n",
       "        vertical-align: middle;\n",
       "    }\n",
       "\n",
       "    .dataframe tbody tr th {\n",
       "        vertical-align: top;\n",
       "    }\n",
       "\n",
       "    .dataframe thead th {\n",
       "        text-align: right;\n",
       "    }\n",
       "</style>\n",
       "<table border=\"1\" class=\"dataframe\">\n",
       "  <thead>\n",
       "    <tr style=\"text-align: right;\">\n",
       "      <th></th>\n",
       "      <th>Age</th>\n",
       "      <th>Attrition</th>\n",
       "      <th>BusinessTravel</th>\n",
       "      <th>DailyRate</th>\n",
       "      <th>Department</th>\n",
       "      <th>DistanceFromHome</th>\n",
       "      <th>Education</th>\n",
       "      <th>EducationField</th>\n",
       "      <th>EmployeeCount</th>\n",
       "      <th>EmployeeNumber</th>\n",
       "      <th>...</th>\n",
       "      <th>RelationshipSatisfaction</th>\n",
       "      <th>StandardHours</th>\n",
       "      <th>StockOptionLevel</th>\n",
       "      <th>TotalWorkingYears</th>\n",
       "      <th>TrainingTimesLastYear</th>\n",
       "      <th>WorkLifeBalance</th>\n",
       "      <th>YearsAtCompany</th>\n",
       "      <th>YearsInCurrentRole</th>\n",
       "      <th>YearsSinceLastPromotion</th>\n",
       "      <th>YearsWithCurrManager</th>\n",
       "    </tr>\n",
       "  </thead>\n",
       "  <tbody>\n",
       "    <tr>\n",
       "      <th>0</th>\n",
       "      <td>41</td>\n",
       "      <td>Yes</td>\n",
       "      <td>Travel_Rarely</td>\n",
       "      <td>1102</td>\n",
       "      <td>Sales</td>\n",
       "      <td>1</td>\n",
       "      <td>2</td>\n",
       "      <td>Life Sciences</td>\n",
       "      <td>1</td>\n",
       "      <td>1</td>\n",
       "      <td>...</td>\n",
       "      <td>1</td>\n",
       "      <td>80</td>\n",
       "      <td>0</td>\n",
       "      <td>8</td>\n",
       "      <td>0</td>\n",
       "      <td>1</td>\n",
       "      <td>6</td>\n",
       "      <td>4</td>\n",
       "      <td>0</td>\n",
       "      <td>5</td>\n",
       "    </tr>\n",
       "    <tr>\n",
       "      <th>1</th>\n",
       "      <td>49</td>\n",
       "      <td>No</td>\n",
       "      <td>Travel_Frequently</td>\n",
       "      <td>279</td>\n",
       "      <td>Research &amp; Development</td>\n",
       "      <td>8</td>\n",
       "      <td>1</td>\n",
       "      <td>Life Sciences</td>\n",
       "      <td>1</td>\n",
       "      <td>2</td>\n",
       "      <td>...</td>\n",
       "      <td>4</td>\n",
       "      <td>80</td>\n",
       "      <td>1</td>\n",
       "      <td>10</td>\n",
       "      <td>3</td>\n",
       "      <td>3</td>\n",
       "      <td>10</td>\n",
       "      <td>7</td>\n",
       "      <td>1</td>\n",
       "      <td>7</td>\n",
       "    </tr>\n",
       "    <tr>\n",
       "      <th>2</th>\n",
       "      <td>37</td>\n",
       "      <td>Yes</td>\n",
       "      <td>Travel_Rarely</td>\n",
       "      <td>1373</td>\n",
       "      <td>Research &amp; Development</td>\n",
       "      <td>2</td>\n",
       "      <td>2</td>\n",
       "      <td>Other</td>\n",
       "      <td>1</td>\n",
       "      <td>4</td>\n",
       "      <td>...</td>\n",
       "      <td>2</td>\n",
       "      <td>80</td>\n",
       "      <td>0</td>\n",
       "      <td>7</td>\n",
       "      <td>3</td>\n",
       "      <td>3</td>\n",
       "      <td>0</td>\n",
       "      <td>0</td>\n",
       "      <td>0</td>\n",
       "      <td>0</td>\n",
       "    </tr>\n",
       "    <tr>\n",
       "      <th>3</th>\n",
       "      <td>33</td>\n",
       "      <td>No</td>\n",
       "      <td>Travel_Frequently</td>\n",
       "      <td>1392</td>\n",
       "      <td>Research &amp; Development</td>\n",
       "      <td>3</td>\n",
       "      <td>4</td>\n",
       "      <td>Life Sciences</td>\n",
       "      <td>1</td>\n",
       "      <td>5</td>\n",
       "      <td>...</td>\n",
       "      <td>3</td>\n",
       "      <td>80</td>\n",
       "      <td>0</td>\n",
       "      <td>8</td>\n",
       "      <td>3</td>\n",
       "      <td>3</td>\n",
       "      <td>8</td>\n",
       "      <td>7</td>\n",
       "      <td>3</td>\n",
       "      <td>0</td>\n",
       "    </tr>\n",
       "    <tr>\n",
       "      <th>4</th>\n",
       "      <td>27</td>\n",
       "      <td>No</td>\n",
       "      <td>Travel_Rarely</td>\n",
       "      <td>591</td>\n",
       "      <td>Research &amp; Development</td>\n",
       "      <td>2</td>\n",
       "      <td>1</td>\n",
       "      <td>Medical</td>\n",
       "      <td>1</td>\n",
       "      <td>7</td>\n",
       "      <td>...</td>\n",
       "      <td>4</td>\n",
       "      <td>80</td>\n",
       "      <td>1</td>\n",
       "      <td>6</td>\n",
       "      <td>3</td>\n",
       "      <td>3</td>\n",
       "      <td>2</td>\n",
       "      <td>2</td>\n",
       "      <td>2</td>\n",
       "      <td>2</td>\n",
       "    </tr>\n",
       "    <tr>\n",
       "      <th>5</th>\n",
       "      <td>32</td>\n",
       "      <td>No</td>\n",
       "      <td>Travel_Frequently</td>\n",
       "      <td>1005</td>\n",
       "      <td>Research &amp; Development</td>\n",
       "      <td>2</td>\n",
       "      <td>2</td>\n",
       "      <td>Life Sciences</td>\n",
       "      <td>1</td>\n",
       "      <td>8</td>\n",
       "      <td>...</td>\n",
       "      <td>3</td>\n",
       "      <td>80</td>\n",
       "      <td>0</td>\n",
       "      <td>8</td>\n",
       "      <td>2</td>\n",
       "      <td>2</td>\n",
       "      <td>7</td>\n",
       "      <td>7</td>\n",
       "      <td>3</td>\n",
       "      <td>6</td>\n",
       "    </tr>\n",
       "    <tr>\n",
       "      <th>6</th>\n",
       "      <td>59</td>\n",
       "      <td>No</td>\n",
       "      <td>Travel_Rarely</td>\n",
       "      <td>1324</td>\n",
       "      <td>Research &amp; Development</td>\n",
       "      <td>3</td>\n",
       "      <td>3</td>\n",
       "      <td>Medical</td>\n",
       "      <td>1</td>\n",
       "      <td>10</td>\n",
       "      <td>...</td>\n",
       "      <td>1</td>\n",
       "      <td>80</td>\n",
       "      <td>3</td>\n",
       "      <td>12</td>\n",
       "      <td>3</td>\n",
       "      <td>2</td>\n",
       "      <td>1</td>\n",
       "      <td>0</td>\n",
       "      <td>0</td>\n",
       "      <td>0</td>\n",
       "    </tr>\n",
       "    <tr>\n",
       "      <th>7</th>\n",
       "      <td>30</td>\n",
       "      <td>No</td>\n",
       "      <td>Travel_Rarely</td>\n",
       "      <td>1358</td>\n",
       "      <td>Research &amp; Development</td>\n",
       "      <td>24</td>\n",
       "      <td>1</td>\n",
       "      <td>Life Sciences</td>\n",
       "      <td>1</td>\n",
       "      <td>11</td>\n",
       "      <td>...</td>\n",
       "      <td>2</td>\n",
       "      <td>80</td>\n",
       "      <td>1</td>\n",
       "      <td>1</td>\n",
       "      <td>2</td>\n",
       "      <td>3</td>\n",
       "      <td>1</td>\n",
       "      <td>0</td>\n",
       "      <td>0</td>\n",
       "      <td>0</td>\n",
       "    </tr>\n",
       "    <tr>\n",
       "      <th>8</th>\n",
       "      <td>38</td>\n",
       "      <td>No</td>\n",
       "      <td>Travel_Frequently</td>\n",
       "      <td>216</td>\n",
       "      <td>Research &amp; Development</td>\n",
       "      <td>23</td>\n",
       "      <td>3</td>\n",
       "      <td>Life Sciences</td>\n",
       "      <td>1</td>\n",
       "      <td>12</td>\n",
       "      <td>...</td>\n",
       "      <td>2</td>\n",
       "      <td>80</td>\n",
       "      <td>0</td>\n",
       "      <td>10</td>\n",
       "      <td>2</td>\n",
       "      <td>3</td>\n",
       "      <td>9</td>\n",
       "      <td>7</td>\n",
       "      <td>1</td>\n",
       "      <td>8</td>\n",
       "    </tr>\n",
       "    <tr>\n",
       "      <th>9</th>\n",
       "      <td>36</td>\n",
       "      <td>No</td>\n",
       "      <td>Travel_Rarely</td>\n",
       "      <td>1299</td>\n",
       "      <td>Research &amp; Development</td>\n",
       "      <td>27</td>\n",
       "      <td>3</td>\n",
       "      <td>Medical</td>\n",
       "      <td>1</td>\n",
       "      <td>13</td>\n",
       "      <td>...</td>\n",
       "      <td>2</td>\n",
       "      <td>80</td>\n",
       "      <td>2</td>\n",
       "      <td>17</td>\n",
       "      <td>3</td>\n",
       "      <td>2</td>\n",
       "      <td>7</td>\n",
       "      <td>7</td>\n",
       "      <td>7</td>\n",
       "      <td>7</td>\n",
       "    </tr>\n",
       "  </tbody>\n",
       "</table>\n",
       "<p>10 rows × 35 columns</p>\n",
       "</div>\n",
       "      <button class=\"colab-df-convert\" onclick=\"convertToInteractive('df-5fa778c0-fa9a-4465-9679-63387442c189')\"\n",
       "              title=\"Convert this dataframe to an interactive table.\"\n",
       "              style=\"display:none;\">\n",
       "        \n",
       "  <svg xmlns=\"http://www.w3.org/2000/svg\" height=\"24px\"viewBox=\"0 0 24 24\"\n",
       "       width=\"24px\">\n",
       "    <path d=\"M0 0h24v24H0V0z\" fill=\"none\"/>\n",
       "    <path d=\"M18.56 5.44l.94 2.06.94-2.06 2.06-.94-2.06-.94-.94-2.06-.94 2.06-2.06.94zm-11 1L8.5 8.5l.94-2.06 2.06-.94-2.06-.94L8.5 2.5l-.94 2.06-2.06.94zm10 10l.94 2.06.94-2.06 2.06-.94-2.06-.94-.94-2.06-.94 2.06-2.06.94z\"/><path d=\"M17.41 7.96l-1.37-1.37c-.4-.4-.92-.59-1.43-.59-.52 0-1.04.2-1.43.59L10.3 9.45l-7.72 7.72c-.78.78-.78 2.05 0 2.83L4 21.41c.39.39.9.59 1.41.59.51 0 1.02-.2 1.41-.59l7.78-7.78 2.81-2.81c.8-.78.8-2.07 0-2.86zM5.41 20L4 18.59l7.72-7.72 1.47 1.35L5.41 20z\"/>\n",
       "  </svg>\n",
       "      </button>\n",
       "      \n",
       "  <style>\n",
       "    .colab-df-container {\n",
       "      display:flex;\n",
       "      flex-wrap:wrap;\n",
       "      gap: 12px;\n",
       "    }\n",
       "\n",
       "    .colab-df-convert {\n",
       "      background-color: #E8F0FE;\n",
       "      border: none;\n",
       "      border-radius: 50%;\n",
       "      cursor: pointer;\n",
       "      display: none;\n",
       "      fill: #1967D2;\n",
       "      height: 32px;\n",
       "      padding: 0 0 0 0;\n",
       "      width: 32px;\n",
       "    }\n",
       "\n",
       "    .colab-df-convert:hover {\n",
       "      background-color: #E2EBFA;\n",
       "      box-shadow: 0px 1px 2px rgba(60, 64, 67, 0.3), 0px 1px 3px 1px rgba(60, 64, 67, 0.15);\n",
       "      fill: #174EA6;\n",
       "    }\n",
       "\n",
       "    [theme=dark] .colab-df-convert {\n",
       "      background-color: #3B4455;\n",
       "      fill: #D2E3FC;\n",
       "    }\n",
       "\n",
       "    [theme=dark] .colab-df-convert:hover {\n",
       "      background-color: #434B5C;\n",
       "      box-shadow: 0px 1px 3px 1px rgba(0, 0, 0, 0.15);\n",
       "      filter: drop-shadow(0px 1px 2px rgba(0, 0, 0, 0.3));\n",
       "      fill: #FFFFFF;\n",
       "    }\n",
       "  </style>\n",
       "\n",
       "      <script>\n",
       "        const buttonEl =\n",
       "          document.querySelector('#df-5fa778c0-fa9a-4465-9679-63387442c189 button.colab-df-convert');\n",
       "        buttonEl.style.display =\n",
       "          google.colab.kernel.accessAllowed ? 'block' : 'none';\n",
       "\n",
       "        async function convertToInteractive(key) {\n",
       "          const element = document.querySelector('#df-5fa778c0-fa9a-4465-9679-63387442c189');\n",
       "          const dataTable =\n",
       "            await google.colab.kernel.invokeFunction('convertToInteractive',\n",
       "                                                     [key], {});\n",
       "          if (!dataTable) return;\n",
       "\n",
       "          const docLinkHtml = 'Like what you see? Visit the ' +\n",
       "            '<a target=\"_blank\" href=https://colab.research.google.com/notebooks/data_table.ipynb>data table notebook</a>'\n",
       "            + ' to learn more about interactive tables.';\n",
       "          element.innerHTML = '';\n",
       "          dataTable['output_type'] = 'display_data';\n",
       "          await google.colab.output.renderOutput(dataTable, element);\n",
       "          const docLink = document.createElement('div');\n",
       "          docLink.innerHTML = docLinkHtml;\n",
       "          element.appendChild(docLink);\n",
       "        }\n",
       "      </script>\n",
       "    </div>\n",
       "  </div>\n",
       "  "
      ],
      "text/plain": [
       "   Age Attrition     BusinessTravel  DailyRate              Department  \\\n",
       "0   41       Yes      Travel_Rarely       1102                   Sales   \n",
       "1   49        No  Travel_Frequently        279  Research & Development   \n",
       "2   37       Yes      Travel_Rarely       1373  Research & Development   \n",
       "3   33        No  Travel_Frequently       1392  Research & Development   \n",
       "4   27        No      Travel_Rarely        591  Research & Development   \n",
       "5   32        No  Travel_Frequently       1005  Research & Development   \n",
       "6   59        No      Travel_Rarely       1324  Research & Development   \n",
       "7   30        No      Travel_Rarely       1358  Research & Development   \n",
       "8   38        No  Travel_Frequently        216  Research & Development   \n",
       "9   36        No      Travel_Rarely       1299  Research & Development   \n",
       "\n",
       "   DistanceFromHome  Education EducationField  EmployeeCount  EmployeeNumber  \\\n",
       "0                 1          2  Life Sciences              1               1   \n",
       "1                 8          1  Life Sciences              1               2   \n",
       "2                 2          2          Other              1               4   \n",
       "3                 3          4  Life Sciences              1               5   \n",
       "4                 2          1        Medical              1               7   \n",
       "5                 2          2  Life Sciences              1               8   \n",
       "6                 3          3        Medical              1              10   \n",
       "7                24          1  Life Sciences              1              11   \n",
       "8                23          3  Life Sciences              1              12   \n",
       "9                27          3        Medical              1              13   \n",
       "\n",
       "   ...  RelationshipSatisfaction StandardHours  StockOptionLevel  \\\n",
       "0  ...                         1            80                 0   \n",
       "1  ...                         4            80                 1   \n",
       "2  ...                         2            80                 0   \n",
       "3  ...                         3            80                 0   \n",
       "4  ...                         4            80                 1   \n",
       "5  ...                         3            80                 0   \n",
       "6  ...                         1            80                 3   \n",
       "7  ...                         2            80                 1   \n",
       "8  ...                         2            80                 0   \n",
       "9  ...                         2            80                 2   \n",
       "\n",
       "   TotalWorkingYears  TrainingTimesLastYear WorkLifeBalance  YearsAtCompany  \\\n",
       "0                  8                      0               1               6   \n",
       "1                 10                      3               3              10   \n",
       "2                  7                      3               3               0   \n",
       "3                  8                      3               3               8   \n",
       "4                  6                      3               3               2   \n",
       "5                  8                      2               2               7   \n",
       "6                 12                      3               2               1   \n",
       "7                  1                      2               3               1   \n",
       "8                 10                      2               3               9   \n",
       "9                 17                      3               2               7   \n",
       "\n",
       "  YearsInCurrentRole  YearsSinceLastPromotion  YearsWithCurrManager  \n",
       "0                  4                        0                     5  \n",
       "1                  7                        1                     7  \n",
       "2                  0                        0                     0  \n",
       "3                  7                        3                     0  \n",
       "4                  2                        2                     2  \n",
       "5                  7                        3                     6  \n",
       "6                  0                        0                     0  \n",
       "7                  0                        0                     0  \n",
       "8                  7                        1                     8  \n",
       "9                  7                        7                     7  \n",
       "\n",
       "[10 rows x 35 columns]"
      ]
     },
     "execution_count": 120,
     "metadata": {},
     "output_type": "execute_result"
    }
   ],
   "source": [
    "#Reading the dataset into a dataframe\n",
    "main_df=pd.read_csv(\"/content/drive/MyDrive/MSc. (CA)/Academics/Second Year/Semester 3/Machine Learning Algorithms/Case Study/Employees.csv\")\n",
    "\n",
    "#Displaying the first 10 rows of the dataset\n",
    "main_df.head(10)"
   ]
  },
  {
   "cell_type": "code",
   "execution_count": 121,
   "id": "cf51401c",
   "metadata": {
    "colab": {
     "base_uri": "https://localhost:8080/",
     "height": 394
    },
    "executionInfo": {
     "elapsed": 14,
     "status": "ok",
     "timestamp": 1664002826445,
     "user": {
      "displayName": "Bansal Sahil",
      "userId": "09246232949994325052"
     },
     "user_tz": -330
    },
    "id": "cf51401c",
    "outputId": "039cb737-4d52-4cae-9039-af5351667011"
   },
   "outputs": [
    {
     "data": {
      "text/html": [
       "\n",
       "  <div id=\"df-a37da55b-51ed-433b-9ab8-cbaf6dae9219\">\n",
       "    <div class=\"colab-df-container\">\n",
       "      <div>\n",
       "<style scoped>\n",
       "    .dataframe tbody tr th:only-of-type {\n",
       "        vertical-align: middle;\n",
       "    }\n",
       "\n",
       "    .dataframe tbody tr th {\n",
       "        vertical-align: top;\n",
       "    }\n",
       "\n",
       "    .dataframe thead th {\n",
       "        text-align: right;\n",
       "    }\n",
       "</style>\n",
       "<table border=\"1\" class=\"dataframe\">\n",
       "  <thead>\n",
       "    <tr style=\"text-align: right;\">\n",
       "      <th></th>\n",
       "      <th>Age</th>\n",
       "      <th>DailyRate</th>\n",
       "      <th>DistanceFromHome</th>\n",
       "      <th>Education</th>\n",
       "      <th>EmployeeCount</th>\n",
       "      <th>EmployeeNumber</th>\n",
       "      <th>EnvironmentSatisfaction</th>\n",
       "      <th>HourlyRate</th>\n",
       "      <th>JobInvolvement</th>\n",
       "      <th>JobLevel</th>\n",
       "      <th>...</th>\n",
       "      <th>RelationshipSatisfaction</th>\n",
       "      <th>StandardHours</th>\n",
       "      <th>StockOptionLevel</th>\n",
       "      <th>TotalWorkingYears</th>\n",
       "      <th>TrainingTimesLastYear</th>\n",
       "      <th>WorkLifeBalance</th>\n",
       "      <th>YearsAtCompany</th>\n",
       "      <th>YearsInCurrentRole</th>\n",
       "      <th>YearsSinceLastPromotion</th>\n",
       "      <th>YearsWithCurrManager</th>\n",
       "    </tr>\n",
       "  </thead>\n",
       "  <tbody>\n",
       "    <tr>\n",
       "      <th>count</th>\n",
       "      <td>1470.000000</td>\n",
       "      <td>1470.000000</td>\n",
       "      <td>1470.000000</td>\n",
       "      <td>1470.000000</td>\n",
       "      <td>1470.0</td>\n",
       "      <td>1470.000000</td>\n",
       "      <td>1470.000000</td>\n",
       "      <td>1470.000000</td>\n",
       "      <td>1470.000000</td>\n",
       "      <td>1470.000000</td>\n",
       "      <td>...</td>\n",
       "      <td>1470.000000</td>\n",
       "      <td>1470.0</td>\n",
       "      <td>1470.000000</td>\n",
       "      <td>1470.000000</td>\n",
       "      <td>1470.000000</td>\n",
       "      <td>1470.000000</td>\n",
       "      <td>1470.000000</td>\n",
       "      <td>1470.000000</td>\n",
       "      <td>1470.000000</td>\n",
       "      <td>1470.000000</td>\n",
       "    </tr>\n",
       "    <tr>\n",
       "      <th>mean</th>\n",
       "      <td>36.923810</td>\n",
       "      <td>802.485714</td>\n",
       "      <td>9.192517</td>\n",
       "      <td>2.912925</td>\n",
       "      <td>1.0</td>\n",
       "      <td>1024.865306</td>\n",
       "      <td>2.721769</td>\n",
       "      <td>65.891156</td>\n",
       "      <td>2.729932</td>\n",
       "      <td>2.063946</td>\n",
       "      <td>...</td>\n",
       "      <td>2.712245</td>\n",
       "      <td>80.0</td>\n",
       "      <td>0.793878</td>\n",
       "      <td>11.279592</td>\n",
       "      <td>2.799320</td>\n",
       "      <td>2.761224</td>\n",
       "      <td>7.008163</td>\n",
       "      <td>4.229252</td>\n",
       "      <td>2.187755</td>\n",
       "      <td>4.123129</td>\n",
       "    </tr>\n",
       "    <tr>\n",
       "      <th>std</th>\n",
       "      <td>9.135373</td>\n",
       "      <td>403.509100</td>\n",
       "      <td>8.106864</td>\n",
       "      <td>1.024165</td>\n",
       "      <td>0.0</td>\n",
       "      <td>602.024335</td>\n",
       "      <td>1.093082</td>\n",
       "      <td>20.329428</td>\n",
       "      <td>0.711561</td>\n",
       "      <td>1.106940</td>\n",
       "      <td>...</td>\n",
       "      <td>1.081209</td>\n",
       "      <td>0.0</td>\n",
       "      <td>0.852077</td>\n",
       "      <td>7.780782</td>\n",
       "      <td>1.289271</td>\n",
       "      <td>0.706476</td>\n",
       "      <td>6.126525</td>\n",
       "      <td>3.623137</td>\n",
       "      <td>3.222430</td>\n",
       "      <td>3.568136</td>\n",
       "    </tr>\n",
       "    <tr>\n",
       "      <th>min</th>\n",
       "      <td>18.000000</td>\n",
       "      <td>102.000000</td>\n",
       "      <td>1.000000</td>\n",
       "      <td>1.000000</td>\n",
       "      <td>1.0</td>\n",
       "      <td>1.000000</td>\n",
       "      <td>1.000000</td>\n",
       "      <td>30.000000</td>\n",
       "      <td>1.000000</td>\n",
       "      <td>1.000000</td>\n",
       "      <td>...</td>\n",
       "      <td>1.000000</td>\n",
       "      <td>80.0</td>\n",
       "      <td>0.000000</td>\n",
       "      <td>0.000000</td>\n",
       "      <td>0.000000</td>\n",
       "      <td>1.000000</td>\n",
       "      <td>0.000000</td>\n",
       "      <td>0.000000</td>\n",
       "      <td>0.000000</td>\n",
       "      <td>0.000000</td>\n",
       "    </tr>\n",
       "    <tr>\n",
       "      <th>25%</th>\n",
       "      <td>30.000000</td>\n",
       "      <td>465.000000</td>\n",
       "      <td>2.000000</td>\n",
       "      <td>2.000000</td>\n",
       "      <td>1.0</td>\n",
       "      <td>491.250000</td>\n",
       "      <td>2.000000</td>\n",
       "      <td>48.000000</td>\n",
       "      <td>2.000000</td>\n",
       "      <td>1.000000</td>\n",
       "      <td>...</td>\n",
       "      <td>2.000000</td>\n",
       "      <td>80.0</td>\n",
       "      <td>0.000000</td>\n",
       "      <td>6.000000</td>\n",
       "      <td>2.000000</td>\n",
       "      <td>2.000000</td>\n",
       "      <td>3.000000</td>\n",
       "      <td>2.000000</td>\n",
       "      <td>0.000000</td>\n",
       "      <td>2.000000</td>\n",
       "    </tr>\n",
       "    <tr>\n",
       "      <th>50%</th>\n",
       "      <td>36.000000</td>\n",
       "      <td>802.000000</td>\n",
       "      <td>7.000000</td>\n",
       "      <td>3.000000</td>\n",
       "      <td>1.0</td>\n",
       "      <td>1020.500000</td>\n",
       "      <td>3.000000</td>\n",
       "      <td>66.000000</td>\n",
       "      <td>3.000000</td>\n",
       "      <td>2.000000</td>\n",
       "      <td>...</td>\n",
       "      <td>3.000000</td>\n",
       "      <td>80.0</td>\n",
       "      <td>1.000000</td>\n",
       "      <td>10.000000</td>\n",
       "      <td>3.000000</td>\n",
       "      <td>3.000000</td>\n",
       "      <td>5.000000</td>\n",
       "      <td>3.000000</td>\n",
       "      <td>1.000000</td>\n",
       "      <td>3.000000</td>\n",
       "    </tr>\n",
       "    <tr>\n",
       "      <th>75%</th>\n",
       "      <td>43.000000</td>\n",
       "      <td>1157.000000</td>\n",
       "      <td>14.000000</td>\n",
       "      <td>4.000000</td>\n",
       "      <td>1.0</td>\n",
       "      <td>1555.750000</td>\n",
       "      <td>4.000000</td>\n",
       "      <td>83.750000</td>\n",
       "      <td>3.000000</td>\n",
       "      <td>3.000000</td>\n",
       "      <td>...</td>\n",
       "      <td>4.000000</td>\n",
       "      <td>80.0</td>\n",
       "      <td>1.000000</td>\n",
       "      <td>15.000000</td>\n",
       "      <td>3.000000</td>\n",
       "      <td>3.000000</td>\n",
       "      <td>9.000000</td>\n",
       "      <td>7.000000</td>\n",
       "      <td>3.000000</td>\n",
       "      <td>7.000000</td>\n",
       "    </tr>\n",
       "    <tr>\n",
       "      <th>max</th>\n",
       "      <td>60.000000</td>\n",
       "      <td>1499.000000</td>\n",
       "      <td>29.000000</td>\n",
       "      <td>5.000000</td>\n",
       "      <td>1.0</td>\n",
       "      <td>2068.000000</td>\n",
       "      <td>4.000000</td>\n",
       "      <td>100.000000</td>\n",
       "      <td>4.000000</td>\n",
       "      <td>5.000000</td>\n",
       "      <td>...</td>\n",
       "      <td>4.000000</td>\n",
       "      <td>80.0</td>\n",
       "      <td>3.000000</td>\n",
       "      <td>40.000000</td>\n",
       "      <td>6.000000</td>\n",
       "      <td>4.000000</td>\n",
       "      <td>40.000000</td>\n",
       "      <td>18.000000</td>\n",
       "      <td>15.000000</td>\n",
       "      <td>17.000000</td>\n",
       "    </tr>\n",
       "  </tbody>\n",
       "</table>\n",
       "<p>8 rows × 26 columns</p>\n",
       "</div>\n",
       "      <button class=\"colab-df-convert\" onclick=\"convertToInteractive('df-a37da55b-51ed-433b-9ab8-cbaf6dae9219')\"\n",
       "              title=\"Convert this dataframe to an interactive table.\"\n",
       "              style=\"display:none;\">\n",
       "        \n",
       "  <svg xmlns=\"http://www.w3.org/2000/svg\" height=\"24px\"viewBox=\"0 0 24 24\"\n",
       "       width=\"24px\">\n",
       "    <path d=\"M0 0h24v24H0V0z\" fill=\"none\"/>\n",
       "    <path d=\"M18.56 5.44l.94 2.06.94-2.06 2.06-.94-2.06-.94-.94-2.06-.94 2.06-2.06.94zm-11 1L8.5 8.5l.94-2.06 2.06-.94-2.06-.94L8.5 2.5l-.94 2.06-2.06.94zm10 10l.94 2.06.94-2.06 2.06-.94-2.06-.94-.94-2.06-.94 2.06-2.06.94z\"/><path d=\"M17.41 7.96l-1.37-1.37c-.4-.4-.92-.59-1.43-.59-.52 0-1.04.2-1.43.59L10.3 9.45l-7.72 7.72c-.78.78-.78 2.05 0 2.83L4 21.41c.39.39.9.59 1.41.59.51 0 1.02-.2 1.41-.59l7.78-7.78 2.81-2.81c.8-.78.8-2.07 0-2.86zM5.41 20L4 18.59l7.72-7.72 1.47 1.35L5.41 20z\"/>\n",
       "  </svg>\n",
       "      </button>\n",
       "      \n",
       "  <style>\n",
       "    .colab-df-container {\n",
       "      display:flex;\n",
       "      flex-wrap:wrap;\n",
       "      gap: 12px;\n",
       "    }\n",
       "\n",
       "    .colab-df-convert {\n",
       "      background-color: #E8F0FE;\n",
       "      border: none;\n",
       "      border-radius: 50%;\n",
       "      cursor: pointer;\n",
       "      display: none;\n",
       "      fill: #1967D2;\n",
       "      height: 32px;\n",
       "      padding: 0 0 0 0;\n",
       "      width: 32px;\n",
       "    }\n",
       "\n",
       "    .colab-df-convert:hover {\n",
       "      background-color: #E2EBFA;\n",
       "      box-shadow: 0px 1px 2px rgba(60, 64, 67, 0.3), 0px 1px 3px 1px rgba(60, 64, 67, 0.15);\n",
       "      fill: #174EA6;\n",
       "    }\n",
       "\n",
       "    [theme=dark] .colab-df-convert {\n",
       "      background-color: #3B4455;\n",
       "      fill: #D2E3FC;\n",
       "    }\n",
       "\n",
       "    [theme=dark] .colab-df-convert:hover {\n",
       "      background-color: #434B5C;\n",
       "      box-shadow: 0px 1px 3px 1px rgba(0, 0, 0, 0.15);\n",
       "      filter: drop-shadow(0px 1px 2px rgba(0, 0, 0, 0.3));\n",
       "      fill: #FFFFFF;\n",
       "    }\n",
       "  </style>\n",
       "\n",
       "      <script>\n",
       "        const buttonEl =\n",
       "          document.querySelector('#df-a37da55b-51ed-433b-9ab8-cbaf6dae9219 button.colab-df-convert');\n",
       "        buttonEl.style.display =\n",
       "          google.colab.kernel.accessAllowed ? 'block' : 'none';\n",
       "\n",
       "        async function convertToInteractive(key) {\n",
       "          const element = document.querySelector('#df-a37da55b-51ed-433b-9ab8-cbaf6dae9219');\n",
       "          const dataTable =\n",
       "            await google.colab.kernel.invokeFunction('convertToInteractive',\n",
       "                                                     [key], {});\n",
       "          if (!dataTable) return;\n",
       "\n",
       "          const docLinkHtml = 'Like what you see? Visit the ' +\n",
       "            '<a target=\"_blank\" href=https://colab.research.google.com/notebooks/data_table.ipynb>data table notebook</a>'\n",
       "            + ' to learn more about interactive tables.';\n",
       "          element.innerHTML = '';\n",
       "          dataTable['output_type'] = 'display_data';\n",
       "          await google.colab.output.renderOutput(dataTable, element);\n",
       "          const docLink = document.createElement('div');\n",
       "          docLink.innerHTML = docLinkHtml;\n",
       "          element.appendChild(docLink);\n",
       "        }\n",
       "      </script>\n",
       "    </div>\n",
       "  </div>\n",
       "  "
      ],
      "text/plain": [
       "               Age    DailyRate  DistanceFromHome    Education  EmployeeCount  \\\n",
       "count  1470.000000  1470.000000       1470.000000  1470.000000         1470.0   \n",
       "mean     36.923810   802.485714          9.192517     2.912925            1.0   \n",
       "std       9.135373   403.509100          8.106864     1.024165            0.0   \n",
       "min      18.000000   102.000000          1.000000     1.000000            1.0   \n",
       "25%      30.000000   465.000000          2.000000     2.000000            1.0   \n",
       "50%      36.000000   802.000000          7.000000     3.000000            1.0   \n",
       "75%      43.000000  1157.000000         14.000000     4.000000            1.0   \n",
       "max      60.000000  1499.000000         29.000000     5.000000            1.0   \n",
       "\n",
       "       EmployeeNumber  EnvironmentSatisfaction   HourlyRate  JobInvolvement  \\\n",
       "count     1470.000000              1470.000000  1470.000000     1470.000000   \n",
       "mean      1024.865306                 2.721769    65.891156        2.729932   \n",
       "std        602.024335                 1.093082    20.329428        0.711561   \n",
       "min          1.000000                 1.000000    30.000000        1.000000   \n",
       "25%        491.250000                 2.000000    48.000000        2.000000   \n",
       "50%       1020.500000                 3.000000    66.000000        3.000000   \n",
       "75%       1555.750000                 4.000000    83.750000        3.000000   \n",
       "max       2068.000000                 4.000000   100.000000        4.000000   \n",
       "\n",
       "          JobLevel  ...  RelationshipSatisfaction  StandardHours  \\\n",
       "count  1470.000000  ...               1470.000000         1470.0   \n",
       "mean      2.063946  ...                  2.712245           80.0   \n",
       "std       1.106940  ...                  1.081209            0.0   \n",
       "min       1.000000  ...                  1.000000           80.0   \n",
       "25%       1.000000  ...                  2.000000           80.0   \n",
       "50%       2.000000  ...                  3.000000           80.0   \n",
       "75%       3.000000  ...                  4.000000           80.0   \n",
       "max       5.000000  ...                  4.000000           80.0   \n",
       "\n",
       "       StockOptionLevel  TotalWorkingYears  TrainingTimesLastYear  \\\n",
       "count       1470.000000        1470.000000            1470.000000   \n",
       "mean           0.793878          11.279592               2.799320   \n",
       "std            0.852077           7.780782               1.289271   \n",
       "min            0.000000           0.000000               0.000000   \n",
       "25%            0.000000           6.000000               2.000000   \n",
       "50%            1.000000          10.000000               3.000000   \n",
       "75%            1.000000          15.000000               3.000000   \n",
       "max            3.000000          40.000000               6.000000   \n",
       "\n",
       "       WorkLifeBalance  YearsAtCompany  YearsInCurrentRole  \\\n",
       "count      1470.000000     1470.000000         1470.000000   \n",
       "mean          2.761224        7.008163            4.229252   \n",
       "std           0.706476        6.126525            3.623137   \n",
       "min           1.000000        0.000000            0.000000   \n",
       "25%           2.000000        3.000000            2.000000   \n",
       "50%           3.000000        5.000000            3.000000   \n",
       "75%           3.000000        9.000000            7.000000   \n",
       "max           4.000000       40.000000           18.000000   \n",
       "\n",
       "       YearsSinceLastPromotion  YearsWithCurrManager  \n",
       "count              1470.000000           1470.000000  \n",
       "mean                  2.187755              4.123129  \n",
       "std                   3.222430              3.568136  \n",
       "min                   0.000000              0.000000  \n",
       "25%                   0.000000              2.000000  \n",
       "50%                   1.000000              3.000000  \n",
       "75%                   3.000000              7.000000  \n",
       "max                  15.000000             17.000000  \n",
       "\n",
       "[8 rows x 26 columns]"
      ]
     },
     "execution_count": 121,
     "metadata": {},
     "output_type": "execute_result"
    }
   ],
   "source": [
    "#Descriptive Analytics on Numerical Columns in the dataframe\n",
    "main_df.describe()"
   ]
  },
  {
   "cell_type": "markdown",
   "id": "e90a5c37",
   "metadata": {
    "id": "e90a5c37"
   },
   "source": [
    "As Observed, There are no missing values in all the columns."
   ]
  },
  {
   "cell_type": "code",
   "execution_count": 122,
   "id": "badb3828",
   "metadata": {
    "colab": {
     "base_uri": "https://localhost:8080/"
    },
    "executionInfo": {
     "elapsed": 14,
     "status": "ok",
     "timestamp": 1664002826445,
     "user": {
      "displayName": "Bansal Sahil",
      "userId": "09246232949994325052"
     },
     "user_tz": -330
    },
    "id": "badb3828",
    "outputId": "af4dacf3-baa6-4d4f-8d79-cffbe42f2f7c"
   },
   "outputs": [
    {
     "data": {
      "text/plain": [
       "(1470, 35)"
      ]
     },
     "execution_count": 122,
     "metadata": {},
     "output_type": "execute_result"
    }
   ],
   "source": [
    "#Displaying the number of records and attributes in the dataframe\n",
    "main_df.shape"
   ]
  },
  {
   "cell_type": "code",
   "execution_count": 123,
   "id": "226b9359",
   "metadata": {
    "colab": {
     "base_uri": "https://localhost:8080/"
    },
    "executionInfo": {
     "elapsed": 12,
     "status": "ok",
     "timestamp": 1664002826445,
     "user": {
      "displayName": "Bansal Sahil",
      "userId": "09246232949994325052"
     },
     "user_tz": -330
    },
    "id": "226b9359",
    "outputId": "c40b8685-e3b2-4fde-cadf-5a015202234e",
    "scrolled": true
   },
   "outputs": [
    {
     "name": "stdout",
     "output_type": "stream",
     "text": [
      "<class 'pandas.core.frame.DataFrame'>\n",
      "RangeIndex: 1470 entries, 0 to 1469\n",
      "Data columns (total 35 columns):\n",
      " #   Column                    Non-Null Count  Dtype \n",
      "---  ------                    --------------  ----- \n",
      " 0   Age                       1470 non-null   int64 \n",
      " 1   Attrition                 1470 non-null   object\n",
      " 2   BusinessTravel            1470 non-null   object\n",
      " 3   DailyRate                 1470 non-null   int64 \n",
      " 4   Department                1470 non-null   object\n",
      " 5   DistanceFromHome          1470 non-null   int64 \n",
      " 6   Education                 1470 non-null   int64 \n",
      " 7   EducationField            1470 non-null   object\n",
      " 8   EmployeeCount             1470 non-null   int64 \n",
      " 9   EmployeeNumber            1470 non-null   int64 \n",
      " 10  EnvironmentSatisfaction   1470 non-null   int64 \n",
      " 11  Gender                    1470 non-null   object\n",
      " 12  HourlyRate                1470 non-null   int64 \n",
      " 13  JobInvolvement            1470 non-null   int64 \n",
      " 14  JobLevel                  1470 non-null   int64 \n",
      " 15  JobRole                   1470 non-null   object\n",
      " 16  JobSatisfaction           1470 non-null   int64 \n",
      " 17  MaritalStatus             1470 non-null   object\n",
      " 18  MonthlyIncome             1470 non-null   int64 \n",
      " 19  MonthlyRate               1470 non-null   int64 \n",
      " 20  NumCompaniesWorked        1470 non-null   int64 \n",
      " 21  Over18                    1470 non-null   object\n",
      " 22  OverTime                  1470 non-null   object\n",
      " 23  PercentSalaryHike         1470 non-null   int64 \n",
      " 24  PerformanceRating         1470 non-null   int64 \n",
      " 25  RelationshipSatisfaction  1470 non-null   int64 \n",
      " 26  StandardHours             1470 non-null   int64 \n",
      " 27  StockOptionLevel          1470 non-null   int64 \n",
      " 28  TotalWorkingYears         1470 non-null   int64 \n",
      " 29  TrainingTimesLastYear     1470 non-null   int64 \n",
      " 30  WorkLifeBalance           1470 non-null   int64 \n",
      " 31  YearsAtCompany            1470 non-null   int64 \n",
      " 32  YearsInCurrentRole        1470 non-null   int64 \n",
      " 33  YearsSinceLastPromotion   1470 non-null   int64 \n",
      " 34  YearsWithCurrManager      1470 non-null   int64 \n",
      "dtypes: int64(26), object(9)\n",
      "memory usage: 402.1+ KB\n"
     ]
    }
   ],
   "source": [
    "#Displaying additional information about the dataframe about the attributes, non-null values and datatype\n",
    "main_df.info()"
   ]
  },
  {
   "cell_type": "code",
   "execution_count": 124,
   "id": "3f70aeb2",
   "metadata": {
    "colab": {
     "base_uri": "https://localhost:8080/"
    },
    "executionInfo": {
     "elapsed": 11,
     "status": "ok",
     "timestamp": 1664002826445,
     "user": {
      "displayName": "Bansal Sahil",
      "userId": "09246232949994325052"
     },
     "user_tz": -330
    },
    "id": "3f70aeb2",
    "outputId": "b9046a08-ca43-4528-d60e-fa2c7c0fbcb4"
   },
   "outputs": [
    {
     "data": {
      "text/plain": [
       "Age                         0\n",
       "Attrition                   0\n",
       "BusinessTravel              0\n",
       "DailyRate                   0\n",
       "Department                  0\n",
       "DistanceFromHome            0\n",
       "Education                   0\n",
       "EducationField              0\n",
       "EmployeeCount               0\n",
       "EmployeeNumber              0\n",
       "EnvironmentSatisfaction     0\n",
       "Gender                      0\n",
       "HourlyRate                  0\n",
       "JobInvolvement              0\n",
       "JobLevel                    0\n",
       "JobRole                     0\n",
       "JobSatisfaction             0\n",
       "MaritalStatus               0\n",
       "MonthlyIncome               0\n",
       "MonthlyRate                 0\n",
       "NumCompaniesWorked          0\n",
       "Over18                      0\n",
       "OverTime                    0\n",
       "PercentSalaryHike           0\n",
       "PerformanceRating           0\n",
       "RelationshipSatisfaction    0\n",
       "StandardHours               0\n",
       "StockOptionLevel            0\n",
       "TotalWorkingYears           0\n",
       "TrainingTimesLastYear       0\n",
       "WorkLifeBalance             0\n",
       "YearsAtCompany              0\n",
       "YearsInCurrentRole          0\n",
       "YearsSinceLastPromotion     0\n",
       "YearsWithCurrManager        0\n",
       "dtype: int64"
      ]
     },
     "execution_count": 124,
     "metadata": {},
     "output_type": "execute_result"
    }
   ],
   "source": [
    "#Checking for any null values or records in the dataset\n",
    "main_df.isnull().sum()"
   ]
  },
  {
   "cell_type": "code",
   "execution_count": 125,
   "id": "f2a952ee",
   "metadata": {
    "colab": {
     "base_uri": "https://localhost:8080/"
    },
    "executionInfo": {
     "elapsed": 10,
     "status": "ok",
     "timestamp": 1664002826445,
     "user": {
      "displayName": "Bansal Sahil",
      "userId": "09246232949994325052"
     },
     "user_tz": -330
    },
    "id": "f2a952ee",
    "outputId": "e4753621-726f-44ee-b8a2-443f509d5d7f"
   },
   "outputs": [
    {
     "data": {
      "text/plain": [
       "Age                           43\n",
       "Attrition                      2\n",
       "BusinessTravel                 3\n",
       "DailyRate                    886\n",
       "Department                     3\n",
       "DistanceFromHome              29\n",
       "Education                      5\n",
       "EducationField                 6\n",
       "EmployeeCount                  1\n",
       "EmployeeNumber              1470\n",
       "EnvironmentSatisfaction        4\n",
       "Gender                         2\n",
       "HourlyRate                    71\n",
       "JobInvolvement                 4\n",
       "JobLevel                       5\n",
       "JobRole                        9\n",
       "JobSatisfaction                4\n",
       "MaritalStatus                  3\n",
       "MonthlyIncome               1349\n",
       "MonthlyRate                 1427\n",
       "NumCompaniesWorked            10\n",
       "Over18                         1\n",
       "OverTime                       2\n",
       "PercentSalaryHike             15\n",
       "PerformanceRating              2\n",
       "RelationshipSatisfaction       4\n",
       "StandardHours                  1\n",
       "StockOptionLevel               4\n",
       "TotalWorkingYears             40\n",
       "TrainingTimesLastYear          7\n",
       "WorkLifeBalance                4\n",
       "YearsAtCompany                37\n",
       "YearsInCurrentRole            19\n",
       "YearsSinceLastPromotion       16\n",
       "YearsWithCurrManager          18\n",
       "dtype: int64"
      ]
     },
     "execution_count": 125,
     "metadata": {},
     "output_type": "execute_result"
    }
   ],
   "source": [
    "#Checking Unique values by Attributes\n",
    "main_df.apply(lambda x : len(x.unique()))"
   ]
  },
  {
   "cell_type": "code",
   "execution_count": 126,
   "id": "ef94d2e1",
   "metadata": {
    "colab": {
     "base_uri": "https://localhost:8080/"
    },
    "executionInfo": {
     "elapsed": 9,
     "status": "ok",
     "timestamp": 1664002826445,
     "user": {
      "displayName": "Bansal Sahil",
      "userId": "09246232949994325052"
     },
     "user_tz": -330
    },
    "id": "ef94d2e1",
    "outputId": "aa1635d8-11ad-4b06-85cd-1b0de24decaa"
   },
   "outputs": [
    {
     "data": {
      "text/plain": [
       "['Attrition',\n",
       " 'BusinessTravel',\n",
       " 'Department',\n",
       " 'EducationField',\n",
       " 'Gender',\n",
       " 'JobRole',\n",
       " 'MaritalStatus',\n",
       " 'Over18',\n",
       " 'OverTime']"
      ]
     },
     "execution_count": 126,
     "metadata": {},
     "output_type": "execute_result"
    }
   ],
   "source": [
    "#Check for Categorical Attributes\n",
    "cat_column=[]\n",
    "for x in main_df.dtypes.index:\n",
    "    if(main_df.dtypes[x]=='object'):\n",
    "        cat_column.append(x)\n",
    "cat_column"
   ]
  },
  {
   "cell_type": "code",
   "execution_count": 127,
   "id": "3595bd10",
   "metadata": {
    "colab": {
     "base_uri": "https://localhost:8080/"
    },
    "executionInfo": {
     "elapsed": 8,
     "status": "ok",
     "timestamp": 1664002826445,
     "user": {
      "displayName": "Bansal Sahil",
      "userId": "09246232949994325052"
     },
     "user_tz": -330
    },
    "id": "3595bd10",
    "outputId": "15d593c2-c424-48e7-8f93-0c52a7e2f12c"
   },
   "outputs": [
    {
     "name": "stdout",
     "output_type": "stream",
     "text": [
      "No     1233\n",
      "Yes     237\n",
      "Name: Attrition, dtype: int64 \n",
      "\n",
      "Travel_Rarely        1043\n",
      "Travel_Frequently     277\n",
      "Non-Travel            150\n",
      "Name: BusinessTravel, dtype: int64 \n",
      "\n",
      "Research & Development    961\n",
      "Sales                     446\n",
      "Human Resources            63\n",
      "Name: Department, dtype: int64 \n",
      "\n",
      "Life Sciences       606\n",
      "Medical             464\n",
      "Marketing           159\n",
      "Technical Degree    132\n",
      "Other                82\n",
      "Human Resources      27\n",
      "Name: EducationField, dtype: int64 \n",
      "\n",
      "Male      882\n",
      "Female    588\n",
      "Name: Gender, dtype: int64 \n",
      "\n",
      "Sales Executive              326\n",
      "Research Scientist           292\n",
      "Laboratory Technician        259\n",
      "Manufacturing Director       145\n",
      "Healthcare Representative    131\n",
      "Manager                      102\n",
      "Sales Representative          83\n",
      "Research Director             80\n",
      "Human Resources               52\n",
      "Name: JobRole, dtype: int64 \n",
      "\n",
      "Married     673\n",
      "Single      470\n",
      "Divorced    327\n",
      "Name: MaritalStatus, dtype: int64 \n",
      "\n",
      "Y    1470\n",
      "Name: Over18, dtype: int64 \n",
      "\n",
      "No     1054\n",
      "Yes     416\n",
      "Name: OverTime, dtype: int64 \n",
      "\n"
     ]
    }
   ],
   "source": [
    "for x in cat_column:\n",
    "    print(main_df[x].value_counts(),\"\\n\")"
   ]
  },
  {
   "cell_type": "markdown",
   "id": "b1cd3e30",
   "metadata": {
    "id": "b1cd3e30"
   },
   "source": [
    "As observed, 'Over18' has only one value, i.e. 'Y', which is constant throughout and will have no impact hence it can be removed from the dataset."
   ]
  },
  {
   "cell_type": "code",
   "execution_count": 128,
   "id": "86042846",
   "metadata": {
    "executionInfo": {
     "elapsed": 8,
     "status": "ok",
     "timestamp": 1664002826445,
     "user": {
      "displayName": "Bansal Sahil",
      "userId": "09246232949994325052"
     },
     "user_tz": -330
    },
    "id": "86042846"
   },
   "outputs": [],
   "source": [
    "main_df=main_df.drop(columns=['Over18'])"
   ]
  },
  {
   "cell_type": "markdown",
   "id": "104d372a",
   "metadata": {
    "id": "104d372a"
   },
   "source": [
    "As 'EmployeeNumber' is also a discrete attribute, it can be dropped from the dataframe as it will not contribute in improving the accuracy of the model"
   ]
  },
  {
   "cell_type": "code",
   "execution_count": 129,
   "id": "6ec86b5f",
   "metadata": {
    "executionInfo": {
     "elapsed": 9,
     "status": "ok",
     "timestamp": 1664002826446,
     "user": {
      "displayName": "Bansal Sahil",
      "userId": "09246232949994325052"
     },
     "user_tz": -330
    },
    "id": "6ec86b5f"
   },
   "outputs": [],
   "source": [
    "main_df=main_df.drop(columns=['EmployeeNumber'])"
   ]
  },
  {
   "cell_type": "markdown",
   "id": "5aa770f8",
   "metadata": {
    "id": "5aa770f8"
   },
   "source": [
    "Since this is a Binary Classification Problem, whether the employee will leave the company or not, The distribution among the two classes is visualised below"
   ]
  },
  {
   "cell_type": "markdown",
   "id": "D6Nb6_pEahBy",
   "metadata": {
    "id": "D6Nb6_pEahBy"
   },
   "source": [
    "## Data Visualization"
   ]
  },
  {
   "cell_type": "code",
   "execution_count": 130,
   "id": "1dbae0d2",
   "metadata": {
    "colab": {
     "base_uri": "https://localhost:8080/",
     "height": 352
    },
    "executionInfo": {
     "elapsed": 1269,
     "status": "ok",
     "timestamp": 1664002827707,
     "user": {
      "displayName": "Bansal Sahil",
      "userId": "09246232949994325052"
     },
     "user_tz": -330
    },
    "id": "1dbae0d2",
    "outputId": "2f204ecb-9f4d-4477-d260-85d8e8beec8d"
   },
   "outputs": [
    {
     "data": {
      "text/plain": [
       "<matplotlib.axes._subplots.AxesSubplot at 0x7f2f93eb84d0>"
      ]
     },
     "execution_count": 130,
     "metadata": {},
     "output_type": "execute_result"
    },
    {
     "data": {
      "image/png": "[encoded data removed]",
      "text/plain": [
       "<Figure size 360x360 with 1 Axes>"
      ]
     },
     "metadata": {
      "needs_background": "light"
     },
     "output_type": "display_data"
    }
   ],
   "source": [
    "#Bar Chart Representation for Attrition\n",
    "fig= plt.figure(figsize =(5,5))\n",
    "sns.countplot(x ='Attrition', data = main_df, edgecolor = \"black\")"
   ]
  },
  {
   "cell_type": "code",
   "execution_count": 131,
   "id": "e613564c",
   "metadata": {
    "colab": {
     "base_uri": "https://localhost:8080/",
     "height": 112
    },
    "executionInfo": {
     "elapsed": 10,
     "status": "ok",
     "timestamp": 1664002827707,
     "user": {
      "displayName": "Bansal Sahil",
      "userId": "09246232949994325052"
     },
     "user_tz": -330
    },
    "id": "e613564c",
    "outputId": "4508c044-5115-4027-eb04-1e88c89dbf06"
   },
   "outputs": [
    {
     "data": {
      "text/html": [
       "\n",
       "  <div id=\"df-348e57b5-ec68-4b93-9e82-eca982ad20d5\">\n",
       "    <div class=\"colab-df-container\">\n",
       "      <div>\n",
       "<style scoped>\n",
       "    .dataframe tbody tr th:only-of-type {\n",
       "        vertical-align: middle;\n",
       "    }\n",
       "\n",
       "    .dataframe tbody tr th {\n",
       "        vertical-align: top;\n",
       "    }\n",
       "\n",
       "    .dataframe thead th {\n",
       "        text-align: right;\n",
       "    }\n",
       "</style>\n",
       "<table border=\"1\" class=\"dataframe\">\n",
       "  <thead>\n",
       "    <tr style=\"text-align: right;\">\n",
       "      <th></th>\n",
       "      <th>index</th>\n",
       "      <th>JobSatisfaction</th>\n",
       "    </tr>\n",
       "  </thead>\n",
       "  <tbody>\n",
       "    <tr>\n",
       "      <th>0</th>\n",
       "      <td>Satisfied</td>\n",
       "      <td>1181</td>\n",
       "    </tr>\n",
       "    <tr>\n",
       "      <th>1</th>\n",
       "      <td>Not Satisfied</td>\n",
       "      <td>289</td>\n",
       "    </tr>\n",
       "  </tbody>\n",
       "</table>\n",
       "</div>\n",
       "      <button class=\"colab-df-convert\" onclick=\"convertToInteractive('df-348e57b5-ec68-4b93-9e82-eca982ad20d5')\"\n",
       "              title=\"Convert this dataframe to an interactive table.\"\n",
       "              style=\"display:none;\">\n",
       "        \n",
       "  <svg xmlns=\"http://www.w3.org/2000/svg\" height=\"24px\"viewBox=\"0 0 24 24\"\n",
       "       width=\"24px\">\n",
       "    <path d=\"M0 0h24v24H0V0z\" fill=\"none\"/>\n",
       "    <path d=\"M18.56 5.44l.94 2.06.94-2.06 2.06-.94-2.06-.94-.94-2.06-.94 2.06-2.06.94zm-11 1L8.5 8.5l.94-2.06 2.06-.94-2.06-.94L8.5 2.5l-.94 2.06-2.06.94zm10 10l.94 2.06.94-2.06 2.06-.94-2.06-.94-.94-2.06-.94 2.06-2.06.94z\"/><path d=\"M17.41 7.96l-1.37-1.37c-.4-.4-.92-.59-1.43-.59-.52 0-1.04.2-1.43.59L10.3 9.45l-7.72 7.72c-.78.78-.78 2.05 0 2.83L4 21.41c.39.39.9.59 1.41.59.51 0 1.02-.2 1.41-.59l7.78-7.78 2.81-2.81c.8-.78.8-2.07 0-2.86zM5.41 20L4 18.59l7.72-7.72 1.47 1.35L5.41 20z\"/>\n",
       "  </svg>\n",
       "      </button>\n",
       "      \n",
       "  <style>\n",
       "    .colab-df-container {\n",
       "      display:flex;\n",
       "      flex-wrap:wrap;\n",
       "      gap: 12px;\n",
       "    }\n",
       "\n",
       "    .colab-df-convert {\n",
       "      background-color: #E8F0FE;\n",
       "      border: none;\n",
       "      border-radius: 50%;\n",
       "      cursor: pointer;\n",
       "      display: none;\n",
       "      fill: #1967D2;\n",
       "      height: 32px;\n",
       "      padding: 0 0 0 0;\n",
       "      width: 32px;\n",
       "    }\n",
       "\n",
       "    .colab-df-convert:hover {\n",
       "      background-color: #E2EBFA;\n",
       "      box-shadow: 0px 1px 2px rgba(60, 64, 67, 0.3), 0px 1px 3px 1px rgba(60, 64, 67, 0.15);\n",
       "      fill: #174EA6;\n",
       "    }\n",
       "\n",
       "    [theme=dark] .colab-df-convert {\n",
       "      background-color: #3B4455;\n",
       "      fill: #D2E3FC;\n",
       "    }\n",
       "\n",
       "    [theme=dark] .colab-df-convert:hover {\n",
       "      background-color: #434B5C;\n",
       "      box-shadow: 0px 1px 3px 1px rgba(0, 0, 0, 0.15);\n",
       "      filter: drop-shadow(0px 1px 2px rgba(0, 0, 0, 0.3));\n",
       "      fill: #FFFFFF;\n",
       "    }\n",
       "  </style>\n",
       "\n",
       "      <script>\n",
       "        const buttonEl =\n",
       "          document.querySelector('#df-348e57b5-ec68-4b93-9e82-eca982ad20d5 button.colab-df-convert');\n",
       "        buttonEl.style.display =\n",
       "          google.colab.kernel.accessAllowed ? 'block' : 'none';\n",
       "\n",
       "        async function convertToInteractive(key) {\n",
       "          const element = document.querySelector('#df-348e57b5-ec68-4b93-9e82-eca982ad20d5');\n",
       "          const dataTable =\n",
       "            await google.colab.kernel.invokeFunction('convertToInteractive',\n",
       "                                                     [key], {});\n",
       "          if (!dataTable) return;\n",
       "\n",
       "          const docLinkHtml = 'Like what you see? Visit the ' +\n",
       "            '<a target=\"_blank\" href=https://colab.research.google.com/notebooks/data_table.ipynb>data table notebook</a>'\n",
       "            + ' to learn more about interactive tables.';\n",
       "          element.innerHTML = '';\n",
       "          dataTable['output_type'] = 'display_data';\n",
       "          await google.colab.output.renderOutput(dataTable, element);\n",
       "          const docLink = document.createElement('div');\n",
       "          docLink.innerHTML = docLinkHtml;\n",
       "          element.appendChild(docLink);\n",
       "        }\n",
       "      </script>\n",
       "    </div>\n",
       "  </div>\n",
       "  "
      ],
      "text/plain": [
       "           index  JobSatisfaction\n",
       "0      Satisfied             1181\n",
       "1  Not Satisfied              289"
      ]
     },
     "execution_count": 131,
     "metadata": {},
     "output_type": "execute_result"
    }
   ],
   "source": [
    "'''\n",
    "Checking the value counts of JobSatisfaction above 1 and representing it in the form of a pie chart\n",
    "Low : 1\n",
    "Medium : 2\n",
    "High : 3\n",
    "Very High : 4\n",
    "Anyone with a JobSatisfaction entry above 1 (Above Low) is treated as satisfied\n",
    "'''\n",
    "job_satisfaction=(main_df['JobSatisfaction']>1).value_counts().reset_index()\n",
    "job_satisfaction.replace(to_replace= True, value = 'Satisfied', inplace=True )\n",
    "job_satisfaction.replace(to_replace= False, value = 'Not Satisfied', inplace=True )\n",
    "job_satisfaction"
   ]
  },
  {
   "cell_type": "code",
   "execution_count": 132,
   "id": "b033623b",
   "metadata": {
    "colab": {
     "base_uri": "https://localhost:8080/",
     "height": 319
    },
    "executionInfo": {
     "elapsed": 9,
     "status": "ok",
     "timestamp": 1664002827707,
     "user": {
      "displayName": "Bansal Sahil",
      "userId": "09246232949994325052"
     },
     "user_tz": -330
    },
    "id": "b033623b",
    "outputId": "cd6ae3fb-5d5b-40a6-8862-24b11ae12305",
    "scrolled": true
   },
   "outputs": [
    {
     "data": {
      "image/png": "[encoded data removed]",
      "text/plain": [
       "<Figure size 360x360 with 1 Axes>"
      ]
     },
     "metadata": {},
     "output_type": "display_data"
    }
   ],
   "source": [
    "#Pie Chart Representation for employee job satisfaction\n",
    "fig= plt.figure(figsize =(5,5))\n",
    "plt.pie(job_satisfaction['JobSatisfaction'], labels=job_satisfaction['index'],autopct='%1.1f%%',shadow=True, \n",
    "        wedgeprops = {\"edgecolor\" : \"black\",'linewidth': 1,'antialiased': True})\n",
    "plt.title(\"Job Satisfaction\")\n",
    "plt.legend()\n",
    "plt.show()"
   ]
  },
  {
   "cell_type": "markdown",
   "id": "ba2179f3",
   "metadata": {
    "id": "ba2179f3"
   },
   "source": [
    "As observed, about 80% of the employees are satisfied with their employment and remaining 20% seem to be dissatisfied. "
   ]
  },
  {
   "cell_type": "code",
   "execution_count": 133,
   "id": "f030a53a",
   "metadata": {
    "executionInfo": {
     "elapsed": 9,
     "status": "ok",
     "timestamp": 1664002827707,
     "user": {
      "displayName": "Bansal Sahil",
      "userId": "09246232949994325052"
     },
     "user_tz": -330
    },
    "id": "f030a53a"
   },
   "outputs": [],
   "source": [
    "attr_yes=main_df.loc[(main_df['Age'])&(main_df['Attrition']=='Yes'),('Age','Attrition')].reset_index()\n",
    "attr_yes=attr_yes.drop(columns=['index','Attrition'])"
   ]
  },
  {
   "cell_type": "code",
   "execution_count": 134,
   "id": "47caac14",
   "metadata": {
    "executionInfo": {
     "elapsed": 8,
     "status": "ok",
     "timestamp": 1664002827707,
     "user": {
      "displayName": "Bansal Sahil",
      "userId": "09246232949994325052"
     },
     "user_tz": -330
    },
    "id": "47caac14"
   },
   "outputs": [],
   "source": [
    "attr_no=main_df.loc[(main_df['Age'])&(main_df['Attrition']=='No'),('Age','Attrition')].reset_index()\n",
    "attr_no=attr_no.drop(columns=['index','Attrition'])"
   ]
  },
  {
   "cell_type": "code",
   "execution_count": 135,
   "id": "d5bde87b",
   "metadata": {
    "colab": {
     "base_uri": "https://localhost:8080/",
     "height": 495
    },
    "executionInfo": {
     "elapsed": 9,
     "status": "ok",
     "timestamp": 1664002827708,
     "user": {
      "displayName": "Bansal Sahil",
      "userId": "09246232949994325052"
     },
     "user_tz": -330
    },
    "id": "d5bde87b",
    "outputId": "88a15c12-2fb0-49e5-f915-42467e3f2219"
   },
   "outputs": [
    {
     "name": "stderr",
     "output_type": "stream",
     "text": [
      "/usr/local/lib/python3.7/dist-packages/numpy/core/fromnumeric.py:3208: VisibleDeprecationWarning: Creating an ndarray from ragged nested sequences (which is a list-or-tuple of lists-or-tuples-or ndarrays with different lengths or shapes) is deprecated. If you meant to do this, you must specify 'dtype=object' when creating the ndarray.\n",
      "  return asarray(a).size\n",
      "/usr/local/lib/python3.7/dist-packages/matplotlib/cbook/__init__.py:1376: VisibleDeprecationWarning: Creating an ndarray from ragged nested sequences (which is a list-or-tuple of lists-or-tuples-or ndarrays with different lengths or shapes) is deprecated. If you meant to do this, you must specify 'dtype=object' when creating the ndarray.\n",
      "  X = np.atleast_1d(X.T if isinstance(X, np.ndarray) else np.asarray(X))\n"
     ]
    },
    {
     "data": {
      "image/png": "[encoded data removed]",
      "text/plain": [
       "<Figure size 864x432 with 1 Axes>"
      ]
     },
     "metadata": {
      "needs_background": "light"
     },
     "output_type": "display_data"
    }
   ],
   "source": [
    "plt.figure(figsize=(12, 6))\n",
    "plt.title('Age-wise Attrition')\n",
    "plt.xlabel('Age')\n",
    "plt.ylabel('Number of Person')\n",
    "plt.hist([attr_yes.Age,attr_no.Age], bins=np.arange(10,80,5),stacked=True, edgecolor = \"black\");\n",
    "plt.legend(['Attrited', 'Not Attrited']);"
   ]
  },
  {
   "cell_type": "markdown",
   "id": "e22abc56",
   "metadata": {
    "id": "e22abc56"
   },
   "source": [
    "As observed from the graph above, Age group of 25-40 has the Highest Attrition Rate"
   ]
  },
  {
   "cell_type": "code",
   "execution_count": 136,
   "id": "c0a64181",
   "metadata": {
    "colab": {
     "base_uri": "https://localhost:8080/",
     "height": 1000
    },
    "executionInfo": {
     "elapsed": 3662,
     "status": "ok",
     "timestamp": 1664002831364,
     "user": {
      "displayName": "Bansal Sahil",
      "userId": "09246232949994325052"
     },
     "user_tz": -330
    },
    "id": "c0a64181",
    "outputId": "5322be00-6977-4acc-bed9-7b279b350c56"
   },
   "outputs": [
    {
     "data": {
      "text/plain": [
       "<matplotlib.axes._subplots.AxesSubplot at 0x7f2f93de7a50>"
      ]
     },
     "execution_count": 136,
     "metadata": {},
     "output_type": "execute_result"
    },
    {
     "data": {
      "image/png": "[encoded data removed]",
      "text/plain": [
       "<Figure size 1440x1440 with 2 Axes>"
      ]
     },
     "metadata": {
      "needs_background": "light"
     },
     "output_type": "display_data"
    }
   ],
   "source": [
    "corr=main_df.corr()\n",
    "plt.figure(figsize=(20, 20))\n",
    "sns.heatmap(corr,annot=True, cmap='icefire')"
   ]
  },
  {
   "cell_type": "markdown",
   "id": "5de39002",
   "metadata": {
    "id": "5de39002"
   },
   "source": [
    "The following observations can be made from the heatmap,\n",
    "1. The 'MonthlyIncome' and 'JobLevel' have a strong positive correlation.\n",
    "2. 'SalaryHike' and 'PerformanceRating' is also correlated, Higher the Performance Rating, Higher is the Hike\n",
    "3. 'YearsAtCompany' and 'YeasWithCurrentManager' are also strongly correlated.\n",
    "4. 'NumCompaniesWorked has a weak correlation with the 'TotalWorkingYears'\n",
    "5. 'TotalWorkingYears' and 'YearsAtCompany' have strong correlation"
   ]
  },
  {
   "cell_type": "markdown",
   "id": "59c84624",
   "metadata": {
    "id": "59c84624"
   },
   "source": [
    "As observed from the heatmap, 'EmployeeCount' and 'StandardHours' have no correlation with the other attributes in the dataset, hence we can drop these columns."
   ]
  },
  {
   "cell_type": "code",
   "execution_count": 137,
   "id": "6e156ee6",
   "metadata": {
    "executionInfo": {
     "elapsed": 18,
     "status": "ok",
     "timestamp": 1664002831365,
     "user": {
      "displayName": "Bansal Sahil",
      "userId": "09246232949994325052"
     },
     "user_tz": -330
    },
    "id": "6e156ee6"
   },
   "outputs": [],
   "source": [
    "#Dropping the columns 'EmployeeCount' and 'StandardHours'\n",
    "main_df=main_df.drop(columns=['EmployeeCount','StandardHours'])"
   ]
  },
  {
   "cell_type": "markdown",
   "id": "d14332d9",
   "metadata": {
    "id": "d14332d9"
   },
   "source": [
    "Since only part of the data is encoded, the remaining categorical data should also be encoded before applying any Machine Learning Model"
   ]
  },
  {
   "cell_type": "markdown",
   "id": "MdMaA09Oao5c",
   "metadata": {
    "id": "MdMaA09Oao5c"
   },
   "source": [
    "## Label Encoding"
   ]
  },
  {
   "cell_type": "code",
   "execution_count": 138,
   "id": "1c72a100",
   "metadata": {
    "executionInfo": {
     "elapsed": 17,
     "status": "ok",
     "timestamp": 1664002831365,
     "user": {
      "displayName": "Bansal Sahil",
      "userId": "09246232949994325052"
     },
     "user_tz": -330
    },
    "id": "1c72a100"
   },
   "outputs": [],
   "source": [
    "#Encoding the remaining catageorical fields before feeding it to the Machine Learning model\n",
    "cat_column=['Attrition','BusinessTravel','Department','EducationField','Gender','JobRole','MaritalStatus','OverTime']\n",
    "for i in cat_column:\n",
    "    main_df[i]=le.fit_transform(main_df[cat_column][i])"
   ]
  },
  {
   "cell_type": "code",
   "execution_count": 139,
   "id": "419905b8",
   "metadata": {
    "colab": {
     "base_uri": "https://localhost:8080/",
     "height": 456
    },
    "executionInfo": {
     "elapsed": 16,
     "status": "ok",
     "timestamp": 1664002831365,
     "user": {
      "displayName": "Bansal Sahil",
      "userId": "09246232949994325052"
     },
     "user_tz": -330
    },
    "id": "419905b8",
    "outputId": "09ec3a03-7cb8-4035-cf35-5ffbf9ef1e3b",
    "scrolled": false
   },
   "outputs": [
    {
     "data": {
      "text/html": [
       "\n",
       "  <div id=\"df-0fb882b8-87d2-46db-9050-37b5cad99a68\">\n",
       "    <div class=\"colab-df-container\">\n",
       "      <div>\n",
       "<style scoped>\n",
       "    .dataframe tbody tr th:only-of-type {\n",
       "        vertical-align: middle;\n",
       "    }\n",
       "\n",
       "    .dataframe tbody tr th {\n",
       "        vertical-align: top;\n",
       "    }\n",
       "\n",
       "    .dataframe thead th {\n",
       "        text-align: right;\n",
       "    }\n",
       "</style>\n",
       "<table border=\"1\" class=\"dataframe\">\n",
       "  <thead>\n",
       "    <tr style=\"text-align: right;\">\n",
       "      <th></th>\n",
       "      <th>Age</th>\n",
       "      <th>Attrition</th>\n",
       "      <th>BusinessTravel</th>\n",
       "      <th>DailyRate</th>\n",
       "      <th>Department</th>\n",
       "      <th>DistanceFromHome</th>\n",
       "      <th>Education</th>\n",
       "      <th>EducationField</th>\n",
       "      <th>EnvironmentSatisfaction</th>\n",
       "      <th>Gender</th>\n",
       "      <th>...</th>\n",
       "      <th>PerformanceRating</th>\n",
       "      <th>RelationshipSatisfaction</th>\n",
       "      <th>StockOptionLevel</th>\n",
       "      <th>TotalWorkingYears</th>\n",
       "      <th>TrainingTimesLastYear</th>\n",
       "      <th>WorkLifeBalance</th>\n",
       "      <th>YearsAtCompany</th>\n",
       "      <th>YearsInCurrentRole</th>\n",
       "      <th>YearsSinceLastPromotion</th>\n",
       "      <th>YearsWithCurrManager</th>\n",
       "    </tr>\n",
       "  </thead>\n",
       "  <tbody>\n",
       "    <tr>\n",
       "      <th>0</th>\n",
       "      <td>41</td>\n",
       "      <td>1</td>\n",
       "      <td>2</td>\n",
       "      <td>1102</td>\n",
       "      <td>2</td>\n",
       "      <td>1</td>\n",
       "      <td>2</td>\n",
       "      <td>1</td>\n",
       "      <td>2</td>\n",
       "      <td>0</td>\n",
       "      <td>...</td>\n",
       "      <td>3</td>\n",
       "      <td>1</td>\n",
       "      <td>0</td>\n",
       "      <td>8</td>\n",
       "      <td>0</td>\n",
       "      <td>1</td>\n",
       "      <td>6</td>\n",
       "      <td>4</td>\n",
       "      <td>0</td>\n",
       "      <td>5</td>\n",
       "    </tr>\n",
       "    <tr>\n",
       "      <th>1</th>\n",
       "      <td>49</td>\n",
       "      <td>0</td>\n",
       "      <td>1</td>\n",
       "      <td>279</td>\n",
       "      <td>1</td>\n",
       "      <td>8</td>\n",
       "      <td>1</td>\n",
       "      <td>1</td>\n",
       "      <td>3</td>\n",
       "      <td>1</td>\n",
       "      <td>...</td>\n",
       "      <td>4</td>\n",
       "      <td>4</td>\n",
       "      <td>1</td>\n",
       "      <td>10</td>\n",
       "      <td>3</td>\n",
       "      <td>3</td>\n",
       "      <td>10</td>\n",
       "      <td>7</td>\n",
       "      <td>1</td>\n",
       "      <td>7</td>\n",
       "    </tr>\n",
       "    <tr>\n",
       "      <th>2</th>\n",
       "      <td>37</td>\n",
       "      <td>1</td>\n",
       "      <td>2</td>\n",
       "      <td>1373</td>\n",
       "      <td>1</td>\n",
       "      <td>2</td>\n",
       "      <td>2</td>\n",
       "      <td>4</td>\n",
       "      <td>4</td>\n",
       "      <td>1</td>\n",
       "      <td>...</td>\n",
       "      <td>3</td>\n",
       "      <td>2</td>\n",
       "      <td>0</td>\n",
       "      <td>7</td>\n",
       "      <td>3</td>\n",
       "      <td>3</td>\n",
       "      <td>0</td>\n",
       "      <td>0</td>\n",
       "      <td>0</td>\n",
       "      <td>0</td>\n",
       "    </tr>\n",
       "    <tr>\n",
       "      <th>3</th>\n",
       "      <td>33</td>\n",
       "      <td>0</td>\n",
       "      <td>1</td>\n",
       "      <td>1392</td>\n",
       "      <td>1</td>\n",
       "      <td>3</td>\n",
       "      <td>4</td>\n",
       "      <td>1</td>\n",
       "      <td>4</td>\n",
       "      <td>0</td>\n",
       "      <td>...</td>\n",
       "      <td>3</td>\n",
       "      <td>3</td>\n",
       "      <td>0</td>\n",
       "      <td>8</td>\n",
       "      <td>3</td>\n",
       "      <td>3</td>\n",
       "      <td>8</td>\n",
       "      <td>7</td>\n",
       "      <td>3</td>\n",
       "      <td>0</td>\n",
       "    </tr>\n",
       "    <tr>\n",
       "      <th>4</th>\n",
       "      <td>27</td>\n",
       "      <td>0</td>\n",
       "      <td>2</td>\n",
       "      <td>591</td>\n",
       "      <td>1</td>\n",
       "      <td>2</td>\n",
       "      <td>1</td>\n",
       "      <td>3</td>\n",
       "      <td>1</td>\n",
       "      <td>1</td>\n",
       "      <td>...</td>\n",
       "      <td>3</td>\n",
       "      <td>4</td>\n",
       "      <td>1</td>\n",
       "      <td>6</td>\n",
       "      <td>3</td>\n",
       "      <td>3</td>\n",
       "      <td>2</td>\n",
       "      <td>2</td>\n",
       "      <td>2</td>\n",
       "      <td>2</td>\n",
       "    </tr>\n",
       "    <tr>\n",
       "      <th>5</th>\n",
       "      <td>32</td>\n",
       "      <td>0</td>\n",
       "      <td>1</td>\n",
       "      <td>1005</td>\n",
       "      <td>1</td>\n",
       "      <td>2</td>\n",
       "      <td>2</td>\n",
       "      <td>1</td>\n",
       "      <td>4</td>\n",
       "      <td>1</td>\n",
       "      <td>...</td>\n",
       "      <td>3</td>\n",
       "      <td>3</td>\n",
       "      <td>0</td>\n",
       "      <td>8</td>\n",
       "      <td>2</td>\n",
       "      <td>2</td>\n",
       "      <td>7</td>\n",
       "      <td>7</td>\n",
       "      <td>3</td>\n",
       "      <td>6</td>\n",
       "    </tr>\n",
       "    <tr>\n",
       "      <th>6</th>\n",
       "      <td>59</td>\n",
       "      <td>0</td>\n",
       "      <td>2</td>\n",
       "      <td>1324</td>\n",
       "      <td>1</td>\n",
       "      <td>3</td>\n",
       "      <td>3</td>\n",
       "      <td>3</td>\n",
       "      <td>3</td>\n",
       "      <td>0</td>\n",
       "      <td>...</td>\n",
       "      <td>4</td>\n",
       "      <td>1</td>\n",
       "      <td>3</td>\n",
       "      <td>12</td>\n",
       "      <td>3</td>\n",
       "      <td>2</td>\n",
       "      <td>1</td>\n",
       "      <td>0</td>\n",
       "      <td>0</td>\n",
       "      <td>0</td>\n",
       "    </tr>\n",
       "    <tr>\n",
       "      <th>7</th>\n",
       "      <td>30</td>\n",
       "      <td>0</td>\n",
       "      <td>2</td>\n",
       "      <td>1358</td>\n",
       "      <td>1</td>\n",
       "      <td>24</td>\n",
       "      <td>1</td>\n",
       "      <td>1</td>\n",
       "      <td>4</td>\n",
       "      <td>1</td>\n",
       "      <td>...</td>\n",
       "      <td>4</td>\n",
       "      <td>2</td>\n",
       "      <td>1</td>\n",
       "      <td>1</td>\n",
       "      <td>2</td>\n",
       "      <td>3</td>\n",
       "      <td>1</td>\n",
       "      <td>0</td>\n",
       "      <td>0</td>\n",
       "      <td>0</td>\n",
       "    </tr>\n",
       "    <tr>\n",
       "      <th>8</th>\n",
       "      <td>38</td>\n",
       "      <td>0</td>\n",
       "      <td>1</td>\n",
       "      <td>216</td>\n",
       "      <td>1</td>\n",
       "      <td>23</td>\n",
       "      <td>3</td>\n",
       "      <td>1</td>\n",
       "      <td>4</td>\n",
       "      <td>1</td>\n",
       "      <td>...</td>\n",
       "      <td>4</td>\n",
       "      <td>2</td>\n",
       "      <td>0</td>\n",
       "      <td>10</td>\n",
       "      <td>2</td>\n",
       "      <td>3</td>\n",
       "      <td>9</td>\n",
       "      <td>7</td>\n",
       "      <td>1</td>\n",
       "      <td>8</td>\n",
       "    </tr>\n",
       "    <tr>\n",
       "      <th>9</th>\n",
       "      <td>36</td>\n",
       "      <td>0</td>\n",
       "      <td>2</td>\n",
       "      <td>1299</td>\n",
       "      <td>1</td>\n",
       "      <td>27</td>\n",
       "      <td>3</td>\n",
       "      <td>3</td>\n",
       "      <td>3</td>\n",
       "      <td>1</td>\n",
       "      <td>...</td>\n",
       "      <td>3</td>\n",
       "      <td>2</td>\n",
       "      <td>2</td>\n",
       "      <td>17</td>\n",
       "      <td>3</td>\n",
       "      <td>2</td>\n",
       "      <td>7</td>\n",
       "      <td>7</td>\n",
       "      <td>7</td>\n",
       "      <td>7</td>\n",
       "    </tr>\n",
       "  </tbody>\n",
       "</table>\n",
       "<p>10 rows × 31 columns</p>\n",
       "</div>\n",
       "      <button class=\"colab-df-convert\" onclick=\"convertToInteractive('df-0fb882b8-87d2-46db-9050-37b5cad99a68')\"\n",
       "              title=\"Convert this dataframe to an interactive table.\"\n",
       "              style=\"display:none;\">\n",
       "        \n",
       "  <svg xmlns=\"http://www.w3.org/2000/svg\" height=\"24px\"viewBox=\"0 0 24 24\"\n",
       "       width=\"24px\">\n",
       "    <path d=\"M0 0h24v24H0V0z\" fill=\"none\"/>\n",
       "    <path d=\"M18.56 5.44l.94 2.06.94-2.06 2.06-.94-2.06-.94-.94-2.06-.94 2.06-2.06.94zm-11 1L8.5 8.5l.94-2.06 2.06-.94-2.06-.94L8.5 2.5l-.94 2.06-2.06.94zm10 10l.94 2.06.94-2.06 2.06-.94-2.06-.94-.94-2.06-.94 2.06-2.06.94z\"/><path d=\"M17.41 7.96l-1.37-1.37c-.4-.4-.92-.59-1.43-.59-.52 0-1.04.2-1.43.59L10.3 9.45l-7.72 7.72c-.78.78-.78 2.05 0 2.83L4 21.41c.39.39.9.59 1.41.59.51 0 1.02-.2 1.41-.59l7.78-7.78 2.81-2.81c.8-.78.8-2.07 0-2.86zM5.41 20L4 18.59l7.72-7.72 1.47 1.35L5.41 20z\"/>\n",
       "  </svg>\n",
       "      </button>\n",
       "      \n",
       "  <style>\n",
       "    .colab-df-container {\n",
       "      display:flex;\n",
       "      flex-wrap:wrap;\n",
       "      gap: 12px;\n",
       "    }\n",
       "\n",
       "    .colab-df-convert {\n",
       "      background-color: #E8F0FE;\n",
       "      border: none;\n",
       "      border-radius: 50%;\n",
       "      cursor: pointer;\n",
       "      display: none;\n",
       "      fill: #1967D2;\n",
       "      height: 32px;\n",
       "      padding: 0 0 0 0;\n",
       "      width: 32px;\n",
       "    }\n",
       "\n",
       "    .colab-df-convert:hover {\n",
       "      background-color: #E2EBFA;\n",
       "      box-shadow: 0px 1px 2px rgba(60, 64, 67, 0.3), 0px 1px 3px 1px rgba(60, 64, 67, 0.15);\n",
       "      fill: #174EA6;\n",
       "    }\n",
       "\n",
       "    [theme=dark] .colab-df-convert {\n",
       "      background-color: #3B4455;\n",
       "      fill: #D2E3FC;\n",
       "    }\n",
       "\n",
       "    [theme=dark] .colab-df-convert:hover {\n",
       "      background-color: #434B5C;\n",
       "      box-shadow: 0px 1px 3px 1px rgba(0, 0, 0, 0.15);\n",
       "      filter: drop-shadow(0px 1px 2px rgba(0, 0, 0, 0.3));\n",
       "      fill: #FFFFFF;\n",
       "    }\n",
       "  </style>\n",
       "\n",
       "      <script>\n",
       "        const buttonEl =\n",
       "          document.querySelector('#df-0fb882b8-87d2-46db-9050-37b5cad99a68 button.colab-df-convert');\n",
       "        buttonEl.style.display =\n",
       "          google.colab.kernel.accessAllowed ? 'block' : 'none';\n",
       "\n",
       "        async function convertToInteractive(key) {\n",
       "          const element = document.querySelector('#df-0fb882b8-87d2-46db-9050-37b5cad99a68');\n",
       "          const dataTable =\n",
       "            await google.colab.kernel.invokeFunction('convertToInteractive',\n",
       "                                                     [key], {});\n",
       "          if (!dataTable) return;\n",
       "\n",
       "          const docLinkHtml = 'Like what you see? Visit the ' +\n",
       "            '<a target=\"_blank\" href=https://colab.research.google.com/notebooks/data_table.ipynb>data table notebook</a>'\n",
       "            + ' to learn more about interactive tables.';\n",
       "          element.innerHTML = '';\n",
       "          dataTable['output_type'] = 'display_data';\n",
       "          await google.colab.output.renderOutput(dataTable, element);\n",
       "          const docLink = document.createElement('div');\n",
       "          docLink.innerHTML = docLinkHtml;\n",
       "          element.appendChild(docLink);\n",
       "        }\n",
       "      </script>\n",
       "    </div>\n",
       "  </div>\n",
       "  "
      ],
      "text/plain": [
       "   Age  Attrition  BusinessTravel  DailyRate  Department  DistanceFromHome  \\\n",
       "0   41          1               2       1102           2                 1   \n",
       "1   49          0               1        279           1                 8   \n",
       "2   37          1               2       1373           1                 2   \n",
       "3   33          0               1       1392           1                 3   \n",
       "4   27          0               2        591           1                 2   \n",
       "5   32          0               1       1005           1                 2   \n",
       "6   59          0               2       1324           1                 3   \n",
       "7   30          0               2       1358           1                24   \n",
       "8   38          0               1        216           1                23   \n",
       "9   36          0               2       1299           1                27   \n",
       "\n",
       "   Education  EducationField  EnvironmentSatisfaction  Gender  ...  \\\n",
       "0          2               1                        2       0  ...   \n",
       "1          1               1                        3       1  ...   \n",
       "2          2               4                        4       1  ...   \n",
       "3          4               1                        4       0  ...   \n",
       "4          1               3                        1       1  ...   \n",
       "5          2               1                        4       1  ...   \n",
       "6          3               3                        3       0  ...   \n",
       "7          1               1                        4       1  ...   \n",
       "8          3               1                        4       1  ...   \n",
       "9          3               3                        3       1  ...   \n",
       "\n",
       "   PerformanceRating  RelationshipSatisfaction  StockOptionLevel  \\\n",
       "0                  3                         1                 0   \n",
       "1                  4                         4                 1   \n",
       "2                  3                         2                 0   \n",
       "3                  3                         3                 0   \n",
       "4                  3                         4                 1   \n",
       "5                  3                         3                 0   \n",
       "6                  4                         1                 3   \n",
       "7                  4                         2                 1   \n",
       "8                  4                         2                 0   \n",
       "9                  3                         2                 2   \n",
       "\n",
       "   TotalWorkingYears  TrainingTimesLastYear  WorkLifeBalance  YearsAtCompany  \\\n",
       "0                  8                      0                1               6   \n",
       "1                 10                      3                3              10   \n",
       "2                  7                      3                3               0   \n",
       "3                  8                      3                3               8   \n",
       "4                  6                      3                3               2   \n",
       "5                  8                      2                2               7   \n",
       "6                 12                      3                2               1   \n",
       "7                  1                      2                3               1   \n",
       "8                 10                      2                3               9   \n",
       "9                 17                      3                2               7   \n",
       "\n",
       "   YearsInCurrentRole  YearsSinceLastPromotion  YearsWithCurrManager  \n",
       "0                   4                        0                     5  \n",
       "1                   7                        1                     7  \n",
       "2                   0                        0                     0  \n",
       "3                   7                        3                     0  \n",
       "4                   2                        2                     2  \n",
       "5                   7                        3                     6  \n",
       "6                   0                        0                     0  \n",
       "7                   0                        0                     0  \n",
       "8                   7                        1                     8  \n",
       "9                   7                        7                     7  \n",
       "\n",
       "[10 rows x 31 columns]"
      ]
     },
     "execution_count": 139,
     "metadata": {},
     "output_type": "execute_result"
    }
   ],
   "source": [
    "#Verfiying if the encoding was performed successfully\n",
    "main_df.head(10)"
   ]
  },
  {
   "cell_type": "markdown",
   "id": "7u7d3HK1atzg",
   "metadata": {
    "id": "7u7d3HK1atzg"
   },
   "source": [
    "##Feature Selection"
   ]
  },
  {
   "cell_type": "code",
   "execution_count": 140,
   "id": "125dc646",
   "metadata": {
    "executionInfo": {
     "elapsed": 15,
     "status": "ok",
     "timestamp": 1664002831365,
     "user": {
      "displayName": "Bansal Sahil",
      "userId": "09246232949994325052"
     },
     "user_tz": -330
    },
    "id": "125dc646"
   },
   "outputs": [],
   "source": [
    "x=main_df.drop('Attrition',axis=1)"
   ]
  },
  {
   "cell_type": "code",
   "execution_count": 141,
   "id": "e03d1969",
   "metadata": {
    "colab": {
     "base_uri": "https://localhost:8080/"
    },
    "executionInfo": {
     "elapsed": 16,
     "status": "ok",
     "timestamp": 1664002831366,
     "user": {
      "displayName": "Bansal Sahil",
      "userId": "09246232949994325052"
     },
     "user_tz": -330
    },
    "id": "e03d1969",
    "outputId": "6ca5d466-6170-46a5-fe9d-e13207688abc"
   },
   "outputs": [
    {
     "data": {
      "text/plain": [
       "(1470, 30)"
      ]
     },
     "execution_count": 141,
     "metadata": {},
     "output_type": "execute_result"
    }
   ],
   "source": [
    "x.shape"
   ]
  },
  {
   "cell_type": "code",
   "execution_count": 142,
   "id": "42e5cabc",
   "metadata": {
    "executionInfo": {
     "elapsed": 11,
     "status": "ok",
     "timestamp": 1664002831366,
     "user": {
      "displayName": "Bansal Sahil",
      "userId": "09246232949994325052"
     },
     "user_tz": -330
    },
    "id": "42e5cabc"
   },
   "outputs": [],
   "source": [
    "y=main_df['Attrition'].values"
   ]
  },
  {
   "cell_type": "code",
   "execution_count": 143,
   "id": "3565431f",
   "metadata": {
    "colab": {
     "base_uri": "https://localhost:8080/"
    },
    "executionInfo": {
     "elapsed": 11,
     "status": "ok",
     "timestamp": 1664002831366,
     "user": {
      "displayName": "Bansal Sahil",
      "userId": "09246232949994325052"
     },
     "user_tz": -330
    },
    "id": "3565431f",
    "outputId": "acf13447-d680-4b90-8ea9-d37842e4ab43"
   },
   "outputs": [
    {
     "data": {
      "text/plain": [
       "(1470,)"
      ]
     },
     "execution_count": 143,
     "metadata": {},
     "output_type": "execute_result"
    }
   ],
   "source": [
    "y.shape"
   ]
  },
  {
   "cell_type": "code",
   "execution_count": 144,
   "id": "T7EiggvqGs36",
   "metadata": {
    "colab": {
     "base_uri": "https://localhost:8080/"
    },
    "executionInfo": {
     "elapsed": 9,
     "status": "ok",
     "timestamp": 1664002831366,
     "user": {
      "displayName": "Bansal Sahil",
      "userId": "09246232949994325052"
     },
     "user_tz": -330
    },
    "id": "T7EiggvqGs36",
    "outputId": "20790f18-093c-4579-e409-ed5828dca43f"
   },
   "outputs": [
    {
     "data": {
      "text/plain": [
       "(array([8.41552768e+01, 2.20269350e-06, 9.56580494e+02, 1.32929732e+00,\n",
       "        6.37721416e+01, 5.20642224e-01, 8.34911631e-01, 6.89059434e+00,\n",
       "        5.10086544e-01, 4.31779090e-01, 4.60561607e+00, 2.49392423e+01,\n",
       "        9.00444847e+00, 7.01194663e+00, 1.87456575e+01, 1.27922294e+05,\n",
       "        1.19663355e+03, 6.43865444e+00, 6.38450667e+01, 2.35026858e-01,\n",
       "        5.06064443e-04, 1.33233286e+00, 2.52688260e+01, 2.30721618e+02,\n",
       "        3.08579616e+00, 1.08554296e+00, 1.42100054e+02, 1.17522596e+02,\n",
       "        7.60172347e+00, 1.10671534e+02]),\n",
       " array([4.57401507e-020, 9.98815822e-001, 4.92392441e-210, 2.48930264e-001,\n",
       "        1.39674848e-015, 4.70567856e-001, 3.60856114e-001, 8.66504535e-003,\n",
       "        4.75101394e-001, 5.11117265e-001, 3.18674014e-002, 5.91657487e-007,\n",
       "        2.69323253e-003, 8.09675971e-003, 1.49363092e-005, 0.00000000e+000,\n",
       "        3.28793276e-262, 1.11663196e-002, 1.34598985e-015, 6.27821283e-001,\n",
       "        9.82052402e-001, 2.48390623e-001, 4.98704142e-007, 4.14926182e-052,\n",
       "        7.89786042e-002, 2.97460858e-001, 9.24706566e-033, 2.20572828e-027,\n",
       "        5.83125339e-003, 6.98336293e-026]))"
      ]
     },
     "execution_count": 144,
     "metadata": {},
     "output_type": "execute_result"
    }
   ],
   "source": [
    "from sklearn.feature_selection import chi2\n",
    "chi_scores = chi2(x,y)\n",
    "chi_scores"
   ]
  },
  {
   "cell_type": "code",
   "execution_count": 145,
   "id": "s9UEhqeOG4tx",
   "metadata": {
    "executionInfo": {
     "elapsed": 8,
     "status": "ok",
     "timestamp": 1664002831366,
     "user": {
      "displayName": "Bansal Sahil",
      "userId": "09246232949994325052"
     },
     "user_tz": -330
    },
    "id": "s9UEhqeOG4tx"
   },
   "outputs": [],
   "source": [
    "import pandas as pd\n",
    "p_values = pd.Series(chi_scores[1],index = x.columns)\n",
    "p_values.sort_values(ascending = False , inplace = True)"
   ]
  },
  {
   "cell_type": "code",
   "execution_count": 146,
   "id": "1Afo2pCOG7Dx",
   "metadata": {
    "colab": {
     "base_uri": "https://localhost:8080/",
     "height": 410
    },
    "executionInfo": {
     "elapsed": 1460,
     "status": "ok",
     "timestamp": 1664002832819,
     "user": {
      "displayName": "Bansal Sahil",
      "userId": "09246232949994325052"
     },
     "user_tz": -330
    },
    "id": "1Afo2pCOG7Dx",
    "outputId": "35abc579-ba45-4a83-a644-cef25b70007a"
   },
   "outputs": [
    {
     "data": {
      "image/png": "[encoded data removed]",
      "text/plain": [
       "<Figure size 432x288 with 1 Axes>"
      ]
     },
     "metadata": {
      "needs_background": "light"
     },
     "output_type": "display_data"
    }
   ],
   "source": [
    "p_values.plot.bar()\n",
    "plt.ylabel(\"p-Value\")\n",
    "plt.xlabel(\"Attributes\")\n",
    "plt.title(\"Chi-Square Test p-Value v/s Attributes\")\n",
    "plt.show()"
   ]
  },
  {
   "cell_type": "markdown",
   "id": "UyoKW9LjO4kS",
   "metadata": {
    "id": "UyoKW9LjO4kS"
   },
   "source": [
    "Since the attributes, \n",
    "'BusinessTravel', 'PerformanceRating', 'PercentSalaryHike', 'HourlyRate', 'Gender', 'Education', 'EducationField', 'WorkLifeBalance', 'Department', 'RelationshipSatisfaction' \n",
    "have higher p-value they cannot be considered in training the model and hence will not be selected."
   ]
  },
  {
   "cell_type": "code",
   "execution_count": 147,
   "id": "lLmRUMFkG9HR",
   "metadata": {
    "colab": {
     "base_uri": "https://localhost:8080/"
    },
    "executionInfo": {
     "elapsed": 73,
     "status": "ok",
     "timestamp": 1664002832819,
     "user": {
      "displayName": "Bansal Sahil",
      "userId": "09246232949994325052"
     },
     "user_tz": -330
    },
    "id": "lLmRUMFkG9HR",
    "outputId": "5da15803-b090-4e0f-ffb9-79f21c03d758"
   },
   "outputs": [
    {
     "data": {
      "text/plain": [
       "BusinessTravel               9.988158e-01\n",
       "PerformanceRating            9.820524e-01\n",
       "PercentSalaryHike            6.278213e-01\n",
       "HourlyRate                   5.111173e-01\n",
       "Gender                       4.751014e-01\n",
       "Education                    4.705679e-01\n",
       "EducationField               3.608561e-01\n",
       "WorkLifeBalance              2.974609e-01\n",
       "Department                   2.489303e-01\n",
       "RelationshipSatisfaction     2.483906e-01\n",
       "TrainingTimesLastYear        7.897860e-02\n",
       "JobInvolvement               3.186740e-02\n",
       "NumCompaniesWorked           1.116632e-02\n",
       "EnvironmentSatisfaction      8.665045e-03\n",
       "JobSatisfaction              8.096760e-03\n",
       "YearsSinceLastPromotion      5.831253e-03\n",
       "JobRole                      2.693233e-03\n",
       "MaritalStatus                1.493631e-05\n",
       "JobLevel                     5.916575e-07\n",
       "StockOptionLevel             4.987041e-07\n",
       "DistanceFromHome             1.396748e-15\n",
       "OverTime                     1.345990e-15\n",
       "Age                          4.574015e-20\n",
       "YearsWithCurrManager         6.983363e-26\n",
       "YearsInCurrentRole           2.205728e-27\n",
       "YearsAtCompany               9.247066e-33\n",
       "TotalWorkingYears            4.149262e-52\n",
       "DailyRate                   4.923924e-210\n",
       "MonthlyRate                 3.287933e-262\n",
       "MonthlyIncome                0.000000e+00\n",
       "dtype: float64"
      ]
     },
     "execution_count": 147,
     "metadata": {},
     "output_type": "execute_result"
    }
   ],
   "source": [
    "p_values"
   ]
  },
  {
   "cell_type": "code",
   "execution_count": 148,
   "id": "e2U1YFFxG9rN",
   "metadata": {
    "executionInfo": {
     "elapsed": 67,
     "status": "ok",
     "timestamp": 1664002832820,
     "user": {
      "displayName": "Bansal Sahil",
      "userId": "09246232949994325052"
     },
     "user_tz": -330
    },
    "id": "e2U1YFFxG9rN"
   },
   "outputs": [],
   "source": [
    "x=main_df.drop(['Attrition','BusinessTravel','PerformanceRating','PercentSalaryHike','HourlyRate','Gender','Education',\n",
    "'EducationField','WorkLifeBalance','Department','RelationshipSatisfaction'],axis=1)"
   ]
  },
  {
   "cell_type": "code",
   "execution_count": 149,
   "id": "vqDuM8tnHBO1",
   "metadata": {
    "colab": {
     "base_uri": "https://localhost:8080/"
    },
    "executionInfo": {
     "elapsed": 67,
     "status": "ok",
     "timestamp": 1664002832820,
     "user": {
      "displayName": "Bansal Sahil",
      "userId": "09246232949994325052"
     },
     "user_tz": -330
    },
    "id": "vqDuM8tnHBO1",
    "outputId": "2cff02c5-62cb-44ba-94a9-2f726f25b7d0"
   },
   "outputs": [
    {
     "data": {
      "text/plain": [
       "(1470, 20)"
      ]
     },
     "execution_count": 149,
     "metadata": {},
     "output_type": "execute_result"
    }
   ],
   "source": [
    "x.shape"
   ]
  },
  {
   "cell_type": "markdown",
   "id": "4QqFenyNPeLt",
   "metadata": {
    "id": "4QqFenyNPeLt"
   },
   "source": [
    "Out of 35 attributes in the raw input data, only 20 features are selected to train the model which have the highest impact on attrition"
   ]
  },
  {
   "cell_type": "markdown",
   "id": "8OMQghPvGc0x",
   "metadata": {
    "id": "8OMQghPvGc0x"
   },
   "source": [
    "## Training and Testing Data"
   ]
  },
  {
   "cell_type": "code",
   "execution_count": 150,
   "id": "ac3bfdf6",
   "metadata": {
    "executionInfo": {
     "elapsed": 65,
     "status": "ok",
     "timestamp": 1664002832820,
     "user": {
      "displayName": "Bansal Sahil",
      "userId": "09246232949994325052"
     },
     "user_tz": -330
    },
    "id": "ac3bfdf6"
   },
   "outputs": [],
   "source": [
    "#Splitting the Data into training and testing with test size as 20%, and constant random_state\n",
    "from sklearn.model_selection import train_test_split\n",
    "x_train,x_test,y_train,y_test=train_test_split(x,y,test_size=0.2,random_state=0)"
   ]
  },
  {
   "cell_type": "code",
   "execution_count": 151,
   "id": "1e738dc6",
   "metadata": {
    "colab": {
     "base_uri": "https://localhost:8080/"
    },
    "executionInfo": {
     "elapsed": 65,
     "status": "ok",
     "timestamp": 1664002832820,
     "user": {
      "displayName": "Bansal Sahil",
      "userId": "09246232949994325052"
     },
     "user_tz": -330
    },
    "id": "1e738dc6",
    "outputId": "35d3359f-da73-44ae-f6f9-cab446cc23cd"
   },
   "outputs": [
    {
     "data": {
      "text/plain": [
       "(1176, 20)"
      ]
     },
     "execution_count": 151,
     "metadata": {},
     "output_type": "execute_result"
    }
   ],
   "source": [
    "x_train.shape"
   ]
  },
  {
   "cell_type": "code",
   "execution_count": 152,
   "id": "70b2eae2",
   "metadata": {
    "colab": {
     "base_uri": "https://localhost:8080/"
    },
    "executionInfo": {
     "elapsed": 63,
     "status": "ok",
     "timestamp": 1664002832820,
     "user": {
      "displayName": "Bansal Sahil",
      "userId": "09246232949994325052"
     },
     "user_tz": -330
    },
    "id": "70b2eae2",
    "outputId": "b49c2908-a616-4012-c927-9f98fb55c5b5"
   },
   "outputs": [
    {
     "data": {
      "text/plain": [
       "(294, 20)"
      ]
     },
     "execution_count": 152,
     "metadata": {},
     "output_type": "execute_result"
    }
   ],
   "source": [
    "x_test.shape"
   ]
  },
  {
   "cell_type": "code",
   "execution_count": 153,
   "id": "9df34efa",
   "metadata": {
    "colab": {
     "base_uri": "https://localhost:8080/"
    },
    "executionInfo": {
     "elapsed": 62,
     "status": "ok",
     "timestamp": 1664002832820,
     "user": {
      "displayName": "Bansal Sahil",
      "userId": "09246232949994325052"
     },
     "user_tz": -330
    },
    "id": "9df34efa",
    "outputId": "146b8b58-c312-45a9-adef-19a0f4d2eeb5"
   },
   "outputs": [
    {
     "data": {
      "text/plain": [
       "(1176,)"
      ]
     },
     "execution_count": 153,
     "metadata": {},
     "output_type": "execute_result"
    }
   ],
   "source": [
    "y_train.shape"
   ]
  },
  {
   "cell_type": "code",
   "execution_count": 154,
   "id": "e1851b37",
   "metadata": {
    "colab": {
     "base_uri": "https://localhost:8080/"
    },
    "executionInfo": {
     "elapsed": 61,
     "status": "ok",
     "timestamp": 1664002832821,
     "user": {
      "displayName": "Bansal Sahil",
      "userId": "09246232949994325052"
     },
     "user_tz": -330
    },
    "id": "e1851b37",
    "outputId": "5695feeb-ea09-4448-c10c-eaeec20c8b09"
   },
   "outputs": [
    {
     "data": {
      "text/plain": [
       "(294,)"
      ]
     },
     "execution_count": 154,
     "metadata": {},
     "output_type": "execute_result"
    }
   ],
   "source": [
    "y_test.shape"
   ]
  },
  {
   "cell_type": "markdown",
   "id": "Wsm0iWM2a1iU",
   "metadata": {
    "id": "Wsm0iWM2a1iU"
   },
   "source": [
    "## Scaling the Data"
   ]
  },
  {
   "cell_type": "code",
   "execution_count": 155,
   "id": "ea7767ab",
   "metadata": {
    "executionInfo": {
     "elapsed": 60,
     "status": "ok",
     "timestamp": 1664002832822,
     "user": {
      "displayName": "Bansal Sahil",
      "userId": "09246232949994325052"
     },
     "user_tz": -330
    },
    "id": "ea7767ab"
   },
   "outputs": [],
   "source": [
    "from sklearn.preprocessing import StandardScaler\n",
    "sc=StandardScaler()\n",
    "x_train=sc.fit_transform(x_train)\n",
    "x_test=sc.fit_transform(x_test)"
   ]
  },
  {
   "cell_type": "markdown",
   "id": "ZeWNSYdiJCOO",
   "metadata": {
    "id": "ZeWNSYdiJCOO"
   },
   "source": [
    "The data is scaled using the Standard Scaler to improve the accuracy of all the classifiers."
   ]
  },
  {
   "cell_type": "markdown",
   "id": "cHLuI2ala6h0",
   "metadata": {
    "id": "cHLuI2ala6h0"
   },
   "source": [
    "## Logistic Regression Classifier"
   ]
  },
  {
   "cell_type": "code",
   "execution_count": 156,
   "id": "fe2a9f3e",
   "metadata": {
    "colab": {
     "base_uri": "https://localhost:8080/"
    },
    "executionInfo": {
     "elapsed": 59,
     "status": "ok",
     "timestamp": 1664002832822,
     "user": {
      "displayName": "Bansal Sahil",
      "userId": "09246232949994325052"
     },
     "user_tz": -330
    },
    "id": "fe2a9f3e",
    "outputId": "7356a955-66d7-479a-cd03-40ed772501e5"
   },
   "outputs": [
    {
     "data": {
      "text/plain": [
       "LogisticRegression()"
      ]
     },
     "execution_count": 156,
     "metadata": {},
     "output_type": "execute_result"
    }
   ],
   "source": [
    "from sklearn.linear_model import LogisticRegression\n",
    "log=LogisticRegression()\n",
    "log.fit(x_train,y_train)"
   ]
  },
  {
   "cell_type": "code",
   "execution_count": 157,
   "id": "64b67bd1",
   "metadata": {
    "colab": {
     "base_uri": "https://localhost:8080/"
    },
    "executionInfo": {
     "elapsed": 55,
     "status": "ok",
     "timestamp": 1664002832822,
     "user": {
      "displayName": "Bansal Sahil",
      "userId": "09246232949994325052"
     },
     "user_tz": -330
    },
    "id": "64b67bd1",
    "outputId": "23cf54aa-1658-4466-8e68-c7954c86c354"
   },
   "outputs": [
    {
     "data": {
      "text/plain": [
       "array([0, 0, 0, 0, 1, 0, 1, 0, 0, 0, 0, 0, 0, 1, 0, 0, 0, 0, 0, 0, 0, 0,\n",
       "       0, 0, 1, 0, 0, 0, 1, 0, 0, 0, 0, 0, 0, 0, 0, 0, 0, 0, 0, 0, 0, 0,\n",
       "       0, 1, 0, 0, 1, 0, 0, 0, 0, 0, 1, 0, 0, 0, 0, 0, 0, 0, 0, 0, 0, 0,\n",
       "       0, 0, 0, 0, 0, 0, 0, 0, 0, 0, 0, 0, 0, 0, 0, 0, 0, 0, 0, 0, 0, 0,\n",
       "       0, 0, 0, 0, 0, 0, 0, 0, 0, 0, 0, 0, 0, 1, 1, 0, 0, 0, 0, 0, 0, 0,\n",
       "       0, 0, 0, 0, 0, 0, 0, 0, 0, 0, 0, 0, 0, 1, 0, 0, 0, 0, 0, 0, 0, 0,\n",
       "       1, 0, 0, 0, 1, 0, 0, 0, 0, 0, 0, 0, 0, 0, 0, 0, 0, 0, 0, 0, 0, 0,\n",
       "       0, 0, 0, 0, 0, 0, 0, 0, 0, 1, 0, 0, 0, 0, 0, 0, 0, 0, 0, 0, 0, 0,\n",
       "       0, 0, 0, 0, 0, 0, 0, 1, 0, 0, 0, 0, 1, 0, 0, 1, 0, 0, 0, 0, 0, 0,\n",
       "       0, 0, 0, 0, 1, 0, 0, 0, 1, 0, 0, 0, 0, 0, 0, 0, 0, 0, 0, 0, 0, 0,\n",
       "       0, 0, 1, 0, 0, 0, 0, 0, 0, 0, 0, 0, 0, 0, 0, 0, 0, 0, 0, 0, 0, 0,\n",
       "       0, 0, 0, 0, 0, 0, 0, 0, 0, 0, 1, 0, 0, 0, 0, 1, 0, 0, 0, 0, 0, 0,\n",
       "       0, 0, 0, 0, 0, 0, 0, 0, 0, 0, 0, 0, 0, 0, 0, 0, 0, 0, 0, 0, 0, 0,\n",
       "       0, 0, 0, 0, 0, 1, 0, 0])"
      ]
     },
     "execution_count": 157,
     "metadata": {},
     "output_type": "execute_result"
    }
   ],
   "source": [
    "logpred=log.predict(x_test)\n",
    "logpred"
   ]
  },
  {
   "cell_type": "code",
   "execution_count": 158,
   "id": "a3524738",
   "metadata": {
    "colab": {
     "base_uri": "https://localhost:8080/"
    },
    "executionInfo": {
     "elapsed": 53,
     "status": "ok",
     "timestamp": 1664002832822,
     "user": {
      "displayName": "Bansal Sahil",
      "userId": "09246232949994325052"
     },
     "user_tz": -330
    },
    "id": "a3524738",
    "outputId": "d5905b4a-5e9a-416f-a629-912164e609c7"
   },
   "outputs": [
    {
     "data": {
      "text/plain": [
       "array([0, 0, 1, 0, 1, 0, 1, 0, 0, 1, 0, 1, 0, 1, 0, 0, 0, 1, 0, 0, 0, 0,\n",
       "       0, 0, 0, 0, 0, 0, 0, 0, 0, 0, 0, 1, 0, 0, 0, 0, 1, 0, 0, 0, 0, 0,\n",
       "       0, 1, 0, 0, 1, 1, 0, 1, 0, 0, 1, 0, 0, 1, 0, 0, 0, 0, 0, 0, 0, 0,\n",
       "       1, 1, 0, 1, 0, 0, 0, 0, 0, 0, 0, 0, 1, 0, 0, 0, 0, 0, 0, 0, 0, 0,\n",
       "       0, 0, 0, 0, 0, 0, 0, 0, 0, 0, 0, 0, 1, 1, 0, 0, 0, 0, 0, 0, 0, 0,\n",
       "       0, 0, 0, 0, 0, 0, 0, 0, 0, 0, 0, 0, 0, 1, 0, 0, 0, 0, 0, 0, 0, 1,\n",
       "       1, 0, 0, 0, 1, 0, 0, 0, 0, 0, 0, 0, 0, 1, 0, 0, 1, 0, 0, 0, 0, 1,\n",
       "       0, 0, 0, 0, 0, 0, 1, 0, 0, 1, 0, 0, 0, 0, 0, 0, 0, 1, 0, 0, 1, 0,\n",
       "       0, 0, 0, 0, 0, 0, 0, 1, 0, 0, 0, 0, 1, 0, 0, 1, 0, 0, 0, 0, 0, 0,\n",
       "       1, 0, 0, 0, 1, 0, 0, 0, 0, 0, 0, 0, 0, 0, 0, 1, 1, 0, 0, 0, 0, 0,\n",
       "       0, 0, 0, 0, 0, 0, 0, 0, 1, 0, 0, 0, 0, 0, 0, 0, 0, 0, 0, 0, 1, 0,\n",
       "       0, 0, 0, 0, 0, 0, 0, 0, 0, 0, 1, 0, 0, 0, 0, 1, 0, 1, 0, 0, 0, 0,\n",
       "       0, 0, 0, 1, 1, 0, 0, 0, 0, 0, 0, 0, 0, 0, 0, 0, 1, 0, 0, 0, 0, 0,\n",
       "       0, 1, 0, 0, 0, 1, 0, 0])"
      ]
     },
     "execution_count": 158,
     "metadata": {},
     "output_type": "execute_result"
    }
   ],
   "source": [
    "y_test"
   ]
  },
  {
   "cell_type": "code",
   "execution_count": 159,
   "id": "edcd564f",
   "metadata": {
    "colab": {
     "base_uri": "https://localhost:8080/"
    },
    "executionInfo": {
     "elapsed": 51,
     "status": "ok",
     "timestamp": 1664002832822,
     "user": {
      "displayName": "Bansal Sahil",
      "userId": "09246232949994325052"
     },
     "user_tz": -330
    },
    "id": "edcd564f",
    "outputId": "4eae0d00-a782-4d1c-f915-8edad50625e3"
   },
   "outputs": [
    {
     "data": {
      "text/plain": [
       "0.8775510204081632"
      ]
     },
     "execution_count": 159,
     "metadata": {},
     "output_type": "execute_result"
    }
   ],
   "source": [
    "#Calculating the Accuracy\n",
    "from sklearn.metrics import accuracy_score\n",
    "logacc=accuracy_score(y_test,logpred)\n",
    "logacc"
   ]
  },
  {
   "cell_type": "code",
   "execution_count": 160,
   "id": "J9q0wOWXWX1P",
   "metadata": {
    "colab": {
     "base_uri": "https://localhost:8080/"
    },
    "executionInfo": {
     "elapsed": 50,
     "status": "ok",
     "timestamp": 1664002832822,
     "user": {
      "displayName": "Bansal Sahil",
      "userId": "09246232949994325052"
     },
     "user_tz": -330
    },
    "id": "J9q0wOWXWX1P",
    "outputId": "65b38588-eadb-4a10-8ef0-3ebb0bfce713"
   },
   "outputs": [
    {
     "data": {
      "text/plain": [
       "0.782608695652174"
      ]
     },
     "execution_count": 160,
     "metadata": {},
     "output_type": "execute_result"
    }
   ],
   "source": [
    "#Precision\n",
    "from sklearn import metrics\n",
    "metrics.precision_score(y_test, logpred)"
   ]
  },
  {
   "cell_type": "code",
   "execution_count": 161,
   "id": "HGWPhMRUppI8",
   "metadata": {
    "colab": {
     "base_uri": "https://localhost:8080/"
    },
    "executionInfo": {
     "elapsed": 48,
     "status": "ok",
     "timestamp": 1664002832822,
     "user": {
      "displayName": "Bansal Sahil",
      "userId": "09246232949994325052"
     },
     "user_tz": -330
    },
    "id": "HGWPhMRUppI8",
    "outputId": "58bba84b-2c58-4849-fe35-7e4d6382b100"
   },
   "outputs": [
    {
     "data": {
      "text/plain": [
       "0.3673469387755102"
      ]
     },
     "execution_count": 161,
     "metadata": {},
     "output_type": "execute_result"
    }
   ],
   "source": [
    "#Recall\n",
    "from sklearn.metrics import recall_score\n",
    "recall_score(y_test, logpred)"
   ]
  },
  {
   "cell_type": "code",
   "execution_count": 162,
   "id": "UXe3Fj2zp3r6",
   "metadata": {
    "colab": {
     "base_uri": "https://localhost:8080/"
    },
    "executionInfo": {
     "elapsed": 47,
     "status": "ok",
     "timestamp": 1664002832822,
     "user": {
      "displayName": "Bansal Sahil",
      "userId": "09246232949994325052"
     },
     "user_tz": -330
    },
    "id": "UXe3Fj2zp3r6",
    "outputId": "09406cf7-0c8b-4a4b-ffc0-a25e7ff10588"
   },
   "outputs": [
    {
     "data": {
      "text/plain": [
       "0.5"
      ]
     },
     "execution_count": 162,
     "metadata": {},
     "output_type": "execute_result"
    }
   ],
   "source": [
    "#F-1 Score\n",
    "from sklearn.metrics import f1_score\n",
    "f1_score(y_test, logpred)"
   ]
  },
  {
   "cell_type": "code",
   "execution_count": 163,
   "id": "b80c7b47",
   "metadata": {
    "colab": {
     "base_uri": "https://localhost:8080/"
    },
    "executionInfo": {
     "elapsed": 47,
     "status": "ok",
     "timestamp": 1664002832823,
     "user": {
      "displayName": "Bansal Sahil",
      "userId": "09246232949994325052"
     },
     "user_tz": -330
    },
    "id": "b80c7b47",
    "outputId": "1d13573b-5225-4feb-dcef-7a5b4a213eab"
   },
   "outputs": [
    {
     "data": {
      "text/plain": [
       "array([[240,   5],\n",
       "       [ 31,  18]])"
      ]
     },
     "execution_count": 163,
     "metadata": {},
     "output_type": "execute_result"
    }
   ],
   "source": [
    "#Generating the COnfusion Matrix\n",
    "from sklearn.metrics import confusion_matrix\n",
    "logcm=confusion_matrix(y_test,logpred)\n",
    "logcm"
   ]
  },
  {
   "cell_type": "code",
   "execution_count": 164,
   "id": "AGui9yQT5F98",
   "metadata": {
    "colab": {
     "base_uri": "https://localhost:8080/",
     "height": 335
    },
    "executionInfo": {
     "elapsed": 46,
     "status": "ok",
     "timestamp": 1664002832823,
     "user": {
      "displayName": "Bansal Sahil",
      "userId": "09246232949994325052"
     },
     "user_tz": -330
    },
    "id": "AGui9yQT5F98",
    "outputId": "0ba12aa4-2531-4195-f7a8-50a1b65b28eb"
   },
   "outputs": [
    {
     "name": "stderr",
     "output_type": "stream",
     "text": [
      "/usr/local/lib/python3.7/dist-packages/sklearn/utils/deprecation.py:87: FutureWarning: Function plot_confusion_matrix is deprecated; Function `plot_confusion_matrix` is deprecated in 1.0 and will be removed in 1.2. Use one of the class methods: ConfusionMatrixDisplay.from_predictions or ConfusionMatrixDisplay.from_estimator.\n",
      "  warnings.warn(msg, category=FutureWarning)\n"
     ]
    },
    {
     "data": {
      "image/png": "[encoded data removed]",
      "text/plain": [
       "<Figure size 432x288 with 2 Axes>"
      ]
     },
     "metadata": {
      "needs_background": "light"
     },
     "output_type": "display_data"
    }
   ],
   "source": [
    "#Visualising the Confusion Matrix\n",
    "from sklearn.metrics import plot_confusion_matrix\n",
    "plot_confusion_matrix(log, x_test, y_test, cmap='Blues')\n",
    "plt.show()"
   ]
  },
  {
   "cell_type": "markdown",
   "id": "WoCS1oIlbAS2",
   "metadata": {
    "id": "WoCS1oIlbAS2"
   },
   "source": [
    "## Decision Tree Classifier"
   ]
  },
  {
   "cell_type": "code",
   "execution_count": 165,
   "id": "fec61d2c",
   "metadata": {
    "colab": {
     "base_uri": "https://localhost:8080/"
    },
    "executionInfo": {
     "elapsed": 45,
     "status": "ok",
     "timestamp": 1664002832823,
     "user": {
      "displayName": "Bansal Sahil",
      "userId": "09246232949994325052"
     },
     "user_tz": -330
    },
    "id": "fec61d2c",
    "outputId": "859f70d9-59b7-4119-e887-c99171831e60"
   },
   "outputs": [
    {
     "data": {
      "text/plain": [
       "DecisionTreeClassifier(criterion='entropy')"
      ]
     },
     "execution_count": 165,
     "metadata": {},
     "output_type": "execute_result"
    }
   ],
   "source": [
    "#Apply the Decision Tree Classifier with entropy\n",
    "from sklearn.tree import DecisionTreeClassifier\n",
    "dtc=DecisionTreeClassifier(criterion='entropy')\n",
    "dtc.fit(x_train,y_train)"
   ]
  },
  {
   "cell_type": "code",
   "execution_count": 166,
   "id": "d2077a2b",
   "metadata": {
    "colab": {
     "base_uri": "https://localhost:8080/"
    },
    "executionInfo": {
     "elapsed": 43,
     "status": "ok",
     "timestamp": 1664002832823,
     "user": {
      "displayName": "Bansal Sahil",
      "userId": "09246232949994325052"
     },
     "user_tz": -330
    },
    "id": "d2077a2b",
    "outputId": "7dd0b570-c5fb-4bfa-d5cd-17cdebfbf9e2"
   },
   "outputs": [
    {
     "data": {
      "text/plain": [
       "array([0, 0, 0, 0, 1, 1, 0, 0, 0, 0, 0, 0, 0, 1, 1, 0, 0, 0, 0, 0, 1, 0,\n",
       "       0, 0, 0, 0, 0, 0, 1, 0, 0, 0, 0, 0, 0, 0, 0, 0, 0, 0, 0, 0, 0, 0,\n",
       "       0, 1, 0, 0, 1, 1, 0, 0, 1, 0, 0, 0, 0, 0, 0, 1, 0, 0, 0, 0, 0, 0,\n",
       "       1, 0, 0, 0, 1, 1, 0, 0, 0, 0, 0, 0, 1, 0, 0, 0, 0, 0, 0, 1, 0, 0,\n",
       "       0, 0, 0, 0, 0, 0, 0, 0, 0, 0, 0, 0, 0, 1, 1, 0, 0, 0, 0, 1, 1, 0,\n",
       "       0, 1, 0, 0, 0, 1, 0, 0, 0, 0, 0, 0, 0, 1, 0, 0, 0, 1, 0, 0, 0, 0,\n",
       "       0, 0, 0, 0, 0, 0, 1, 0, 0, 0, 1, 0, 0, 0, 0, 0, 0, 0, 0, 0, 0, 1,\n",
       "       0, 0, 0, 0, 0, 0, 1, 0, 0, 1, 0, 1, 0, 0, 0, 0, 0, 0, 0, 1, 0, 1,\n",
       "       0, 0, 1, 1, 0, 0, 0, 0, 0, 0, 0, 0, 1, 0, 1, 1, 0, 0, 0, 0, 0, 0,\n",
       "       1, 0, 0, 0, 0, 0, 0, 0, 1, 0, 0, 1, 0, 0, 0, 0, 0, 0, 0, 1, 0, 0,\n",
       "       0, 1, 0, 0, 0, 0, 0, 1, 1, 0, 0, 0, 0, 0, 0, 0, 1, 0, 0, 0, 1, 0,\n",
       "       0, 0, 0, 0, 0, 0, 0, 0, 0, 0, 0, 0, 0, 0, 0, 1, 0, 1, 0, 0, 0, 0,\n",
       "       1, 1, 0, 1, 0, 0, 0, 0, 0, 0, 0, 0, 0, 0, 0, 0, 0, 0, 0, 0, 0, 1,\n",
       "       0, 0, 0, 0, 0, 0, 0, 0])"
      ]
     },
     "execution_count": 166,
     "metadata": {},
     "output_type": "execute_result"
    }
   ],
   "source": [
    "dtcpred=dtc.predict(x_test)\n",
    "dtcpred"
   ]
  },
  {
   "cell_type": "code",
   "execution_count": 167,
   "id": "113f6b1d",
   "metadata": {
    "colab": {
     "base_uri": "https://localhost:8080/"
    },
    "executionInfo": {
     "elapsed": 41,
     "status": "ok",
     "timestamp": 1664002832823,
     "user": {
      "displayName": "Bansal Sahil",
      "userId": "09246232949994325052"
     },
     "user_tz": -330
    },
    "id": "113f6b1d",
    "outputId": "796d1864-4da0-4aa7-e6cd-28448df67a88"
   },
   "outputs": [
    {
     "data": {
      "text/plain": [
       "0.7925170068027211"
      ]
     },
     "execution_count": 167,
     "metadata": {},
     "output_type": "execute_result"
    }
   ],
   "source": [
    "#Calculating the Accuracy\n",
    "dtcacc=accuracy_score(y_test,dtcpred)\n",
    "dtcacc"
   ]
  },
  {
   "cell_type": "code",
   "execution_count": 168,
   "id": "AaZMzenqXK40",
   "metadata": {
    "colab": {
     "base_uri": "https://localhost:8080/"
    },
    "executionInfo": {
     "elapsed": 39,
     "status": "ok",
     "timestamp": 1664002832823,
     "user": {
      "displayName": "Bansal Sahil",
      "userId": "09246232949994325052"
     },
     "user_tz": -330
    },
    "id": "AaZMzenqXK40",
    "outputId": "5968d0cd-6eb9-4052-ab4f-df62587188c7"
   },
   "outputs": [
    {
     "data": {
      "text/plain": [
       "0.38461538461538464"
      ]
     },
     "execution_count": 168,
     "metadata": {},
     "output_type": "execute_result"
    }
   ],
   "source": [
    "#Precision\n",
    "from sklearn import metrics\n",
    "metrics.precision_score(y_test, dtcpred)"
   ]
  },
  {
   "cell_type": "code",
   "execution_count": 169,
   "id": "K__iNAuPqY7x",
   "metadata": {
    "colab": {
     "base_uri": "https://localhost:8080/"
    },
    "executionInfo": {
     "elapsed": 38,
     "status": "ok",
     "timestamp": 1664002832823,
     "user": {
      "displayName": "Bansal Sahil",
      "userId": "09246232949994325052"
     },
     "user_tz": -330
    },
    "id": "K__iNAuPqY7x",
    "outputId": "3ed4eace-8dfb-4df2-ebff-625c149be6b1"
   },
   "outputs": [
    {
     "data": {
      "text/plain": [
       "0.40816326530612246"
      ]
     },
     "execution_count": 169,
     "metadata": {},
     "output_type": "execute_result"
    }
   ],
   "source": [
    "#Recall\n",
    "from sklearn.metrics import recall_score\n",
    "recall_score(y_test, dtcpred)"
   ]
  },
  {
   "cell_type": "code",
   "execution_count": 170,
   "id": "FqxFIhwdqb6H",
   "metadata": {
    "colab": {
     "base_uri": "https://localhost:8080/"
    },
    "executionInfo": {
     "elapsed": 37,
     "status": "ok",
     "timestamp": 1664002832824,
     "user": {
      "displayName": "Bansal Sahil",
      "userId": "09246232949994325052"
     },
     "user_tz": -330
    },
    "id": "FqxFIhwdqb6H",
    "outputId": "e33fd3c6-e892-4dc3-dce2-00bd2627a87e"
   },
   "outputs": [
    {
     "data": {
      "text/plain": [
       "0.39603960396039606"
      ]
     },
     "execution_count": 170,
     "metadata": {},
     "output_type": "execute_result"
    }
   ],
   "source": [
    "#F-1 Score\n",
    "from sklearn.metrics import f1_score\n",
    "f1_score(y_test, dtcpred)"
   ]
  },
  {
   "cell_type": "code",
   "execution_count": 171,
   "id": "b9a36b2e",
   "metadata": {
    "colab": {
     "base_uri": "https://localhost:8080/"
    },
    "executionInfo": {
     "elapsed": 35,
     "status": "ok",
     "timestamp": 1664002832824,
     "user": {
      "displayName": "Bansal Sahil",
      "userId": "09246232949994325052"
     },
     "user_tz": -330
    },
    "id": "b9a36b2e",
    "outputId": "311079e7-713c-4cd7-fbbd-ad313728154c"
   },
   "outputs": [
    {
     "data": {
      "text/plain": [
       "array([[213,  32],\n",
       "       [ 29,  20]])"
      ]
     },
     "execution_count": 171,
     "metadata": {},
     "output_type": "execute_result"
    }
   ],
   "source": [
    "#Generating a Confusion Matrix\n",
    "dtccm=confusion_matrix(y_test,dtcpred)\n",
    "dtccm"
   ]
  },
  {
   "cell_type": "code",
   "execution_count": 172,
   "id": "39K31zmE5r6E",
   "metadata": {
    "colab": {
     "base_uri": "https://localhost:8080/",
     "height": 335
    },
    "executionInfo": {
     "elapsed": 33,
     "status": "ok",
     "timestamp": 1664002832824,
     "user": {
      "displayName": "Bansal Sahil",
      "userId": "09246232949994325052"
     },
     "user_tz": -330
    },
    "id": "39K31zmE5r6E",
    "outputId": "b4607dce-eccc-458f-b7e4-ad66d7184e0f"
   },
   "outputs": [
    {
     "name": "stderr",
     "output_type": "stream",
     "text": [
      "/usr/local/lib/python3.7/dist-packages/sklearn/utils/deprecation.py:87: FutureWarning: Function plot_confusion_matrix is deprecated; Function `plot_confusion_matrix` is deprecated in 1.0 and will be removed in 1.2. Use one of the class methods: ConfusionMatrixDisplay.from_predictions or ConfusionMatrixDisplay.from_estimator.\n",
      "  warnings.warn(msg, category=FutureWarning)\n"
     ]
    },
    {
     "data": {
      "image/png": "[encoded data removed]",
      "text/plain": [
       "<Figure size 432x288 with 2 Axes>"
      ]
     },
     "metadata": {
      "needs_background": "light"
     },
     "output_type": "display_data"
    }
   ],
   "source": [
    "#Visualising the Confusion Matrix\n",
    "from sklearn.metrics import plot_confusion_matrix\n",
    "plot_confusion_matrix(dtc, x_test, y_test, cmap='Blues')\n",
    "plt.show()"
   ]
  },
  {
   "cell_type": "markdown",
   "id": "GBEn_YVsbHEb",
   "metadata": {
    "id": "GBEn_YVsbHEb"
   },
   "source": [
    "## Random Forest Classifier"
   ]
  },
  {
   "cell_type": "code",
   "execution_count": 173,
   "id": "b5f7d332",
   "metadata": {
    "colab": {
     "base_uri": "https://localhost:8080/"
    },
    "executionInfo": {
     "elapsed": 31,
     "status": "ok",
     "timestamp": 1664002832824,
     "user": {
      "displayName": "Bansal Sahil",
      "userId": "09246232949994325052"
     },
     "user_tz": -330
    },
    "id": "b5f7d332",
    "outputId": "0a423040-f91f-4072-b52a-e172c1e13f75"
   },
   "outputs": [
    {
     "data": {
      "text/plain": [
       "RandomForestClassifier(criterion='entropy', max_features='log2')"
      ]
     },
     "execution_count": 173,
     "metadata": {},
     "output_type": "execute_result"
    }
   ],
   "source": [
    "#Applying Random Forest Classifier with entropy, and the estimators as 100, and log2 max_features\n",
    "from sklearn.ensemble import RandomForestClassifier\n",
    "rfc=RandomForestClassifier(criterion='entropy',n_estimators=100,max_features='log2')\n",
    "rfc.fit(x_train,y_train)"
   ]
  },
  {
   "cell_type": "code",
   "execution_count": 174,
   "id": "9ed945b9",
   "metadata": {
    "colab": {
     "base_uri": "https://localhost:8080/"
    },
    "executionInfo": {
     "elapsed": 30,
     "status": "ok",
     "timestamp": 1664002832824,
     "user": {
      "displayName": "Bansal Sahil",
      "userId": "09246232949994325052"
     },
     "user_tz": -330
    },
    "id": "9ed945b9",
    "outputId": "816ebbf8-8399-4a51-90a1-8a5a205564f3"
   },
   "outputs": [
    {
     "data": {
      "text/plain": [
       "array([0, 0, 0, 0, 1, 0, 0, 0, 0, 0, 0, 0, 0, 1, 0, 0, 0, 0, 0, 0, 0, 0,\n",
       "       0, 0, 0, 0, 0, 0, 1, 0, 0, 0, 0, 0, 0, 0, 0, 0, 0, 0, 0, 0, 0, 0,\n",
       "       0, 1, 0, 0, 1, 0, 0, 0, 0, 0, 0, 0, 0, 0, 0, 0, 0, 0, 0, 0, 0, 0,\n",
       "       0, 0, 0, 0, 0, 0, 0, 0, 0, 0, 0, 0, 0, 0, 0, 0, 0, 0, 0, 0, 0, 0,\n",
       "       0, 0, 0, 0, 0, 0, 0, 0, 0, 0, 0, 0, 0, 0, 0, 0, 0, 0, 0, 0, 0, 0,\n",
       "       0, 0, 0, 0, 0, 0, 0, 0, 0, 0, 0, 0, 0, 1, 0, 0, 0, 0, 0, 0, 0, 0,\n",
       "       0, 0, 0, 0, 0, 0, 0, 0, 0, 0, 0, 0, 0, 0, 0, 0, 0, 0, 0, 0, 0, 0,\n",
       "       0, 0, 0, 0, 0, 0, 0, 0, 0, 1, 0, 0, 0, 0, 0, 0, 0, 0, 0, 0, 0, 1,\n",
       "       0, 0, 0, 0, 0, 0, 0, 0, 0, 0, 0, 0, 0, 0, 0, 1, 0, 0, 0, 0, 0, 0,\n",
       "       0, 0, 0, 0, 0, 0, 0, 0, 1, 0, 0, 0, 0, 0, 0, 0, 0, 0, 0, 0, 0, 1,\n",
       "       0, 0, 1, 0, 0, 0, 0, 0, 0, 0, 0, 0, 0, 0, 0, 0, 0, 0, 0, 0, 0, 0,\n",
       "       0, 0, 0, 0, 0, 0, 0, 0, 0, 0, 0, 0, 0, 0, 0, 1, 0, 0, 0, 0, 0, 0,\n",
       "       0, 0, 0, 0, 0, 0, 0, 0, 0, 0, 0, 0, 0, 0, 0, 0, 0, 0, 0, 0, 0, 0,\n",
       "       0, 0, 0, 0, 0, 0, 0, 0])"
      ]
     },
     "execution_count": 174,
     "metadata": {},
     "output_type": "execute_result"
    }
   ],
   "source": [
    "rfc_pred=rfc.predict(x_test)\n",
    "rfc_pred"
   ]
  },
  {
   "cell_type": "code",
   "execution_count": 175,
   "id": "35c1ac24",
   "metadata": {
    "colab": {
     "base_uri": "https://localhost:8080/"
    },
    "executionInfo": {
     "elapsed": 43,
     "status": "ok",
     "timestamp": 1664002832838,
     "user": {
      "displayName": "Bansal Sahil",
      "userId": "09246232949994325052"
     },
     "user_tz": -330
    },
    "id": "35c1ac24",
    "outputId": "0c213d5b-c792-49aa-c212-a9cf045ba786"
   },
   "outputs": [
    {
     "data": {
      "text/plain": [
       "0.8435374149659864"
      ]
     },
     "execution_count": 175,
     "metadata": {},
     "output_type": "execute_result"
    }
   ],
   "source": [
    "#Calculating the Accuracy\n",
    "rfcacc=accuracy_score(y_test,rfc_pred)\n",
    "rfcacc"
   ]
  },
  {
   "cell_type": "code",
   "execution_count": 176,
   "id": "M5igNKQVXP9j",
   "metadata": {
    "colab": {
     "base_uri": "https://localhost:8080/"
    },
    "executionInfo": {
     "elapsed": 42,
     "status": "ok",
     "timestamp": 1664002832839,
     "user": {
      "displayName": "Bansal Sahil",
      "userId": "09246232949994325052"
     },
     "user_tz": -330
    },
    "id": "M5igNKQVXP9j",
    "outputId": "b6d1f60a-5a12-4c84-ba6d-502c071ffd94"
   },
   "outputs": [
    {
     "data": {
      "text/plain": [
       "0.6153846153846154"
      ]
     },
     "execution_count": 176,
     "metadata": {},
     "output_type": "execute_result"
    }
   ],
   "source": [
    "#Precision\n",
    "from sklearn import metrics\n",
    "metrics.precision_score(y_test, rfc_pred)"
   ]
  },
  {
   "cell_type": "code",
   "execution_count": 177,
   "id": "URKLFhmaqnn3",
   "metadata": {
    "colab": {
     "base_uri": "https://localhost:8080/"
    },
    "executionInfo": {
     "elapsed": 41,
     "status": "ok",
     "timestamp": 1664002832840,
     "user": {
      "displayName": "Bansal Sahil",
      "userId": "09246232949994325052"
     },
     "user_tz": -330
    },
    "id": "URKLFhmaqnn3",
    "outputId": "fc37b6ef-eb13-4461-8f09-c1d957b21630"
   },
   "outputs": [
    {
     "data": {
      "text/plain": [
       "0.16326530612244897"
      ]
     },
     "execution_count": 177,
     "metadata": {},
     "output_type": "execute_result"
    }
   ],
   "source": [
    "#Recall\n",
    "from sklearn.metrics import recall_score\n",
    "recall_score(y_test, rfc_pred)"
   ]
  },
  {
   "cell_type": "code",
   "execution_count": 178,
   "id": "9z9vTQquqjYQ",
   "metadata": {
    "colab": {
     "base_uri": "https://localhost:8080/"
    },
    "executionInfo": {
     "elapsed": 41,
     "status": "ok",
     "timestamp": 1664002832841,
     "user": {
      "displayName": "Bansal Sahil",
      "userId": "09246232949994325052"
     },
     "user_tz": -330
    },
    "id": "9z9vTQquqjYQ",
    "outputId": "50fe3a66-1112-411e-d237-d40738ac01c7"
   },
   "outputs": [
    {
     "data": {
      "text/plain": [
       "0.25806451612903225"
      ]
     },
     "execution_count": 178,
     "metadata": {},
     "output_type": "execute_result"
    }
   ],
   "source": [
    "#F-1 Score\n",
    "from sklearn.metrics import f1_score\n",
    "f1_score(y_test, rfc_pred)"
   ]
  },
  {
   "cell_type": "code",
   "execution_count": 179,
   "id": "ac29340c",
   "metadata": {
    "colab": {
     "base_uri": "https://localhost:8080/"
    },
    "executionInfo": {
     "elapsed": 40,
     "status": "ok",
     "timestamp": 1664002832841,
     "user": {
      "displayName": "Bansal Sahil",
      "userId": "09246232949994325052"
     },
     "user_tz": -330
    },
    "id": "ac29340c",
    "outputId": "700a3c85-2fd2-44fe-f289-22d70e9487ce"
   },
   "outputs": [
    {
     "data": {
      "text/plain": [
       "array([[240,   5],\n",
       "       [ 41,   8]])"
      ]
     },
     "execution_count": 179,
     "metadata": {},
     "output_type": "execute_result"
    }
   ],
   "source": [
    "#Generating the Confusion Matrix\n",
    "rfccm=confusion_matrix(y_test,rfc_pred)\n",
    "rfccm"
   ]
  },
  {
   "cell_type": "code",
   "execution_count": 180,
   "id": "ex0__UQG58KM",
   "metadata": {
    "colab": {
     "base_uri": "https://localhost:8080/",
     "height": 335
    },
    "executionInfo": {
     "elapsed": 731,
     "status": "ok",
     "timestamp": 1664002833534,
     "user": {
      "displayName": "Bansal Sahil",
      "userId": "09246232949994325052"
     },
     "user_tz": -330
    },
    "id": "ex0__UQG58KM",
    "outputId": "9536a31b-51c3-45d1-f4fe-e03742858105"
   },
   "outputs": [
    {
     "name": "stderr",
     "output_type": "stream",
     "text": [
      "/usr/local/lib/python3.7/dist-packages/sklearn/utils/deprecation.py:87: FutureWarning: Function plot_confusion_matrix is deprecated; Function `plot_confusion_matrix` is deprecated in 1.0 and will be removed in 1.2. Use one of the class methods: ConfusionMatrixDisplay.from_predictions or ConfusionMatrixDisplay.from_estimator.\n",
      "  warnings.warn(msg, category=FutureWarning)\n"
     ]
    },
    {
     "data": {
      "image/png": "[encoded data removed]",
      "text/plain": [
       "<Figure size 432x288 with 2 Axes>"
      ]
     },
     "metadata": {
      "needs_background": "light"
     },
     "output_type": "display_data"
    }
   ],
   "source": [
    "#Visualising the Confusion Matrix\n",
    "from sklearn.metrics import plot_confusion_matrix\n",
    "plot_confusion_matrix(rfc, x_test, y_test, cmap='Blues')\n",
    "plt.show()"
   ]
  },
  {
   "cell_type": "markdown",
   "id": "aHgP-hQNbMQO",
   "metadata": {
    "id": "aHgP-hQNbMQO"
   },
   "source": [
    "## Näive Bayes Classifier"
   ]
  },
  {
   "cell_type": "code",
   "execution_count": 181,
   "id": "HqUHIXQoWInp",
   "metadata": {
    "colab": {
     "base_uri": "https://localhost:8080/"
    },
    "executionInfo": {
     "elapsed": 28,
     "status": "ok",
     "timestamp": 1664002833534,
     "user": {
      "displayName": "Bansal Sahil",
      "userId": "09246232949994325052"
     },
     "user_tz": -330
    },
    "id": "HqUHIXQoWInp",
    "outputId": "d6d3f009-1cc9-4882-cf33-23d4570bebb6"
   },
   "outputs": [
    {
     "data": {
      "text/plain": [
       "BernoulliNB()"
      ]
     },
     "execution_count": 181,
     "metadata": {},
     "output_type": "execute_result"
    }
   ],
   "source": [
    "from sklearn.naive_bayes import BernoulliNB\n",
    "classifier=BernoulliNB()\n",
    "classifier.fit(x_train,y_train)"
   ]
  },
  {
   "cell_type": "code",
   "execution_count": 182,
   "id": "lIhmaZqvXLGm",
   "metadata": {
    "colab": {
     "base_uri": "https://localhost:8080/"
    },
    "executionInfo": {
     "elapsed": 25,
     "status": "ok",
     "timestamp": 1664002833535,
     "user": {
      "displayName": "Bansal Sahil",
      "userId": "09246232949994325052"
     },
     "user_tz": -330
    },
    "id": "lIhmaZqvXLGm",
    "outputId": "041e3176-6225-46e2-dd22-7628866f4baa"
   },
   "outputs": [
    {
     "data": {
      "text/plain": [
       "array([0, 1, 0, 0, 1, 0, 0, 0, 0, 0, 0, 1, 0, 1, 0, 0, 1, 0, 0, 0, 1, 0,\n",
       "       0, 0, 1, 0, 0, 0, 1, 0, 0, 0, 0, 0, 0, 0, 0, 1, 0, 0, 0, 0, 0, 0,\n",
       "       0, 1, 0, 0, 1, 0, 0, 1, 0, 0, 1, 0, 0, 0, 0, 0, 0, 0, 0, 0, 0, 0,\n",
       "       0, 0, 0, 0, 0, 0, 0, 0, 0, 0, 0, 0, 1, 0, 0, 0, 0, 0, 0, 0, 0, 0,\n",
       "       0, 0, 1, 0, 0, 0, 0, 1, 1, 1, 0, 0, 1, 0, 0, 0, 0, 0, 0, 1, 0, 0,\n",
       "       0, 0, 0, 0, 0, 0, 0, 0, 0, 0, 0, 0, 0, 1, 0, 0, 0, 0, 0, 0, 0, 0,\n",
       "       1, 0, 0, 0, 1, 0, 0, 0, 0, 0, 0, 0, 0, 0, 0, 0, 0, 0, 0, 0, 0, 0,\n",
       "       0, 0, 0, 0, 0, 0, 0, 0, 0, 1, 0, 1, 0, 0, 0, 0, 0, 0, 0, 0, 0, 1,\n",
       "       0, 0, 0, 0, 0, 0, 0, 0, 0, 0, 1, 0, 1, 0, 1, 1, 0, 1, 0, 0, 0, 0,\n",
       "       1, 0, 0, 0, 1, 0, 0, 0, 1, 0, 0, 0, 0, 0, 0, 0, 0, 0, 0, 0, 0, 0,\n",
       "       0, 0, 1, 0, 1, 0, 0, 0, 0, 0, 0, 1, 0, 0, 0, 1, 0, 0, 0, 0, 0, 1,\n",
       "       0, 0, 0, 0, 0, 1, 0, 0, 1, 0, 1, 0, 1, 0, 0, 1, 0, 1, 1, 0, 0, 0,\n",
       "       0, 0, 0, 0, 0, 0, 1, 0, 0, 0, 0, 0, 0, 1, 0, 0, 0, 0, 0, 0, 0, 1,\n",
       "       0, 0, 0, 0, 0, 0, 0, 0])"
      ]
     },
     "execution_count": 182,
     "metadata": {},
     "output_type": "execute_result"
    }
   ],
   "source": [
    "nb_y_pred=classifier.predict(x_test)\n",
    "nb_y_pred"
   ]
  },
  {
   "cell_type": "code",
   "execution_count": 183,
   "id": "sZ21k051XcUr",
   "metadata": {
    "colab": {
     "base_uri": "https://localhost:8080/"
    },
    "executionInfo": {
     "elapsed": 21,
     "status": "ok",
     "timestamp": 1664002833535,
     "user": {
      "displayName": "Bansal Sahil",
      "userId": "09246232949994325052"
     },
     "user_tz": -330
    },
    "id": "sZ21k051XcUr",
    "outputId": "669efdcb-407c-4246-a858-790ca680e082"
   },
   "outputs": [
    {
     "data": {
      "text/plain": [
       "0.8027210884353742"
      ]
     },
     "execution_count": 183,
     "metadata": {},
     "output_type": "execute_result"
    }
   ],
   "source": [
    "#Calculating the Accuracy\n",
    "nbacc=accuracy_score(y_test,nb_y_pred)\n",
    "nbacc"
   ]
  },
  {
   "cell_type": "code",
   "execution_count": 184,
   "id": "qn74pzdiXTza",
   "metadata": {
    "colab": {
     "base_uri": "https://localhost:8080/"
    },
    "executionInfo": {
     "elapsed": 18,
     "status": "ok",
     "timestamp": 1664002833535,
     "user": {
      "displayName": "Bansal Sahil",
      "userId": "09246232949994325052"
     },
     "user_tz": -330
    },
    "id": "qn74pzdiXTza",
    "outputId": "a59b9a80-617a-4a95-b4a1-57d7ea7bdfef"
   },
   "outputs": [
    {
     "data": {
      "text/plain": [
       "0.40816326530612246"
      ]
     },
     "execution_count": 184,
     "metadata": {},
     "output_type": "execute_result"
    }
   ],
   "source": [
    "#Precision\n",
    "from sklearn import metrics\n",
    "metrics.precision_score(y_test, nb_y_pred)"
   ]
  },
  {
   "cell_type": "code",
   "execution_count": 185,
   "id": "tLVOArvSq1t7",
   "metadata": {
    "colab": {
     "base_uri": "https://localhost:8080/"
    },
    "executionInfo": {
     "elapsed": 15,
     "status": "ok",
     "timestamp": 1664002833535,
     "user": {
      "displayName": "Bansal Sahil",
      "userId": "09246232949994325052"
     },
     "user_tz": -330
    },
    "id": "tLVOArvSq1t7",
    "outputId": "dd81cce8-f244-4801-d48c-6282b1f7971d"
   },
   "outputs": [
    {
     "data": {
      "text/plain": [
       "0.40816326530612246"
      ]
     },
     "execution_count": 185,
     "metadata": {},
     "output_type": "execute_result"
    }
   ],
   "source": [
    "#Recall\n",
    "from sklearn.metrics import recall_score\n",
    "recall_score(y_test, nb_y_pred)"
   ]
  },
  {
   "cell_type": "code",
   "execution_count": 186,
   "id": "_lfhNcWkq5Cs",
   "metadata": {
    "colab": {
     "base_uri": "https://localhost:8080/"
    },
    "executionInfo": {
     "elapsed": 13,
     "status": "ok",
     "timestamp": 1664002833535,
     "user": {
      "displayName": "Bansal Sahil",
      "userId": "09246232949994325052"
     },
     "user_tz": -330
    },
    "id": "_lfhNcWkq5Cs",
    "outputId": "08869305-d7c0-4856-97ff-2b156f5a5ddd"
   },
   "outputs": [
    {
     "data": {
      "text/plain": [
       "0.40816326530612246"
      ]
     },
     "execution_count": 186,
     "metadata": {},
     "output_type": "execute_result"
    }
   ],
   "source": [
    "#F-1 Score\n",
    "from sklearn.metrics import f1_score\n",
    "f1_score(y_test, nb_y_pred)"
   ]
  },
  {
   "cell_type": "code",
   "execution_count": 187,
   "id": "VbiwETToXfps",
   "metadata": {
    "colab": {
     "base_uri": "https://localhost:8080/"
    },
    "executionInfo": {
     "elapsed": 11,
     "status": "ok",
     "timestamp": 1664002833536,
     "user": {
      "displayName": "Bansal Sahil",
      "userId": "09246232949994325052"
     },
     "user_tz": -330
    },
    "id": "VbiwETToXfps",
    "outputId": "34b0402c-86ed-4ecc-86d7-a154551f7629"
   },
   "outputs": [
    {
     "data": {
      "text/plain": [
       "array([[216,  29],\n",
       "       [ 29,  20]])"
      ]
     },
     "execution_count": 187,
     "metadata": {},
     "output_type": "execute_result"
    }
   ],
   "source": [
    "#Generating the Confusion Matrix\n",
    "nbcm=confusion_matrix(y_test,nb_y_pred)\n",
    "nbcm"
   ]
  },
  {
   "cell_type": "code",
   "execution_count": 188,
   "id": "RZDAmsQV6BA3",
   "metadata": {
    "colab": {
     "base_uri": "https://localhost:8080/",
     "height": 335
    },
    "executionInfo": {
     "elapsed": 9,
     "status": "ok",
     "timestamp": 1664002833536,
     "user": {
      "displayName": "Bansal Sahil",
      "userId": "09246232949994325052"
     },
     "user_tz": -330
    },
    "id": "RZDAmsQV6BA3",
    "outputId": "3c466643-8abc-45bf-8855-70684a16a52f"
   },
   "outputs": [
    {
     "name": "stderr",
     "output_type": "stream",
     "text": [
      "/usr/local/lib/python3.7/dist-packages/sklearn/utils/deprecation.py:87: FutureWarning: Function plot_confusion_matrix is deprecated; Function `plot_confusion_matrix` is deprecated in 1.0 and will be removed in 1.2. Use one of the class methods: ConfusionMatrixDisplay.from_predictions or ConfusionMatrixDisplay.from_estimator.\n",
      "  warnings.warn(msg, category=FutureWarning)\n"
     ]
    },
    {
     "data": {
      "image/png": "[encoded data removed]",
      "text/plain": [
       "<Figure size 432x288 with 2 Axes>"
      ]
     },
     "metadata": {
      "needs_background": "light"
     },
     "output_type": "display_data"
    }
   ],
   "source": [
    "#Visualising the Confusion Matrix\n",
    "from sklearn.metrics import plot_confusion_matrix\n",
    "plot_confusion_matrix(classifier, x_test, y_test, cmap='Blues')\n",
    "plt.show()"
   ]
  },
  {
   "cell_type": "markdown",
   "id": "uFqhcdldbkJY",
   "metadata": {
    "id": "uFqhcdldbkJY"
   },
   "source": [
    "## K-Nearest Neighbour Classifier"
   ]
  },
  {
   "cell_type": "code",
   "execution_count": 189,
   "id": "2JdC2WAI92Tt",
   "metadata": {
    "colab": {
     "base_uri": "https://localhost:8080/",
     "height": 297
    },
    "executionInfo": {
     "elapsed": 1490,
     "status": "ok",
     "timestamp": 1664002835019,
     "user": {
      "displayName": "Bansal Sahil",
      "userId": "09246232949994325052"
     },
     "user_tz": -330
    },
    "id": "2JdC2WAI92Tt",
    "outputId": "473123c3-5304-478b-8758-18e799722fae"
   },
   "outputs": [
    {
     "data": {
      "text/plain": [
       "<matplotlib.legend.Legend at 0x7f2f93c33d50>"
      ]
     },
     "execution_count": 189,
     "metadata": {},
     "output_type": "execute_result"
    },
    {
     "data": {
      "image/png": "[encoded data removed]",
      "text/plain": [
       "<Figure size 432x288 with 1 Axes>"
      ]
     },
     "metadata": {
      "needs_background": "light"
     },
     "output_type": "display_data"
    }
   ],
   "source": [
    "#Computing the ideal value for k, to apply the KNN Classifier\n",
    "from sklearn.neighbors import KNeighborsClassifier\n",
    "error1= []\n",
    "error2= []\n",
    "for k in range(1,15):\n",
    "    knn= KNeighborsClassifier(n_neighbors=k)\n",
    "    knn.fit(x_train,y_train)\n",
    "    y_pred1= knn.predict(x_train)\n",
    "    error1.append(np.mean(y_train!= y_pred1))\n",
    "    y_pred2= knn.predict(x_test)\n",
    "    error2.append(np.mean(y_test!= y_pred2))\n",
    "plt.plot(range(1,15),error1,label=\"train\")\n",
    "plt.plot(range(1,15),error2,label=\"test\")\n",
    "plt.xlabel('k Value')\n",
    "plt.ylabel('Error')\n",
    "plt.legend()"
   ]
  },
  {
   "cell_type": "markdown",
   "id": "Eb8Jwv1xD2LL",
   "metadata": {
    "id": "Eb8Jwv1xD2LL"
   },
   "source": [
    "As observed, for k=5 the error for the testing data is the minimum, hence k is considered as 5 for the dataset."
   ]
  },
  {
   "cell_type": "code",
   "execution_count": 190,
   "id": "OjaqFPR0YvLT",
   "metadata": {
    "colab": {
     "base_uri": "https://localhost:8080/"
    },
    "executionInfo": {
     "elapsed": 26,
     "status": "ok",
     "timestamp": 1664002835019,
     "user": {
      "displayName": "Bansal Sahil",
      "userId": "09246232949994325052"
     },
     "user_tz": -330
    },
    "id": "OjaqFPR0YvLT",
    "outputId": "3465c469-9467-4ebf-f65a-a94b3b18c856"
   },
   "outputs": [
    {
     "data": {
      "text/plain": [
       "KNeighborsClassifier()"
      ]
     },
     "execution_count": 190,
     "metadata": {},
     "output_type": "execute_result"
    }
   ],
   "source": [
    "#Applying the KNN Classifier with neighbours as '5'\n",
    "from sklearn.neighbors import KNeighborsClassifier\n",
    "knn=KNeighborsClassifier(n_neighbors=5)\n",
    "knn.fit(x_train, y_train)"
   ]
  },
  {
   "cell_type": "code",
   "execution_count": 191,
   "id": "rMVf8DbSY4WB",
   "metadata": {
    "colab": {
     "base_uri": "https://localhost:8080/"
    },
    "executionInfo": {
     "elapsed": 21,
     "status": "ok",
     "timestamp": 1664002835019,
     "user": {
      "displayName": "Bansal Sahil",
      "userId": "09246232949994325052"
     },
     "user_tz": -330
    },
    "id": "rMVf8DbSY4WB",
    "outputId": "65e61b4b-0a30-483c-94c6-3d12d2d374b9"
   },
   "outputs": [
    {
     "data": {
      "text/plain": [
       "array([0, 0, 0, 0, 1, 0, 1, 0, 0, 0, 0, 0, 0, 1, 0, 0, 0, 0, 0, 0, 0, 0,\n",
       "       0, 0, 0, 0, 0, 0, 0, 0, 0, 0, 0, 0, 0, 0, 0, 0, 0, 0, 0, 0, 0, 0,\n",
       "       0, 0, 0, 0, 1, 0, 0, 0, 0, 0, 1, 0, 0, 0, 0, 0, 0, 0, 0, 0, 0, 0,\n",
       "       0, 0, 0, 0, 0, 0, 0, 0, 0, 0, 0, 0, 0, 0, 0, 0, 0, 0, 0, 0, 0, 0,\n",
       "       0, 0, 0, 0, 0, 0, 0, 0, 0, 0, 0, 0, 0, 0, 0, 0, 0, 0, 0, 0, 0, 0,\n",
       "       0, 0, 0, 0, 0, 0, 0, 0, 0, 0, 0, 0, 0, 1, 0, 0, 0, 0, 0, 0, 0, 0,\n",
       "       0, 0, 0, 0, 0, 0, 0, 0, 0, 0, 0, 0, 0, 0, 0, 0, 0, 0, 0, 0, 0, 0,\n",
       "       0, 0, 0, 0, 0, 0, 0, 0, 0, 1, 0, 0, 0, 0, 0, 0, 0, 0, 0, 0, 0, 0,\n",
       "       0, 0, 0, 0, 0, 0, 0, 1, 0, 0, 0, 0, 1, 0, 0, 1, 0, 0, 0, 0, 0, 0,\n",
       "       1, 0, 0, 0, 1, 0, 0, 0, 0, 0, 0, 0, 0, 0, 0, 0, 0, 0, 0, 0, 0, 0,\n",
       "       0, 0, 1, 0, 0, 0, 0, 0, 0, 0, 0, 0, 0, 0, 0, 0, 0, 0, 0, 0, 0, 0,\n",
       "       0, 0, 0, 0, 0, 0, 0, 0, 1, 0, 1, 0, 0, 0, 0, 1, 0, 1, 0, 0, 0, 0,\n",
       "       0, 0, 0, 0, 0, 0, 0, 0, 0, 0, 0, 0, 0, 1, 0, 0, 0, 0, 0, 0, 0, 0,\n",
       "       0, 0, 0, 0, 0, 1, 0, 0])"
      ]
     },
     "execution_count": 191,
     "metadata": {},
     "output_type": "execute_result"
    }
   ],
   "source": [
    "knn_y_pred=knn.predict(x_test)\n",
    "knn_y_pred"
   ]
  },
  {
   "cell_type": "code",
   "execution_count": 192,
   "id": "rGuwzjjfY_P8",
   "metadata": {
    "colab": {
     "base_uri": "https://localhost:8080/"
    },
    "executionInfo": {
     "elapsed": 19,
     "status": "ok",
     "timestamp": 1664002835020,
     "user": {
      "displayName": "Bansal Sahil",
      "userId": "09246232949994325052"
     },
     "user_tz": -330
    },
    "id": "rGuwzjjfY_P8",
    "outputId": "52ac5526-43a0-4d56-d6b6-2d78b6807c9f"
   },
   "outputs": [
    {
     "data": {
      "text/plain": [
       "0.8775510204081632"
      ]
     },
     "execution_count": 192,
     "metadata": {},
     "output_type": "execute_result"
    }
   ],
   "source": [
    "#Accuracy of KNN\n",
    "knn_acc=accuracy_score(y_test,knn_y_pred)\n",
    "knn_acc"
   ]
  },
  {
   "cell_type": "code",
   "execution_count": 193,
   "id": "M7z9U2pMXXI7",
   "metadata": {
    "colab": {
     "base_uri": "https://localhost:8080/"
    },
    "executionInfo": {
     "elapsed": 17,
     "status": "ok",
     "timestamp": 1664002835020,
     "user": {
      "displayName": "Bansal Sahil",
      "userId": "09246232949994325052"
     },
     "user_tz": -330
    },
    "id": "M7z9U2pMXXI7",
    "outputId": "e2ff410d-15b0-4aa9-e323-4120831ee674"
   },
   "outputs": [
    {
     "data": {
      "text/plain": [
       "0.8421052631578947"
      ]
     },
     "execution_count": 193,
     "metadata": {},
     "output_type": "execute_result"
    }
   ],
   "source": [
    "#Precision\n",
    "from sklearn import metrics\n",
    "metrics.precision_score(y_test, knn_y_pred)"
   ]
  },
  {
   "cell_type": "code",
   "execution_count": 194,
   "id": "8e16dD8KrEco",
   "metadata": {
    "colab": {
     "base_uri": "https://localhost:8080/"
    },
    "executionInfo": {
     "elapsed": 15,
     "status": "ok",
     "timestamp": 1664002835020,
     "user": {
      "displayName": "Bansal Sahil",
      "userId": "09246232949994325052"
     },
     "user_tz": -330
    },
    "id": "8e16dD8KrEco",
    "outputId": "407141b8-db2b-49b4-907c-4146436e220d"
   },
   "outputs": [
    {
     "data": {
      "text/plain": [
       "0.32653061224489793"
      ]
     },
     "execution_count": 194,
     "metadata": {},
     "output_type": "execute_result"
    }
   ],
   "source": [
    "#Recall\n",
    "from sklearn.metrics import recall_score\n",
    "recall_score(y_test, knn_y_pred)"
   ]
  },
  {
   "cell_type": "code",
   "execution_count": 195,
   "id": "fDoSS6EErA_A",
   "metadata": {
    "colab": {
     "base_uri": "https://localhost:8080/"
    },
    "executionInfo": {
     "elapsed": 13,
     "status": "ok",
     "timestamp": 1664002835020,
     "user": {
      "displayName": "Bansal Sahil",
      "userId": "09246232949994325052"
     },
     "user_tz": -330
    },
    "id": "fDoSS6EErA_A",
    "outputId": "116fbccb-f9b7-4c23-ed4b-9da7188b6abf"
   },
   "outputs": [
    {
     "data": {
      "text/plain": [
       "0.4705882352941176"
      ]
     },
     "execution_count": 195,
     "metadata": {},
     "output_type": "execute_result"
    }
   ],
   "source": [
    "#F-1 Score\n",
    "from sklearn.metrics import f1_score\n",
    "f1_score(y_test, knn_y_pred)"
   ]
  },
  {
   "cell_type": "code",
   "execution_count": 196,
   "id": "ncBYU0fdZDMS",
   "metadata": {
    "colab": {
     "base_uri": "https://localhost:8080/"
    },
    "executionInfo": {
     "elapsed": 11,
     "status": "ok",
     "timestamp": 1664002835020,
     "user": {
      "displayName": "Bansal Sahil",
      "userId": "09246232949994325052"
     },
     "user_tz": -330
    },
    "id": "ncBYU0fdZDMS",
    "outputId": "b83b8e5a-db91-447e-f27c-7bfef4ac491a"
   },
   "outputs": [
    {
     "data": {
      "text/plain": [
       "array([[242,   3],\n",
       "       [ 33,  16]])"
      ]
     },
     "execution_count": 196,
     "metadata": {},
     "output_type": "execute_result"
    }
   ],
   "source": [
    "#Generating the Confusion Matrix\n",
    "knn_cm=confusion_matrix(y_test,knn_y_pred)\n",
    "knn_cm"
   ]
  },
  {
   "cell_type": "code",
   "execution_count": 197,
   "id": "V1-CgZ5B6Ek-",
   "metadata": {
    "colab": {
     "base_uri": "https://localhost:8080/",
     "height": 335
    },
    "executionInfo": {
     "elapsed": 1076,
     "status": "ok",
     "timestamp": 1664002836087,
     "user": {
      "displayName": "Bansal Sahil",
      "userId": "09246232949994325052"
     },
     "user_tz": -330
    },
    "id": "V1-CgZ5B6Ek-",
    "outputId": "c43d41f6-6322-43ca-cfc2-b7dde2071347"
   },
   "outputs": [
    {
     "name": "stderr",
     "output_type": "stream",
     "text": [
      "/usr/local/lib/python3.7/dist-packages/sklearn/utils/deprecation.py:87: FutureWarning: Function plot_confusion_matrix is deprecated; Function `plot_confusion_matrix` is deprecated in 1.0 and will be removed in 1.2. Use one of the class methods: ConfusionMatrixDisplay.from_predictions or ConfusionMatrixDisplay.from_estimator.\n",
      "  warnings.warn(msg, category=FutureWarning)\n"
     ]
    },
    {
     "data": {
      "image/png": "[encoded data removed]",
      "text/plain": [
       "<Figure size 432x288 with 2 Axes>"
      ]
     },
     "metadata": {
      "needs_background": "light"
     },
     "output_type": "display_data"
    }
   ],
   "source": [
    "#Visualising the Confusion Matrix\n",
    "from sklearn.metrics import plot_confusion_matrix\n",
    "plot_confusion_matrix(knn, x_test, y_test, cmap='Blues')\n",
    "plt.show()"
   ]
  },
  {
   "cell_type": "markdown",
   "id": "woLLzD-qcvtV",
   "metadata": {
    "id": "woLLzD-qcvtV"
   },
   "source": [
    "## Support Vector Machines"
   ]
  },
  {
   "cell_type": "code",
   "execution_count": 198,
   "id": "2TbWux-bcu60",
   "metadata": {
    "colab": {
     "base_uri": "https://localhost:8080/"
    },
    "executionInfo": {
     "elapsed": 45,
     "status": "ok",
     "timestamp": 1664002836088,
     "user": {
      "displayName": "Bansal Sahil",
      "userId": "09246232949994325052"
     },
     "user_tz": -330
    },
    "id": "2TbWux-bcu60",
    "outputId": "a5ae75ed-38ce-487a-d087-e8236ef3c8fb"
   },
   "outputs": [
    {
     "data": {
      "text/plain": [
       "SVC(kernel='sigmoid', probability=True, random_state=0)"
      ]
     },
     "execution_count": 198,
     "metadata": {},
     "output_type": "execute_result"
    }
   ],
   "source": [
    "from sklearn import svm\n",
    "svm_clf=svm.SVC(kernel ='sigmoid', probability=True, random_state=0)\n",
    "svm_clf.fit(x_train, y_train)"
   ]
  },
  {
   "cell_type": "code",
   "execution_count": 199,
   "id": "11Uynj_gc92z",
   "metadata": {
    "colab": {
     "base_uri": "https://localhost:8080/"
    },
    "executionInfo": {
     "elapsed": 38,
     "status": "ok",
     "timestamp": 1664002836088,
     "user": {
      "displayName": "Bansal Sahil",
      "userId": "09246232949994325052"
     },
     "user_tz": -330
    },
    "id": "11Uynj_gc92z",
    "outputId": "3b0c78e1-334f-4469-e73f-4145cdd94f54"
   },
   "outputs": [
    {
     "data": {
      "text/plain": [
       "array([0, 0, 0, 0, 0, 0, 0, 0, 0, 0, 0, 0, 0, 1, 0, 0, 0, 0, 0, 0, 0, 0,\n",
       "       0, 0, 1, 0, 0, 0, 1, 0, 0, 0, 0, 0, 0, 0, 0, 0, 0, 0, 0, 0, 0, 0,\n",
       "       0, 1, 0, 0, 1, 0, 0, 1, 0, 0, 1, 0, 0, 0, 0, 0, 0, 0, 0, 0, 0, 0,\n",
       "       0, 0, 0, 0, 0, 0, 0, 0, 0, 0, 0, 0, 0, 0, 0, 0, 0, 0, 0, 0, 1, 0,\n",
       "       0, 0, 0, 0, 0, 0, 0, 0, 1, 0, 0, 0, 0, 1, 0, 0, 0, 0, 0, 0, 0, 0,\n",
       "       0, 0, 0, 0, 0, 0, 0, 0, 0, 0, 0, 0, 0, 1, 0, 1, 0, 0, 0, 0, 0, 0,\n",
       "       1, 0, 0, 0, 1, 0, 0, 0, 0, 0, 0, 0, 0, 0, 0, 1, 0, 0, 0, 0, 0, 0,\n",
       "       0, 0, 1, 0, 0, 0, 0, 0, 0, 1, 0, 0, 0, 0, 0, 0, 0, 0, 0, 0, 1, 0,\n",
       "       0, 0, 0, 0, 0, 0, 0, 0, 0, 0, 0, 0, 1, 0, 1, 1, 0, 0, 0, 0, 0, 0,\n",
       "       0, 0, 0, 0, 1, 0, 0, 0, 0, 0, 0, 0, 0, 0, 0, 0, 0, 0, 0, 0, 0, 0,\n",
       "       0, 0, 1, 0, 1, 0, 0, 0, 0, 0, 0, 0, 0, 0, 0, 0, 0, 0, 0, 0, 0, 0,\n",
       "       0, 0, 0, 0, 0, 1, 0, 0, 0, 0, 1, 0, 0, 0, 0, 1, 1, 0, 0, 0, 0, 0,\n",
       "       0, 0, 0, 0, 0, 0, 0, 0, 0, 0, 0, 0, 0, 0, 0, 0, 0, 0, 0, 0, 1, 0,\n",
       "       0, 0, 0, 0, 0, 0, 0, 0])"
      ]
     },
     "execution_count": 199,
     "metadata": {},
     "output_type": "execute_result"
    }
   ],
   "source": [
    "svm_y_pred=svm_clf.predict(x_test)\n",
    "svm_y_pred"
   ]
  },
  {
   "cell_type": "code",
   "execution_count": 200,
   "id": "-ms5pYpAdM37",
   "metadata": {
    "colab": {
     "base_uri": "https://localhost:8080/"
    },
    "executionInfo": {
     "elapsed": 34,
     "status": "ok",
     "timestamp": 1664002836088,
     "user": {
      "displayName": "Bansal Sahil",
      "userId": "09246232949994325052"
     },
     "user_tz": -330
    },
    "id": "-ms5pYpAdM37",
    "outputId": "c467c408-fb4b-452a-86f2-c8fd514dc64d"
   },
   "outputs": [
    {
     "data": {
      "text/plain": [
       "0.8435374149659864"
      ]
     },
     "execution_count": 200,
     "metadata": {},
     "output_type": "execute_result"
    }
   ],
   "source": [
    "#Accuracy of SVM\n",
    "svm_acc=accuracy_score(y_test,svm_y_pred)\n",
    "svm_acc"
   ]
  },
  {
   "cell_type": "code",
   "execution_count": 201,
   "id": "iMsbcrsL6pcn",
   "metadata": {
    "colab": {
     "base_uri": "https://localhost:8080/"
    },
    "executionInfo": {
     "elapsed": 30,
     "status": "ok",
     "timestamp": 1664002836088,
     "user": {
      "displayName": "Bansal Sahil",
      "userId": "09246232949994325052"
     },
     "user_tz": -330
    },
    "id": "iMsbcrsL6pcn",
    "outputId": "3c35299f-2c83-4aca-c8d3-83d727a53314"
   },
   "outputs": [
    {
     "data": {
      "text/plain": [
       "0.5517241379310345"
      ]
     },
     "execution_count": 201,
     "metadata": {},
     "output_type": "execute_result"
    }
   ],
   "source": [
    "#Precision\n",
    "from sklearn import metrics\n",
    "metrics.precision_score(y_test, svm_y_pred)"
   ]
  },
  {
   "cell_type": "code",
   "execution_count": 202,
   "id": "5gXApE7qrT4N",
   "metadata": {
    "colab": {
     "base_uri": "https://localhost:8080/"
    },
    "executionInfo": {
     "elapsed": 28,
     "status": "ok",
     "timestamp": 1664002836088,
     "user": {
      "displayName": "Bansal Sahil",
      "userId": "09246232949994325052"
     },
     "user_tz": -330
    },
    "id": "5gXApE7qrT4N",
    "outputId": "229283aa-f26e-4161-b859-dded6dfdc603"
   },
   "outputs": [
    {
     "data": {
      "text/plain": [
       "0.32653061224489793"
      ]
     },
     "execution_count": 202,
     "metadata": {},
     "output_type": "execute_result"
    }
   ],
   "source": [
    "#Recall\n",
    "from sklearn.metrics import recall_score\n",
    "recall_score(y_test, svm_y_pred)"
   ]
  },
  {
   "cell_type": "code",
   "execution_count": 203,
   "id": "ZwDamvRWrXCL",
   "metadata": {
    "colab": {
     "base_uri": "https://localhost:8080/"
    },
    "executionInfo": {
     "elapsed": 26,
     "status": "ok",
     "timestamp": 1664002836088,
     "user": {
      "displayName": "Bansal Sahil",
      "userId": "09246232949994325052"
     },
     "user_tz": -330
    },
    "id": "ZwDamvRWrXCL",
    "outputId": "5fe34937-7f22-40ae-8c69-8f8cf51ec7b8"
   },
   "outputs": [
    {
     "data": {
      "text/plain": [
       "0.41025641025641024"
      ]
     },
     "execution_count": 203,
     "metadata": {},
     "output_type": "execute_result"
    }
   ],
   "source": [
    "#F-1 Score\n",
    "from sklearn.metrics import f1_score\n",
    "f1_score(y_test, svm_y_pred)"
   ]
  },
  {
   "cell_type": "code",
   "execution_count": 204,
   "id": "vm26Rojpdc_A",
   "metadata": {
    "colab": {
     "base_uri": "https://localhost:8080/"
    },
    "executionInfo": {
     "elapsed": 25,
     "status": "ok",
     "timestamp": 1664002836089,
     "user": {
      "displayName": "Bansal Sahil",
      "userId": "09246232949994325052"
     },
     "user_tz": -330
    },
    "id": "vm26Rojpdc_A",
    "outputId": "2175b33f-f2cf-465a-bc57-1e3fd0c46a58"
   },
   "outputs": [
    {
     "data": {
      "text/plain": [
       "array([[232,  13],\n",
       "       [ 33,  16]])"
      ]
     },
     "execution_count": 204,
     "metadata": {},
     "output_type": "execute_result"
    }
   ],
   "source": [
    "#Generating the Confusion Matrix\n",
    "svm_cm=confusion_matrix(y_test,svm_y_pred)\n",
    "svm_cm"
   ]
  },
  {
   "cell_type": "code",
   "execution_count": 205,
   "id": "kAM_HiGX6INh",
   "metadata": {
    "colab": {
     "base_uri": "https://localhost:8080/",
     "height": 335
    },
    "executionInfo": {
     "elapsed": 24,
     "status": "ok",
     "timestamp": 1664002836090,
     "user": {
      "displayName": "Bansal Sahil",
      "userId": "09246232949994325052"
     },
     "user_tz": -330
    },
    "id": "kAM_HiGX6INh",
    "outputId": "7412d8ac-1568-4461-d8f1-b080f2777172"
   },
   "outputs": [
    {
     "name": "stderr",
     "output_type": "stream",
     "text": [
      "/usr/local/lib/python3.7/dist-packages/sklearn/utils/deprecation.py:87: FutureWarning: Function plot_confusion_matrix is deprecated; Function `plot_confusion_matrix` is deprecated in 1.0 and will be removed in 1.2. Use one of the class methods: ConfusionMatrixDisplay.from_predictions or ConfusionMatrixDisplay.from_estimator.\n",
      "  warnings.warn(msg, category=FutureWarning)\n"
     ]
    },
    {
     "data": {
      "image/png": "[encoded data removed]",
      "text/plain": [
       "<Figure size 432x288 with 2 Axes>"
      ]
     },
     "metadata": {
      "needs_background": "light"
     },
     "output_type": "display_data"
    }
   ],
   "source": [
    "#Visualising the Confusion Matrix\n",
    "from sklearn.metrics import plot_confusion_matrix\n",
    "plot_confusion_matrix(svm_clf, x_test, y_test, cmap='Blues')\n",
    "plt.show()"
   ]
  },
  {
   "cell_type": "markdown",
   "id": "DJT3ZoLCVBqs",
   "metadata": {
    "id": "DJT3ZoLCVBqs"
   },
   "source": [
    "## Multilayer Perceptron"
   ]
  },
  {
   "cell_type": "code",
   "execution_count": 206,
   "id": "kir2Jz39Vp4e",
   "metadata": {
    "colab": {
     "base_uri": "https://localhost:8080/"
    },
    "executionInfo": {
     "elapsed": 21,
     "status": "ok",
     "timestamp": 1664002836090,
     "user": {
      "displayName": "Bansal Sahil",
      "userId": "09246232949994325052"
     },
     "user_tz": -330
    },
    "id": "kir2Jz39Vp4e",
    "outputId": "367ea09b-24f0-4bca-b29c-6e6a49289dd0"
   },
   "outputs": [
    {
     "name": "stdout",
     "output_type": "stream",
     "text": [
      "Iteration 1, loss = 0.62649895\n",
      "Iteration 2, loss = 0.42789490\n",
      "Iteration 3, loss = 0.37982105\n",
      "Iteration 4, loss = 0.35793265\n",
      "Iteration 5, loss = 0.35076492\n",
      "Iteration 6, loss = 0.34541676\n",
      "Iteration 7, loss = 0.34227425\n",
      "Iteration 8, loss = 0.33920541\n",
      "Iteration 9, loss = 0.33744206\n",
      "Iteration 10, loss = 0.33668931\n",
      "Iteration 11, loss = 0.33680891\n",
      "Iteration 12, loss = 0.33578926\n",
      "Iteration 13, loss = 0.33726570\n",
      "Iteration 14, loss = 0.33498407\n",
      "Iteration 15, loss = 0.33649475\n",
      "Iteration 16, loss = 0.33611739\n",
      "Iteration 17, loss = 0.33532511\n",
      "Iteration 18, loss = 0.33484298\n",
      "Iteration 19, loss = 0.33508655\n",
      "Iteration 20, loss = 0.33519051\n",
      "Iteration 21, loss = 0.33635915\n",
      "Iteration 22, loss = 0.33407695\n",
      "Iteration 23, loss = 0.33604271\n",
      "Iteration 24, loss = 0.33374937\n",
      "Iteration 25, loss = 0.33546021\n",
      "Iteration 26, loss = 0.33482550\n",
      "Iteration 27, loss = 0.33460495\n",
      "Iteration 28, loss = 0.33337166\n",
      "Iteration 29, loss = 0.33429017\n",
      "Iteration 30, loss = 0.33381544\n",
      "Iteration 31, loss = 0.33442248\n",
      "Iteration 32, loss = 0.33393618\n",
      "Iteration 33, loss = 0.33414938\n",
      "Iteration 34, loss = 0.33308929\n",
      "Iteration 35, loss = 0.33344846\n",
      "Iteration 36, loss = 0.33263140\n",
      "Iteration 37, loss = 0.33370297\n",
      "Iteration 38, loss = 0.33316439\n",
      "Iteration 39, loss = 0.33363929\n",
      "Iteration 40, loss = 0.33545292\n",
      "Iteration 41, loss = 0.33362873\n",
      "Iteration 42, loss = 0.33333652\n",
      "Iteration 43, loss = 0.33320318\n",
      "Iteration 44, loss = 0.33355346\n",
      "Iteration 45, loss = 0.33358566\n",
      "Iteration 46, loss = 0.33368971\n",
      "Iteration 47, loss = 0.33425178\n",
      "Training loss did not improve more than tol=0.000100 for 10 consecutive epochs. Stopping.\n"
     ]
    },
    {
     "data": {
      "text/plain": [
       "MLPClassifier(activation='identity', hidden_layer_sizes=(7, 18),\n",
       "              learning_rate='adaptive', learning_rate_init=0.01, random_state=5,\n",
       "              verbose=True)"
      ]
     },
     "execution_count": 206,
     "metadata": {},
     "output_type": "execute_result"
    }
   ],
   "source": [
    "from sklearn.neural_network import MLPClassifier\n",
    "clf = MLPClassifier(hidden_layer_sizes=(7,18),\n",
    "                    random_state=5,\n",
    "                    verbose=True,\n",
    "                    learning_rate='adaptive',\n",
    "                    learning_rate_init=0.01,\n",
    "                    activation='identity')\n",
    "clf.fit(x_train,y_train)"
   ]
  },
  {
   "cell_type": "code",
   "execution_count": 207,
   "id": "3dqxwbi_Vw0N",
   "metadata": {
    "colab": {
     "base_uri": "https://localhost:8080/"
    },
    "executionInfo": {
     "elapsed": 19,
     "status": "ok",
     "timestamp": 1664002836091,
     "user": {
      "displayName": "Bansal Sahil",
      "userId": "09246232949994325052"
     },
     "user_tz": -330
    },
    "id": "3dqxwbi_Vw0N",
    "outputId": "359d92f3-ceca-42a8-b2a0-a2ec0115f812"
   },
   "outputs": [
    {
     "data": {
      "text/plain": [
       "0.8809523809523809"
      ]
     },
     "execution_count": 207,
     "metadata": {},
     "output_type": "execute_result"
    }
   ],
   "source": [
    "# Make prediction on test dataset\n",
    "mlp_ypred=clf.predict(x_test)\n",
    "\n",
    "# Import accuracy score \n",
    "from sklearn.metrics import accuracy_score\n",
    "\n",
    "# Calcuate accuracy of MLP\n",
    "accuracy_score(y_test,mlp_ypred)"
   ]
  },
  {
   "cell_type": "code",
   "execution_count": 208,
   "id": "cYDGPfeFV0nM",
   "metadata": {
    "colab": {
     "base_uri": "https://localhost:8080/"
    },
    "executionInfo": {
     "elapsed": 17,
     "status": "ok",
     "timestamp": 1664002836091,
     "user": {
      "displayName": "Bansal Sahil",
      "userId": "09246232949994325052"
     },
     "user_tz": -330
    },
    "id": "cYDGPfeFV0nM",
    "outputId": "9f72d20d-8177-4a9b-8ed7-5d1dcef9002d"
   },
   "outputs": [
    {
     "data": {
      "text/plain": [
       "0.7692307692307693"
      ]
     },
     "execution_count": 208,
     "metadata": {},
     "output_type": "execute_result"
    }
   ],
   "source": [
    "#Precision\n",
    "from sklearn import metrics\n",
    "precision= metrics.precision_score(y_test, mlp_ypred)\n",
    "precision"
   ]
  },
  {
   "cell_type": "code",
   "execution_count": 209,
   "id": "enCRv8XfWDj1",
   "metadata": {
    "colab": {
     "base_uri": "https://localhost:8080/"
    },
    "executionInfo": {
     "elapsed": 15,
     "status": "ok",
     "timestamp": 1664002836091,
     "user": {
      "displayName": "Bansal Sahil",
      "userId": "09246232949994325052"
     },
     "user_tz": -330
    },
    "id": "enCRv8XfWDj1",
    "outputId": "80111589-5542-4a70-c71c-88a01974b1cf"
   },
   "outputs": [
    {
     "data": {
      "text/plain": [
       "0.40816326530612246"
      ]
     },
     "execution_count": 209,
     "metadata": {},
     "output_type": "execute_result"
    }
   ],
   "source": [
    "#Recall\n",
    "from sklearn.metrics import recall_score\n",
    "recall_score(y_test, mlp_ypred)"
   ]
  },
  {
   "cell_type": "code",
   "execution_count": 210,
   "id": "36avn5XmWH9E",
   "metadata": {
    "colab": {
     "base_uri": "https://localhost:8080/"
    },
    "executionInfo": {
     "elapsed": 14,
     "status": "ok",
     "timestamp": 1664002836091,
     "user": {
      "displayName": "Bansal Sahil",
      "userId": "09246232949994325052"
     },
     "user_tz": -330
    },
    "id": "36avn5XmWH9E",
    "outputId": "c4254ec0-447d-4f3e-fbfe-a0a883eaa617"
   },
   "outputs": [
    {
     "data": {
      "text/plain": [
       "0.5333333333333333"
      ]
     },
     "execution_count": 210,
     "metadata": {},
     "output_type": "execute_result"
    }
   ],
   "source": [
    "#F-1 Score\n",
    "from sklearn.metrics import f1_score\n",
    "f1_score(y_test, mlp_ypred)"
   ]
  },
  {
   "cell_type": "code",
   "execution_count": 211,
   "id": "tKNiMe7BWLRk",
   "metadata": {
    "colab": {
     "base_uri": "https://localhost:8080/"
    },
    "executionInfo": {
     "elapsed": 12,
     "status": "ok",
     "timestamp": 1664002836091,
     "user": {
      "displayName": "Bansal Sahil",
      "userId": "09246232949994325052"
     },
     "user_tz": -330
    },
    "id": "tKNiMe7BWLRk",
    "outputId": "083a0017-3c7a-4a11-9f84-0127f9743fb6"
   },
   "outputs": [
    {
     "data": {
      "text/plain": [
       "array([[239,   6],\n",
       "       [ 29,  20]])"
      ]
     },
     "execution_count": 211,
     "metadata": {},
     "output_type": "execute_result"
    }
   ],
   "source": [
    "#Generating the Confusion Matrix\n",
    "mlp_cm=confusion_matrix(y_test,mlp_ypred)\n",
    "mlp_cm"
   ]
  },
  {
   "cell_type": "code",
   "execution_count": 212,
   "id": "dGexJtBJWNio",
   "metadata": {
    "colab": {
     "base_uri": "https://localhost:8080/",
     "height": 335
    },
    "executionInfo": {
     "elapsed": 1291,
     "status": "ok",
     "timestamp": 1664002837372,
     "user": {
      "displayName": "Bansal Sahil",
      "userId": "09246232949994325052"
     },
     "user_tz": -330
    },
    "id": "dGexJtBJWNio",
    "outputId": "ac574fe0-f7b3-45fa-d792-2dd6833c83ef"
   },
   "outputs": [
    {
     "name": "stderr",
     "output_type": "stream",
     "text": [
      "/usr/local/lib/python3.7/dist-packages/sklearn/utils/deprecation.py:87: FutureWarning: Function plot_confusion_matrix is deprecated; Function `plot_confusion_matrix` is deprecated in 1.0 and will be removed in 1.2. Use one of the class methods: ConfusionMatrixDisplay.from_predictions or ConfusionMatrixDisplay.from_estimator.\n",
      "  warnings.warn(msg, category=FutureWarning)\n"
     ]
    },
    {
     "data": {
      "image/png": "[encoded data removed]",
      "text/plain": [
       "<Figure size 432x288 with 2 Axes>"
      ]
     },
     "metadata": {
      "needs_background": "light"
     },
     "output_type": "display_data"
    }
   ],
   "source": [
    "#Visualising the Confusion Matrix\n",
    "from sklearn.metrics import plot_confusion_matrix\n",
    "plot_confusion_matrix(clf, x_test, y_test, cmap='Blues')\n",
    "plt.show()"
   ]
  },
  {
   "cell_type": "markdown",
   "id": "fftXA78wbqq1",
   "metadata": {
    "id": "fftXA78wbqq1"
   },
   "source": [
    "## ROC Curve and AUC\n",
    "\n"
   ]
  },
  {
   "cell_type": "code",
   "execution_count": 213,
   "id": "KtgEpw0G29gt",
   "metadata": {
    "executionInfo": {
     "elapsed": 40,
     "status": "ok",
     "timestamp": 1664002837373,
     "user": {
      "displayName": "Bansal Sahil",
      "userId": "09246232949994325052"
     },
     "user_tz": -330
    },
    "id": "KtgEpw0G29gt"
   },
   "outputs": [],
   "source": [
    "#Generating the predicted probabilities of all the classifiers\n",
    "from sklearn.metrics import roc_curve, roc_auc_score\n",
    "#Logistic Regression\n",
    "y_score1 = log.predict_proba(x_test)[:,1]\n",
    "false_positive_rate1, true_positive_rate1, threshold1 = roc_curve(y_test, y_score1)\n",
    "#Decision Tree\n",
    "y_score2 = dtc.predict_proba(x_test)[:,1]\n",
    "false_positive_rate2, true_positive_rate2, threshold2 = roc_curve(y_test, y_score2)\n",
    "#Random Forest Classifier\n",
    "y_score3 = rfc.predict_proba(x_test)[:,1]\n",
    "false_positive_rate3, true_positive_rate3, threshold3 = roc_curve(y_test, y_score3)\n",
    "#Naïve Bayes Classifier\n",
    "y_score4 = classifier.predict_proba(x_test)[:,1]\n",
    "false_positive_rate4, true_positive_rate4, threshold4 = roc_curve(y_test, y_score4)\n",
    "#KNN Classifier\n",
    "y_score5 = knn.predict_proba(x_test)[:,1]\n",
    "false_positive_rate5, true_positive_rate5, threshold5 = roc_curve(y_test, y_score5)\n",
    "#SVM\n",
    "y_score6 = svm_clf.predict_proba(x_test)[:,1]\n",
    "false_positive_rate6, true_positive_rate6, threshold6 = roc_curve(y_test, y_score6)\n",
    "#MLP\n",
    "# y_score7 = clf.predict_proba(x_test)[:,1]\n",
    "# false_positive_rate7, true_positive_rate7, threshold7 = roc_curve(y_test, y_score6)"
   ]
  },
  {
   "cell_type": "code",
   "execution_count": 214,
   "id": "2xqzH5FJVrZ-",
   "metadata": {
    "colab": {
     "base_uri": "https://localhost:8080/",
     "height": 283
    },
    "executionInfo": {
     "elapsed": 39,
     "status": "ok",
     "timestamp": 1664002837374,
     "user": {
      "displayName": "Bansal Sahil",
      "userId": "09246232949994325052"
     },
     "user_tz": -330
    },
    "id": "2xqzH5FJVrZ-",
    "outputId": "5e29b4fa-1630-49f6-a80b-82632532693c"
   },
   "outputs": [
    {
     "data": {
      "text/plain": [
       "<matplotlib.legend.Legend at 0x7f2f93b79450>"
      ]
     },
     "execution_count": 214,
     "metadata": {},
     "output_type": "execute_result"
    },
    {
     "data": {
      "image/png": "[encoded data removed]",
      "text/plain": [
       "<Figure size 432x288 with 1 Axes>"
      ]
     },
     "metadata": {
      "needs_background": "light"
     },
     "output_type": "display_data"
    }
   ],
   "source": [
    "from sklearn import metrics\n",
    "plt.figure(0).clf()\n",
    "auc = round(metrics.roc_auc_score(y_test, y_score1), 4)\n",
    "plt.plot(false_positive_rate1, true_positive_rate1,label=\"Logistic Regression, AUC=\"+str(auc))\n",
    "\n",
    "auc = round(metrics.roc_auc_score(y_test, y_score2), 4)\n",
    "plt.plot(false_positive_rate2, true_positive_rate2,label=\"Decision Tree, AUC=\"+str(auc))\n",
    "\n",
    "auc = round(metrics.roc_auc_score(y_test, y_score3), 4)\n",
    "plt.plot(false_positive_rate3, true_positive_rate3,label=\"Random Forest, AUC=\"+str(auc))\n",
    "\n",
    "auc = round(metrics.roc_auc_score(y_test, y_score4), 4)\n",
    "plt.plot(false_positive_rate4, true_positive_rate4,label=\"Naïve Bayes, AUC=\"+str(auc))\n",
    "\n",
    "auc = round(metrics.roc_auc_score(y_test, y_score5), 4)\n",
    "plt.plot(false_positive_rate5, true_positive_rate5,label=\"KNN, AUC=\"+str(auc))\n",
    "\n",
    "auc = round(metrics.roc_auc_score(y_test, y_score6), 4)\n",
    "plt.plot(false_positive_rate6, true_positive_rate6,label=\"SVM, AUC=\"+str(auc))\n",
    "\n",
    "# auc = round(metrics.roc_auc_score(y_test, y_score7), 4)\n",
    "# plt.plot(false_positive_rate7, true_positive_rate7,label=\"MLP, AUC=\"+str(auc))\n",
    "\n",
    "plt.legend()"
   ]
  },
  {
   "cell_type": "markdown",
   "id": "ej-LSBcdQ4ZF",
   "metadata": {
    "id": "ej-LSBcdQ4ZF"
   },
   "source": [
    "Tabular Perfomance Comparison based on the metrics considered"
   ]
  },
  {
   "cell_type": "markdown",
   "id": "kLfPBnhXNJxR",
   "metadata": {
    "id": "kLfPBnhXNJxR"
   },
   "source": [
    "\n",
    "| Classifier | Accuracy | Precision | Recall | F-1 Score | AUC |\n",
    "| --- | --- | --- | --- | --- | --- |\n",
    "| Logistic Regression | 87.76% | 78.26% | 36.73% | 50.00% | 84.40% |\n",
    "| Decision Tree | 79.25% | 30.76% | 32.65% | 31.68% | 58.98% |\n",
    "| Random Forest | 84.69% | 61.53% | 16.32% | 25.80% | 78.41% |\n",
    "| Naïve Bayes | 80.27% | 40.82% | 40.82% | 40.82% | 76.38% |\n",
    "| K-Nearest Neighbour | 87.75% | 84.21% | 32.65% | 47.05% | 67.88% |\n",
    "| Support Vector Machine | 84.35% | 55.17% | 32.65% | 41.02% | 76.37% |\n",
    "| Multilayer Perceptron | 88.09% | 76.92% | 40.81% | 53.33% | 84.85% |\n",
    "\n",
    "\n"
   ]
  },
  {
   "cell_type": "markdown",
   "id": "lQp1jW81KeBv",
   "metadata": {
    "id": "lQp1jW81KeBv"
   },
   "source": [
    "\n",
    "\n",
    "*   After exploration and preprocessing of the data, the most important and impactful features were extracted from the data using Chi-square Test and the attributes were reduced to 20 from 35 initially. The data was then divided, trained and tested and the accuracy, precision, recall and F-1 score was generated of each model and an ROC curve was plotted with the AUC.\n",
    "*   Logistic Regression recorded the highest accuracy of 87.75% even though it is prone to overfitting, the results recorded are realistic with a precision of 78.26%.\n",
    "*   The algorithms that performed the lowest were Decision Tree classifier, they not only had the lowest accuracy but also showed very poor precision in terms of prediction as well as underperformed in the other metrics considered.\n",
    "*   As observed in the ROC Curve as well, Logistic Regression shows the best reults, with the highest AUC score of 0.844, follwed by Random Forest with the AUC score of 0.7841.\n",
    "*  KNN model train with k=5 (no. of neighbours) can be considered as an equally efficient model just like Logistic Regression, since it has similar accuracy to Logistic Regression and better precision of 84.21%, Recall and F-1 scores are also comparable, however, the AUC score of KNN is one of the lowest after Decision Tree classifier among all the algorithms considered.\n",
    "*   Similarly, Decision Tree classifier has recorded the lowest performance in all the metrics considered in this study and is therefore, also rejected.\n",
    "*   Based on the metrics considered, SVM with the sigmoid kernel also shows promising results when tested on this set of data. \n",
    "*   However, Logistic Regression is considered as the ideal classifier for the data under study as it performs equally well on the validation metrics in terms of accuracy, precision, recall, f1 score and AUC and can accurately predict the employee attrition in an organisation.\n",
    " \n",
    "\n",
    "\n",
    "\n",
    "\n",
    "\n",
    "\n",
    "  "
   ]
  },
  {
   "cell_type": "code",
   "execution_count": 215,
   "id": "T-jcGbh4yvNy",
   "metadata": {
    "colab": {
     "base_uri": "https://localhost:8080/"
    },
    "executionInfo": {
     "elapsed": 36,
     "status": "ok",
     "timestamp": 1664002837375,
     "user": {
      "displayName": "Bansal Sahil",
      "userId": "09246232949994325052"
     },
     "user_tz": -330
    },
    "id": "T-jcGbh4yvNy",
    "outputId": "0e805978-d990-49c4-d9f5-2f07d815528f"
   },
   "outputs": [
    {
     "data": {
      "text/plain": [
       "(1176, 20)"
      ]
     },
     "execution_count": 215,
     "metadata": {},
     "output_type": "execute_result"
    }
   ],
   "source": [
    "x_train.shape"
   ]
  },
  {
   "cell_type": "code",
   "execution_count": 216,
   "id": "L2VqDrbl8lea",
   "metadata": {
    "colab": {
     "base_uri": "https://localhost:8080/"
    },
    "executionInfo": {
     "elapsed": 32,
     "status": "ok",
     "timestamp": 1664002837375,
     "user": {
      "displayName": "Bansal Sahil",
      "userId": "09246232949994325052"
     },
     "user_tz": -330
    },
    "id": "L2VqDrbl8lea",
    "outputId": "2ce77f6c-e6b9-4992-ca04-f0a0e2758cc0"
   },
   "outputs": [
    {
     "data": {
      "text/plain": [
       "LogisticRegression()"
      ]
     },
     "execution_count": 216,
     "metadata": {},
     "output_type": "execute_result"
    }
   ],
   "source": [
    "from sklearn.linear_model import LogisticRegression\n",
    "log_op=LogisticRegression()\n",
    "log_op.fit(x_train,y_train)"
   ]
  },
  {
   "cell_type": "code",
   "execution_count": 217,
   "id": "yXyniVuXyydF",
   "metadata": {
    "colab": {
     "base_uri": "https://localhost:8080/"
    },
    "executionInfo": {
     "elapsed": 30,
     "status": "ok",
     "timestamp": 1664002837375,
     "user": {
      "displayName": "Bansal Sahil",
      "userId": "09246232949994325052"
     },
     "user_tz": -330
    },
    "id": "yXyniVuXyydF",
    "outputId": "3038798b-c941-4b4b-e132-1c7235785f12"
   },
   "outputs": [
    {
     "data": {
      "text/plain": [
       "LogisticRegression()"
      ]
     },
     "execution_count": 217,
     "metadata": {},
     "output_type": "execute_result"
    }
   ],
   "source": [
    "log_op"
   ]
  },
  {
   "cell_type": "code",
   "execution_count": 218,
   "id": "5Mb4R6kF-JNl",
   "metadata": {
    "executionInfo": {
     "elapsed": 26,
     "status": "ok",
     "timestamp": 1664002837375,
     "user": {
      "displayName": "Bansal Sahil",
      "userId": "09246232949994325052"
     },
     "user_tz": -330
    },
    "id": "5Mb4R6kF-JNl"
   },
   "outputs": [],
   "source": [
    "y_predict_prob = log_op.predict_proba(x_test)"
   ]
  },
  {
   "cell_type": "code",
   "execution_count": 219,
   "id": "mo0HpgJU-Tf6",
   "metadata": {
    "executionInfo": {
     "elapsed": 26,
     "status": "ok",
     "timestamp": 1664002837375,
     "user": {
      "displayName": "Bansal Sahil",
      "userId": "09246232949994325052"
     },
     "user_tz": -330
    },
    "id": "mo0HpgJU-Tf6"
   },
   "outputs": [],
   "source": [
    "y_predict_prob_class_1 = y_predict_prob[:,1]"
   ]
  },
  {
   "cell_type": "code",
   "execution_count": 220,
   "id": "BqvGa7Ie-Uha",
   "metadata": {
    "executionInfo": {
     "elapsed": 26,
     "status": "ok",
     "timestamp": 1664002837376,
     "user": {
      "displayName": "Bansal Sahil",
      "userId": "09246232949994325052"
     },
     "user_tz": -330
    },
    "id": "BqvGa7Ie-Uha"
   },
   "outputs": [],
   "source": [
    "y_predict_class = [1 if prob > 0.4 else 0 for prob in y_predict_prob_class_1]"
   ]
  },
  {
   "cell_type": "code",
   "execution_count": 221,
   "id": "YgygaLTs-Wyx",
   "metadata": {
    "colab": {
     "base_uri": "https://localhost:8080/"
    },
    "executionInfo": {
     "elapsed": 26,
     "status": "ok",
     "timestamp": 1664002837376,
     "user": {
      "displayName": "Bansal Sahil",
      "userId": "09246232949994325052"
     },
     "user_tz": -330
    },
    "id": "YgygaLTs-Wyx",
    "outputId": "b8f46cae-7597-41e0-ccd2-a2779243f41a"
   },
   "outputs": [
    {
     "name": "stdout",
     "output_type": "stream",
     "text": [
      "Accuracy: 0.8673\n"
     ]
    }
   ],
   "source": [
    "print(\"Accuracy:\", round(accuracy_score(y_test, y_predict_class), 4))"
   ]
  },
  {
   "cell_type": "code",
   "execution_count": 222,
   "id": "jtXCcxRd-ZuR",
   "metadata": {
    "colab": {
     "base_uri": "https://localhost:8080/"
    },
    "executionInfo": {
     "elapsed": 24,
     "status": "ok",
     "timestamp": 1664002837376,
     "user": {
      "displayName": "Bansal Sahil",
      "userId": "09246232949994325052"
     },
     "user_tz": -330
    },
    "id": "jtXCcxRd-ZuR",
    "outputId": "c3008372-f72a-4866-ab49-8010375ea0ac"
   },
   "outputs": [
    {
     "data": {
      "text/plain": [
       "0.6388888888888888"
      ]
     },
     "execution_count": 222,
     "metadata": {},
     "output_type": "execute_result"
    }
   ],
   "source": [
    "#Precision\n",
    "from sklearn import metrics\n",
    "metrics.precision_score(y_test, y_predict_class)"
   ]
  },
  {
   "cell_type": "code",
   "execution_count": 223,
   "id": "jUyvn_7F_Jah",
   "metadata": {
    "colab": {
     "base_uri": "https://localhost:8080/"
    },
    "executionInfo": {
     "elapsed": 22,
     "status": "ok",
     "timestamp": 1664002837376,
     "user": {
      "displayName": "Bansal Sahil",
      "userId": "09246232949994325052"
     },
     "user_tz": -330
    },
    "id": "jUyvn_7F_Jah",
    "outputId": "2658b178-613d-4344-c15a-bfaf32550e4e"
   },
   "outputs": [
    {
     "data": {
      "text/plain": [
       "0.46938775510204084"
      ]
     },
     "execution_count": 223,
     "metadata": {},
     "output_type": "execute_result"
    }
   ],
   "source": [
    "#Recall\n",
    "from sklearn.metrics import recall_score\n",
    "recall_score(y_test, y_predict_class)"
   ]
  },
  {
   "cell_type": "code",
   "execution_count": 224,
   "id": "JnpoNNnn_OR0",
   "metadata": {
    "colab": {
     "base_uri": "https://localhost:8080/"
    },
    "executionInfo": {
     "elapsed": 20,
     "status": "ok",
     "timestamp": 1664002837376,
     "user": {
      "displayName": "Bansal Sahil",
      "userId": "09246232949994325052"
     },
     "user_tz": -330
    },
    "id": "JnpoNNnn_OR0",
    "outputId": "d443de6b-fd98-44f8-e66f-a8ad37f77291"
   },
   "outputs": [
    {
     "data": {
      "text/plain": [
       "0.5411764705882353"
      ]
     },
     "execution_count": 224,
     "metadata": {},
     "output_type": "execute_result"
    }
   ],
   "source": [
    "#F-1 Score\n",
    "from sklearn.metrics import f1_score\n",
    "f1_score(y_test, y_predict_class)"
   ]
  },
  {
   "cell_type": "code",
   "execution_count": 225,
   "id": "5RocX9ov_Sin",
   "metadata": {
    "colab": {
     "base_uri": "https://localhost:8080/"
    },
    "executionInfo": {
     "elapsed": 18,
     "status": "ok",
     "timestamp": 1664002837377,
     "user": {
      "displayName": "Bansal Sahil",
      "userId": "09246232949994325052"
     },
     "user_tz": -330
    },
    "id": "5RocX9ov_Sin",
    "outputId": "13c331d9-1e00-4955-b4e9-e73be2efcb92"
   },
   "outputs": [
    {
     "data": {
      "text/plain": [
       "array([[232,  13],\n",
       "       [ 26,  23]])"
      ]
     },
     "execution_count": 225,
     "metadata": {},
     "output_type": "execute_result"
    }
   ],
   "source": [
    "#Generating the Confusion Matrix\n",
    "lr_cm=confusion_matrix(y_test,y_predict_class)\n",
    "lr_cm"
   ]
  },
  {
   "cell_type": "code",
   "execution_count": 226,
   "id": "5etR9n7D0g9p",
   "metadata": {
    "colab": {
     "base_uri": "https://localhost:8080/",
     "height": 279
    },
    "executionInfo": {
     "elapsed": 15,
     "status": "ok",
     "timestamp": 1664002837377,
     "user": {
      "displayName": "Bansal Sahil",
      "userId": "09246232949994325052"
     },
     "user_tz": -330
    },
    "id": "5etR9n7D0g9p",
    "outputId": "0a3a9e5d-846e-4451-f5de-ad4f1facb6d5"
   },
   "outputs": [
    {
     "data": {
      "image/png": "[encoded data removed]",
      "text/plain": [
       "<Figure size 432x288 with 2 Axes>"
      ]
     },
     "metadata": {
      "needs_background": "light"
     },
     "output_type": "display_data"
    }
   ],
   "source": [
    "#Visualising the Confusion Matrix\n",
    "from sklearn.metrics import ConfusionMatrixDisplay\n",
    "ConfusionMatrixDisplay.from_predictions(y_test,y_predict_class,cmap='Blues')\n",
    "plt.show()"
   ]
  },
  {
   "cell_type": "code",
   "execution_count": 226,
   "id": "h4JcS2M-061C",
   "metadata": {
    "executionInfo": {
     "elapsed": 14,
     "status": "ok",
     "timestamp": 1664002837377,
     "user": {
      "displayName": "Bansal Sahil",
      "userId": "09246232949994325052"
     },
     "user_tz": -330
    },
    "id": "h4JcS2M-061C"
   },
   "outputs": [],
   "source": []
  }
 ],
 "metadata": {
  "colab": {
   "collapsed_sections": [],
   "provenance": []
  },
  "kernelspec": {
   "display_name": "Python 3 (ipykernel)",
   "language": "python",
   "name": "python3"
  },
  "language_info": {
   "codemirror_mode": {
    "name": "ipython",
    "version": 3
   },
   "file_extension": ".py",
   "mimetype": "text/x-python",
   "name": "python",
   "nbconvert_exporter": "python",
   "pygments_lexer": "ipython3",
   "version": "3.9.12"
  }
 },
 "nbformat": 4,
 "nbformat_minor": 5
}
